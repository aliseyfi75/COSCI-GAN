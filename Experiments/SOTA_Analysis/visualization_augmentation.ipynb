{
 "cells": [
  {
   "cell_type": "code",
   "execution_count": 149,
   "metadata": {},
   "outputs": [],
   "source": [
    "import pandas as pd\n",
    "import plotly.express as px\n",
    "import plotly.graph_objects as go\n",
    "import pickle\n",
    "import numpy as np\n",
    "from scipy import stats"
   ]
  },
  {
   "cell_type": "code",
   "execution_count": 150,
   "metadata": {},
   "outputs": [],
   "source": [
    "temp_dict = pickle.load(open(f'all/augmentation_final_scores_0.5_5.pkl', 'rb'))\n",
    "temp_reform = {(outerKey, innerKey): values for outerKey, innerDict in temp_dict.items() for innerKey, values in innerDict.items()}\n",
    "dfs = pd.DataFrame(temp_reform)\n",
    "dfs_not_melted = dfs\n",
    "dfs_melted = dfs.reset_index().melt(id_vars=['index'])\n",
    "all_dfs = dfs_melted"
   ]
  },
  {
   "cell_type": "code",
   "execution_count": 151,
   "metadata": {},
   "outputs": [],
   "source": [
    "temp_dict = pickle.load(open(f'old/augmentation_final_scores_0.5_5.pkl', 'rb'))\n",
    "temp_reform = {(outerKey, innerKey): values for outerKey, innerDict in temp_dict.items() for innerKey, values in innerDict.items()}\n",
    "dfs = pd.DataFrame(temp_reform)\n",
    "dfs_not_melted = pd.concat([dfs_not_melted, dfs], axis=1)\n",
    "dfs_melted = dfs.reset_index().melt(id_vars=['index'])\n",
    "all_dfs = all_dfs.append(dfs_melted)"
   ]
  },
  {
   "cell_type": "code",
   "execution_count": 152,
   "metadata": {},
   "outputs": [],
   "source": [
    "temp_dict = pickle.load(open(f'new/augmentation_final_scores_0.5_5.pkl', 'rb'))\n",
    "dfs = pd.DataFrame(temp_dict)\n",
    "dfs_not_melted = pd.concat([dfs_not_melted, dfs], axis=1)\n",
    "dfs_melted = dfs.reset_index().melt(id_vars=['index'])\n",
    "all_dfs = all_dfs.append(dfs_melted)"
   ]
  },
  {
   "cell_type": "code",
   "execution_count": 153,
   "metadata": {},
   "outputs": [],
   "source": [
    "all_dfs = all_dfs.drop(['variable_0', 'variable_1', 'variable'], axis=1)"
   ]
  },
  {
   "cell_type": "code",
   "execution_count": 154,
   "metadata": {},
   "outputs": [],
   "source": [
    "all_dfs.replace('groupgan', 'Group GAN', inplace=True)\n",
    "all_dfs.replace('timegan', 'Time GAN', inplace=True)\n",
    "all_dfs.replace('ff', 'Fourier Flows', inplace=True)\n",
    "all_dfs.replace('real', 'Real', inplace=True)"
   ]
  },
  {
   "cell_type": "code",
   "execution_count": 155,
   "metadata": {},
   "outputs": [
    {
     "data": {
      "application/vnd.plotly.v1+json": {
       "config": {
        "plotlyServerURL": "https://plot.ly"
       },
       "data": [
        {
         "alignmentgroup": "True",
         "hovertemplate": "Model=%{x}<br>Accuracy=%{y}<extra></extra>",
         "legendgroup": "Group GAN",
         "marker": {
          "color": "green"
         },
         "name": "Group GAN",
         "notched": false,
         "offsetgroup": "Group GAN",
         "orientation": "v",
         "showlegend": true,
         "type": "box",
         "x": [
          "Group GAN",
          "Group GAN",
          "Group GAN",
          "Group GAN",
          "Group GAN",
          "Group GAN",
          "Group GAN",
          "Group GAN",
          "Group GAN",
          "Group GAN",
          "Group GAN",
          "Group GAN",
          "Group GAN",
          "Group GAN",
          "Group GAN",
          "Group GAN",
          "Group GAN",
          "Group GAN",
          "Group GAN",
          "Group GAN",
          "Group GAN",
          "Group GAN",
          "Group GAN",
          "Group GAN",
          "Group GAN",
          "Group GAN",
          "Group GAN",
          "Group GAN",
          "Group GAN",
          "Group GAN",
          "Group GAN",
          "Group GAN",
          "Group GAN",
          "Group GAN",
          "Group GAN",
          "Group GAN",
          "Group GAN",
          "Group GAN",
          "Group GAN",
          "Group GAN",
          "Group GAN",
          "Group GAN",
          "Group GAN",
          "Group GAN",
          "Group GAN",
          "Group GAN",
          "Group GAN",
          "Group GAN",
          "Group GAN",
          "Group GAN",
          "Group GAN",
          "Group GAN",
          "Group GAN",
          "Group GAN",
          "Group GAN",
          "Group GAN",
          "Group GAN",
          "Group GAN",
          "Group GAN",
          "Group GAN",
          "Group GAN",
          "Group GAN",
          "Group GAN",
          "Group GAN",
          "Group GAN"
         ],
         "x0": " ",
         "xaxis": "x",
         "y": [
          0.8609756097560975,
          0.7682926829268293,
          0.8829268292682927,
          0.926829268292683,
          0.9317073170731708,
          0.8073170731707318,
          0.9097560975609756,
          0.8219512195121951,
          0.9,
          0.8975609756097561,
          0.7853658536585366,
          0.9243902439024391,
          0.8,
          0.9170731707317074,
          0.8585365853658536,
          0.8414634146341463,
          0.9170731707317074,
          0.8951219512195122,
          0.9048780487804878,
          0.8780487804878049,
          0.7780487804878049,
          0.8414634146341463,
          0.8585365853658536,
          0.8634146341463415,
          0.8658536585365854,
          0.8414634146341463,
          0.8341463414634146,
          0.8073170731707318,
          0.848780487804878,
          0.8902439024390244,
          0.9097560975609756,
          0.926829268292683,
          0.8780487804878049,
          0.9121951219512195,
          0.8048780487804879,
          0.8926829268292683,
          0.7585365853658537,
          0.8585365853658536,
          0.9146341463414634,
          0.8658536585365854,
          0.7170731707317073,
          0.8365853658536585,
          0.8560975609756097,
          0.9121951219512195,
          0.8,
          0.8707317073170732,
          0.9219512195121952,
          0.9,
          0.9048780487804878,
          0.9024390243902439,
          0.8658536585365854,
          0.8219512195121951,
          0.802439024390244,
          0.8926829268292683,
          0.8195121951219512,
          0.9024390243902439,
          0.7804878048780488,
          0.9097560975609756,
          0.7634146341463415,
          0.848780487804878,
          0.9365853658536586,
          0.8926829268292683,
          0.8097560975609757,
          0.8317073170731707,
          0.8682926829268293
         ],
         "y0": " ",
         "yaxis": "y"
        },
        {
         "alignmentgroup": "True",
         "hovertemplate": "Model=%{x}<br>Accuracy=%{y}<extra></extra>",
         "legendgroup": "Fourier Flows",
         "marker": {
          "color": "orange"
         },
         "name": "Fourier Flows",
         "notched": false,
         "offsetgroup": "Fourier Flows",
         "orientation": "v",
         "showlegend": true,
         "type": "box",
         "x": [
          "Fourier Flows",
          "Fourier Flows",
          "Fourier Flows",
          "Fourier Flows",
          "Fourier Flows",
          "Fourier Flows",
          "Fourier Flows",
          "Fourier Flows",
          "Fourier Flows",
          "Fourier Flows",
          "Fourier Flows",
          "Fourier Flows",
          "Fourier Flows",
          "Fourier Flows",
          "Fourier Flows",
          "Fourier Flows",
          "Fourier Flows",
          "Fourier Flows",
          "Fourier Flows",
          "Fourier Flows",
          "Fourier Flows",
          "Fourier Flows",
          "Fourier Flows",
          "Fourier Flows",
          "Fourier Flows",
          "Fourier Flows",
          "Fourier Flows",
          "Fourier Flows",
          "Fourier Flows"
         ],
         "x0": " ",
         "xaxis": "x",
         "y": [
          0.8878048780487805,
          0.802439024390244,
          0.7853658536585366,
          0.8804878048780488,
          0.7951219512195122,
          0.8097560975609757,
          0.8658536585365854,
          0.7195121951219512,
          0.7878048780487805,
          0.7780487804878049,
          0.802439024390244,
          0.7878048780487805,
          0.748780487804878,
          0.8048780487804879,
          0.6804878048780488,
          0.8658536585365854,
          0.7609756097560976,
          0.875609756097561,
          0.848780487804878,
          0.8780487804878049,
          0.7658536585365854,
          0.8731707317073171,
          0.8268292682926829,
          0.8780487804878049,
          0.8219512195121951,
          0.8780487804878049,
          0.8878048780487805,
          0.8341463414634146,
          0.8585365853658536
         ],
         "y0": " ",
         "yaxis": "y"
        },
        {
         "alignmentgroup": "True",
         "hovertemplate": "Model=%{x}<br>Accuracy=%{y}<extra></extra>",
         "legendgroup": "Time GAN",
         "marker": {
          "color": "purple"
         },
         "name": "Time GAN",
         "notched": false,
         "offsetgroup": "Time GAN",
         "orientation": "v",
         "showlegend": true,
         "type": "box",
         "x": [
          "Time GAN",
          "Time GAN",
          "Time GAN",
          "Time GAN",
          "Time GAN",
          "Time GAN",
          "Time GAN",
          "Time GAN",
          "Time GAN",
          "Time GAN",
          "Time GAN",
          "Time GAN",
          "Time GAN",
          "Time GAN",
          "Time GAN",
          "Time GAN",
          "Time GAN",
          "Time GAN",
          "Time GAN",
          "Time GAN",
          "Time GAN",
          "Time GAN",
          "Time GAN",
          "Time GAN",
          "Time GAN",
          "Time GAN",
          "Time GAN",
          "Time GAN",
          "Time GAN",
          "Time GAN",
          "Time GAN",
          "Time GAN",
          "Time GAN",
          "Time GAN",
          "Time GAN",
          "Time GAN",
          "Time GAN",
          "Time GAN",
          "Time GAN",
          "Time GAN",
          "Time GAN",
          "Time GAN",
          "Time GAN",
          "Time GAN",
          "Time GAN",
          "Time GAN",
          "Time GAN",
          "Time GAN",
          "Time GAN",
          "Time GAN",
          "Time GAN",
          "Time GAN",
          "Time GAN",
          "Time GAN",
          "Time GAN",
          "Time GAN",
          "Time GAN",
          "Time GAN",
          "Time GAN",
          "Time GAN",
          "Time GAN",
          "Time GAN",
          "Time GAN",
          "Time GAN",
          "Time GAN"
         ],
         "x0": " ",
         "xaxis": "x",
         "y": [
          0.8,
          0.6268292682926829,
          0.7414634146341463,
          0.848780487804878,
          0.8439024390243902,
          0.7292682926829268,
          0.8853658536585366,
          0.8073170731707318,
          0.8195121951219512,
          0.875609756097561,
          0.7121951219512195,
          0.8634146341463415,
          0.8268292682926829,
          0.7951219512195122,
          0.7390243902439024,
          0.8634146341463415,
          0.6902439024390243,
          0.8292682926829268,
          0.8536585365853658,
          0.5365853658536586,
          0.7926829268292683,
          0.8658536585365854,
          0.7682926829268293,
          0.7829268292682927,
          0.8609756097560975,
          0.8121951219512196,
          0.8365853658536585,
          0.7341463414634146,
          0.8536585365853658,
          0.6731707317073171,
          0.8560975609756097,
          0.8268292682926829,
          0.8195121951219512,
          0.7878048780487805,
          0.7780487804878049,
          0.8146341463414634,
          0.7975609756097561,
          0.848780487804878,
          0.8585365853658536,
          0.7951219512195122,
          0.7121951219512195,
          0.7560975609756098,
          0.7926829268292683,
          0.8707317073170732,
          0.675609756097561,
          0.7731707317073171,
          0.748780487804878,
          0.6097560975609756,
          0.8195121951219512,
          0.697560975609756,
          0.8170731707317073,
          0.6024390243902439,
          0.8292682926829268,
          0.6317073170731707,
          0.7682926829268293,
          0.8634146341463415,
          0.8195121951219512,
          0.8292682926829268,
          0.7170731707317073,
          0.7780487804878049,
          0.8829268292682927,
          0.6853658536585366,
          0.697560975609756,
          0.8195121951219512,
          0.8658536585365854
         ],
         "y0": " ",
         "yaxis": "y"
        },
        {
         "alignmentgroup": "True",
         "hovertemplate": "Model=%{x}<br>Accuracy=%{y}<extra></extra>",
         "legendgroup": "Real",
         "marker": {
          "color": "blue"
         },
         "name": "Real",
         "notched": false,
         "offsetgroup": "Real",
         "orientation": "v",
         "showlegend": true,
         "type": "box",
         "x": [
          "Real",
          "Real",
          "Real",
          "Real",
          "Real",
          "Real",
          "Real",
          "Real",
          "Real",
          "Real",
          "Real",
          "Real",
          "Real",
          "Real",
          "Real",
          "Real",
          "Real",
          "Real",
          "Real",
          "Real",
          "Real",
          "Real",
          "Real",
          "Real",
          "Real",
          "Real",
          "Real",
          "Real",
          "Real",
          "Real",
          "Real",
          "Real",
          "Real",
          "Real",
          "Real",
          "Real",
          "Real",
          "Real",
          "Real",
          "Real",
          "Real",
          "Real",
          "Real",
          "Real",
          "Real",
          "Real",
          "Real",
          "Real",
          "Real",
          "Real",
          "Real",
          "Real",
          "Real",
          "Real",
          "Real",
          "Real",
          "Real",
          "Real",
          "Real",
          "Real",
          "Real",
          "Real",
          "Real",
          "Real",
          "Real"
         ],
         "x0": " ",
         "xaxis": "x",
         "y": [
          0.7560975609756098,
          0.8609756097560975,
          0.7195121951219512,
          0.6365853658536585,
          0.6365853658536585,
          0.6439024390243903,
          0.6902439024390243,
          0.697560975609756,
          0.7853658536585366,
          0.7536585365853659,
          0.7170731707317073,
          0.8219512195121951,
          0.6658536585365854,
          0.6219512195121951,
          0.7219512195121951,
          0.751219512195122,
          0.7341463414634146,
          0.6292682926829268,
          0.6365853658536585,
          0.6780487804878049,
          0.7707317073170732,
          0.675609756097561,
          0.5682926829268292,
          0.7439024390243902,
          0.6926829268292682,
          0.7317073170731707,
          0.6390243902439025,
          0.7390243902439024,
          0.5804878048780487,
          0.802439024390244,
          0.7658536585365854,
          0.7048780487804878,
          0.7365853658536585,
          0.6292682926829268,
          0.6878048780487804,
          0.6878048780487804,
          0.7024390243902439,
          0.7195121951219512,
          0.7219512195121951,
          0.6463414634146342,
          0.724390243902439,
          0.5756097560975609,
          0.6780487804878049,
          0.6804878048780488,
          0.7292682926829268,
          0.5780487804878048,
          0.6878048780487804,
          0.6658536585365854,
          0.7463414634146341,
          0.6097560975609756,
          0.7121951219512195,
          0.6146341463414634,
          0.7170731707317073,
          0.7365853658536585,
          0.6658536585365854,
          0.7195121951219512,
          0.6829268292682927,
          0.675609756097561,
          0.6634146341463415,
          0.8170731707317073,
          0.6804878048780488,
          0.6682926829268293,
          0.7878048780487805,
          0.7975609756097561,
          0.7097560975609756
         ],
         "y0": " ",
         "yaxis": "y"
        }
       ],
       "layout": {
        "boxmode": "overlay",
        "font": {
         "size": 20
        },
        "height": 500,
        "legend": {
         "title": {
          "text": "Model"
         },
         "tracegroupgap": 0
        },
        "margin": {
         "b": 0,
         "l": 0,
         "r": 0,
         "t": 0
        },
        "showlegend": false,
        "template": {
         "data": {
          "bar": [
           {
            "error_x": {
             "color": "#2a3f5f"
            },
            "error_y": {
             "color": "#2a3f5f"
            },
            "marker": {
             "line": {
              "color": "#E5ECF6",
              "width": 0.5
             },
             "pattern": {
              "fillmode": "overlay",
              "size": 10,
              "solidity": 0.2
             }
            },
            "type": "bar"
           }
          ],
          "barpolar": [
           {
            "marker": {
             "line": {
              "color": "#E5ECF6",
              "width": 0.5
             },
             "pattern": {
              "fillmode": "overlay",
              "size": 10,
              "solidity": 0.2
             }
            },
            "type": "barpolar"
           }
          ],
          "carpet": [
           {
            "aaxis": {
             "endlinecolor": "#2a3f5f",
             "gridcolor": "white",
             "linecolor": "white",
             "minorgridcolor": "white",
             "startlinecolor": "#2a3f5f"
            },
            "baxis": {
             "endlinecolor": "#2a3f5f",
             "gridcolor": "white",
             "linecolor": "white",
             "minorgridcolor": "white",
             "startlinecolor": "#2a3f5f"
            },
            "type": "carpet"
           }
          ],
          "choropleth": [
           {
            "colorbar": {
             "outlinewidth": 0,
             "ticks": ""
            },
            "type": "choropleth"
           }
          ],
          "contour": [
           {
            "colorbar": {
             "outlinewidth": 0,
             "ticks": ""
            },
            "colorscale": [
             [
              0,
              "#0d0887"
             ],
             [
              0.1111111111111111,
              "#46039f"
             ],
             [
              0.2222222222222222,
              "#7201a8"
             ],
             [
              0.3333333333333333,
              "#9c179e"
             ],
             [
              0.4444444444444444,
              "#bd3786"
             ],
             [
              0.5555555555555556,
              "#d8576b"
             ],
             [
              0.6666666666666666,
              "#ed7953"
             ],
             [
              0.7777777777777778,
              "#fb9f3a"
             ],
             [
              0.8888888888888888,
              "#fdca26"
             ],
             [
              1,
              "#f0f921"
             ]
            ],
            "type": "contour"
           }
          ],
          "contourcarpet": [
           {
            "colorbar": {
             "outlinewidth": 0,
             "ticks": ""
            },
            "type": "contourcarpet"
           }
          ],
          "heatmap": [
           {
            "colorbar": {
             "outlinewidth": 0,
             "ticks": ""
            },
            "colorscale": [
             [
              0,
              "#0d0887"
             ],
             [
              0.1111111111111111,
              "#46039f"
             ],
             [
              0.2222222222222222,
              "#7201a8"
             ],
             [
              0.3333333333333333,
              "#9c179e"
             ],
             [
              0.4444444444444444,
              "#bd3786"
             ],
             [
              0.5555555555555556,
              "#d8576b"
             ],
             [
              0.6666666666666666,
              "#ed7953"
             ],
             [
              0.7777777777777778,
              "#fb9f3a"
             ],
             [
              0.8888888888888888,
              "#fdca26"
             ],
             [
              1,
              "#f0f921"
             ]
            ],
            "type": "heatmap"
           }
          ],
          "heatmapgl": [
           {
            "colorbar": {
             "outlinewidth": 0,
             "ticks": ""
            },
            "colorscale": [
             [
              0,
              "#0d0887"
             ],
             [
              0.1111111111111111,
              "#46039f"
             ],
             [
              0.2222222222222222,
              "#7201a8"
             ],
             [
              0.3333333333333333,
              "#9c179e"
             ],
             [
              0.4444444444444444,
              "#bd3786"
             ],
             [
              0.5555555555555556,
              "#d8576b"
             ],
             [
              0.6666666666666666,
              "#ed7953"
             ],
             [
              0.7777777777777778,
              "#fb9f3a"
             ],
             [
              0.8888888888888888,
              "#fdca26"
             ],
             [
              1,
              "#f0f921"
             ]
            ],
            "type": "heatmapgl"
           }
          ],
          "histogram": [
           {
            "marker": {
             "pattern": {
              "fillmode": "overlay",
              "size": 10,
              "solidity": 0.2
             }
            },
            "type": "histogram"
           }
          ],
          "histogram2d": [
           {
            "colorbar": {
             "outlinewidth": 0,
             "ticks": ""
            },
            "colorscale": [
             [
              0,
              "#0d0887"
             ],
             [
              0.1111111111111111,
              "#46039f"
             ],
             [
              0.2222222222222222,
              "#7201a8"
             ],
             [
              0.3333333333333333,
              "#9c179e"
             ],
             [
              0.4444444444444444,
              "#bd3786"
             ],
             [
              0.5555555555555556,
              "#d8576b"
             ],
             [
              0.6666666666666666,
              "#ed7953"
             ],
             [
              0.7777777777777778,
              "#fb9f3a"
             ],
             [
              0.8888888888888888,
              "#fdca26"
             ],
             [
              1,
              "#f0f921"
             ]
            ],
            "type": "histogram2d"
           }
          ],
          "histogram2dcontour": [
           {
            "colorbar": {
             "outlinewidth": 0,
             "ticks": ""
            },
            "colorscale": [
             [
              0,
              "#0d0887"
             ],
             [
              0.1111111111111111,
              "#46039f"
             ],
             [
              0.2222222222222222,
              "#7201a8"
             ],
             [
              0.3333333333333333,
              "#9c179e"
             ],
             [
              0.4444444444444444,
              "#bd3786"
             ],
             [
              0.5555555555555556,
              "#d8576b"
             ],
             [
              0.6666666666666666,
              "#ed7953"
             ],
             [
              0.7777777777777778,
              "#fb9f3a"
             ],
             [
              0.8888888888888888,
              "#fdca26"
             ],
             [
              1,
              "#f0f921"
             ]
            ],
            "type": "histogram2dcontour"
           }
          ],
          "mesh3d": [
           {
            "colorbar": {
             "outlinewidth": 0,
             "ticks": ""
            },
            "type": "mesh3d"
           }
          ],
          "parcoords": [
           {
            "line": {
             "colorbar": {
              "outlinewidth": 0,
              "ticks": ""
             }
            },
            "type": "parcoords"
           }
          ],
          "pie": [
           {
            "automargin": true,
            "type": "pie"
           }
          ],
          "scatter": [
           {
            "marker": {
             "colorbar": {
              "outlinewidth": 0,
              "ticks": ""
             }
            },
            "type": "scatter"
           }
          ],
          "scatter3d": [
           {
            "line": {
             "colorbar": {
              "outlinewidth": 0,
              "ticks": ""
             }
            },
            "marker": {
             "colorbar": {
              "outlinewidth": 0,
              "ticks": ""
             }
            },
            "type": "scatter3d"
           }
          ],
          "scattercarpet": [
           {
            "marker": {
             "colorbar": {
              "outlinewidth": 0,
              "ticks": ""
             }
            },
            "type": "scattercarpet"
           }
          ],
          "scattergeo": [
           {
            "marker": {
             "colorbar": {
              "outlinewidth": 0,
              "ticks": ""
             }
            },
            "type": "scattergeo"
           }
          ],
          "scattergl": [
           {
            "marker": {
             "colorbar": {
              "outlinewidth": 0,
              "ticks": ""
             }
            },
            "type": "scattergl"
           }
          ],
          "scattermapbox": [
           {
            "marker": {
             "colorbar": {
              "outlinewidth": 0,
              "ticks": ""
             }
            },
            "type": "scattermapbox"
           }
          ],
          "scatterpolar": [
           {
            "marker": {
             "colorbar": {
              "outlinewidth": 0,
              "ticks": ""
             }
            },
            "type": "scatterpolar"
           }
          ],
          "scatterpolargl": [
           {
            "marker": {
             "colorbar": {
              "outlinewidth": 0,
              "ticks": ""
             }
            },
            "type": "scatterpolargl"
           }
          ],
          "scatterternary": [
           {
            "marker": {
             "colorbar": {
              "outlinewidth": 0,
              "ticks": ""
             }
            },
            "type": "scatterternary"
           }
          ],
          "surface": [
           {
            "colorbar": {
             "outlinewidth": 0,
             "ticks": ""
            },
            "colorscale": [
             [
              0,
              "#0d0887"
             ],
             [
              0.1111111111111111,
              "#46039f"
             ],
             [
              0.2222222222222222,
              "#7201a8"
             ],
             [
              0.3333333333333333,
              "#9c179e"
             ],
             [
              0.4444444444444444,
              "#bd3786"
             ],
             [
              0.5555555555555556,
              "#d8576b"
             ],
             [
              0.6666666666666666,
              "#ed7953"
             ],
             [
              0.7777777777777778,
              "#fb9f3a"
             ],
             [
              0.8888888888888888,
              "#fdca26"
             ],
             [
              1,
              "#f0f921"
             ]
            ],
            "type": "surface"
           }
          ],
          "table": [
           {
            "cells": {
             "fill": {
              "color": "#EBF0F8"
             },
             "line": {
              "color": "white"
             }
            },
            "header": {
             "fill": {
              "color": "#C8D4E3"
             },
             "line": {
              "color": "white"
             }
            },
            "type": "table"
           }
          ]
         },
         "layout": {
          "annotationdefaults": {
           "arrowcolor": "#2a3f5f",
           "arrowhead": 0,
           "arrowwidth": 1
          },
          "autotypenumbers": "strict",
          "coloraxis": {
           "colorbar": {
            "outlinewidth": 0,
            "ticks": ""
           }
          },
          "colorscale": {
           "diverging": [
            [
             0,
             "#8e0152"
            ],
            [
             0.1,
             "#c51b7d"
            ],
            [
             0.2,
             "#de77ae"
            ],
            [
             0.3,
             "#f1b6da"
            ],
            [
             0.4,
             "#fde0ef"
            ],
            [
             0.5,
             "#f7f7f7"
            ],
            [
             0.6,
             "#e6f5d0"
            ],
            [
             0.7,
             "#b8e186"
            ],
            [
             0.8,
             "#7fbc41"
            ],
            [
             0.9,
             "#4d9221"
            ],
            [
             1,
             "#276419"
            ]
           ],
           "sequential": [
            [
             0,
             "#0d0887"
            ],
            [
             0.1111111111111111,
             "#46039f"
            ],
            [
             0.2222222222222222,
             "#7201a8"
            ],
            [
             0.3333333333333333,
             "#9c179e"
            ],
            [
             0.4444444444444444,
             "#bd3786"
            ],
            [
             0.5555555555555556,
             "#d8576b"
            ],
            [
             0.6666666666666666,
             "#ed7953"
            ],
            [
             0.7777777777777778,
             "#fb9f3a"
            ],
            [
             0.8888888888888888,
             "#fdca26"
            ],
            [
             1,
             "#f0f921"
            ]
           ],
           "sequentialminus": [
            [
             0,
             "#0d0887"
            ],
            [
             0.1111111111111111,
             "#46039f"
            ],
            [
             0.2222222222222222,
             "#7201a8"
            ],
            [
             0.3333333333333333,
             "#9c179e"
            ],
            [
             0.4444444444444444,
             "#bd3786"
            ],
            [
             0.5555555555555556,
             "#d8576b"
            ],
            [
             0.6666666666666666,
             "#ed7953"
            ],
            [
             0.7777777777777778,
             "#fb9f3a"
            ],
            [
             0.8888888888888888,
             "#fdca26"
            ],
            [
             1,
             "#f0f921"
            ]
           ]
          },
          "colorway": [
           "#636efa",
           "#EF553B",
           "#00cc96",
           "#ab63fa",
           "#FFA15A",
           "#19d3f3",
           "#FF6692",
           "#B6E880",
           "#FF97FF",
           "#FECB52"
          ],
          "font": {
           "color": "#2a3f5f"
          },
          "geo": {
           "bgcolor": "white",
           "lakecolor": "white",
           "landcolor": "#E5ECF6",
           "showlakes": true,
           "showland": true,
           "subunitcolor": "white"
          },
          "hoverlabel": {
           "align": "left"
          },
          "hovermode": "closest",
          "mapbox": {
           "style": "light"
          },
          "paper_bgcolor": "white",
          "plot_bgcolor": "#E5ECF6",
          "polar": {
           "angularaxis": {
            "gridcolor": "white",
            "linecolor": "white",
            "ticks": ""
           },
           "bgcolor": "#E5ECF6",
           "radialaxis": {
            "gridcolor": "white",
            "linecolor": "white",
            "ticks": ""
           }
          },
          "scene": {
           "xaxis": {
            "backgroundcolor": "#E5ECF6",
            "gridcolor": "white",
            "gridwidth": 2,
            "linecolor": "white",
            "showbackground": true,
            "ticks": "",
            "zerolinecolor": "white"
           },
           "yaxis": {
            "backgroundcolor": "#E5ECF6",
            "gridcolor": "white",
            "gridwidth": 2,
            "linecolor": "white",
            "showbackground": true,
            "ticks": "",
            "zerolinecolor": "white"
           },
           "zaxis": {
            "backgroundcolor": "#E5ECF6",
            "gridcolor": "white",
            "gridwidth": 2,
            "linecolor": "white",
            "showbackground": true,
            "ticks": "",
            "zerolinecolor": "white"
           }
          },
          "shapedefaults": {
           "line": {
            "color": "#2a3f5f"
           }
          },
          "ternary": {
           "aaxis": {
            "gridcolor": "white",
            "linecolor": "white",
            "ticks": ""
           },
           "baxis": {
            "gridcolor": "white",
            "linecolor": "white",
            "ticks": ""
           },
           "bgcolor": "#E5ECF6",
           "caxis": {
            "gridcolor": "white",
            "linecolor": "white",
            "ticks": ""
           }
          },
          "title": {
           "x": 0.05
          },
          "xaxis": {
           "automargin": true,
           "gridcolor": "white",
           "linecolor": "white",
           "ticks": "",
           "title": {
            "standoff": 15
           },
           "zerolinecolor": "white",
           "zerolinewidth": 2
          },
          "yaxis": {
           "automargin": true,
           "gridcolor": "white",
           "linecolor": "white",
           "ticks": "",
           "title": {
            "standoff": 15
           },
           "zerolinecolor": "white",
           "zerolinewidth": 2
          }
         }
        },
        "width": 700,
        "xaxis": {
         "anchor": "y",
         "categoryarray": [
          "Group GAN",
          "Fourier Flows",
          "Time GAN",
          "Real"
         ],
         "categoryorder": "array",
         "domain": [
          0,
          1
         ],
         "showgrid": false,
         "showline": true,
         "title": {
          "text": ""
         },
         "zeroline": true
        },
        "yaxis": {
         "anchor": "x",
         "domain": [
          0,
          1
         ],
         "dtick": 0.05,
         "tick0": 0,
         "tickprefix": "",
         "title": {
          "text": "Accuracy"
         }
        }
       }
      }
     },
     "metadata": {},
     "output_type": "display_data"
    }
   ],
   "source": [
    "fig = px.box(all_dfs,\n",
    "             x='index', \n",
    "             y='value', \n",
    "             color='index', \n",
    "             labels={'index': 'Model', 'value': 'Accuracy'}, \n",
    "             color_discrete_sequence=['green', 'orange', 'purple', 'blue'],\n",
    "             category_orders={\"index\": [\"Group GAN\", \"Fourier Flows\", \"Time GAN\", \"Real\"]})\n",
    "# make yticks more accurate\n",
    "fig.update_yaxes(tickprefix=\"\",\n",
    "                    tick0=0,\n",
    "                    dtick=0.05)\n",
    "fig.update_layout(showlegend=False, margin=dict(l=0, r=0, b=0, t=0), font=dict(size=20), width=700, height=500)\n",
    "# remove the x-axis title\n",
    "fig.update_xaxes(title_text=\"\",\n",
    "                    showline=True,\n",
    "                    showgrid=False,\n",
    "                    zeroline=True)\n",
    "fig.show()"
   ]
  },
  {
   "cell_type": "code",
   "execution_count": 148,
   "metadata": {},
   "outputs": [],
   "source": [
    "fig.write_image(\"augmentation_sota.pdf\")"
   ]
  },
  {
   "cell_type": "code",
   "execution_count": 128,
   "metadata": {},
   "outputs": [
    {
     "data": {
      "text/plain": [
       "8.240363339041626e-10"
      ]
     },
     "execution_count": 128,
     "metadata": {},
     "output_type": "execute_result"
    }
   ],
   "source": [
    "pvalue = stats.ttest_ind(\n",
    "            all_dfs[all_dfs['index'] == 'GroupGAN']['value'],\n",
    "            all_dfs[all_dfs['index'] == 'Time GAN']['value'],\n",
    "            equal_var=False,\n",
    "        )[1]\n",
    "pvalue"
   ]
  },
  {
   "cell_type": "code",
   "execution_count": 129,
   "metadata": {},
   "outputs": [
    {
     "data": {
      "text/plain": [
       "nan"
      ]
     },
     "execution_count": 129,
     "metadata": {},
     "output_type": "execute_result"
    }
   ],
   "source": [
    "pvalue = stats.ttest_ind(\n",
    "            all_dfs[all_dfs['index'] == 'GroupGAN']['value'],\n",
    "            all_dfs[all_dfs['index'] == 'ff']['value'],\n",
    "            equal_var=False,\n",
    "        )[1]\n",
    "pvalue"
   ]
  },
  {
   "cell_type": "code",
   "execution_count": 191,
   "metadata": {},
   "outputs": [],
   "source": [
    "def add_anootation(fig, x0, x1, level, symbol):\n",
    "    level = level/30\n",
    "    fig.add_shape(type=\"line\",\n",
    "        xref=\"x\", yref=\"y\"+\" domain\",\n",
    "        x0=x0, y0=1.00 + level, \n",
    "        x1=x0, y1=0.98 + level,\n",
    "        line=dict(color='black', width=2,)\n",
    "    )\n",
    "    # Horizontal line\n",
    "    fig.add_shape(type=\"line\",\n",
    "        xref=\"x\", yref=\"y\"+\" domain\",\n",
    "        x0=x0, y0=1.00 + level,\n",
    "        x1=x1, y1=1.00 + level,\n",
    "        line=dict(color='black', width=2,)\n",
    "    )\n",
    "    # Vertical line\n",
    "    fig.add_shape(type=\"line\",\n",
    "        xref=\"x\", yref=\"y\"+\" domain\",\n",
    "        x0=x1, y0=1.00 + level,\n",
    "        x1=x1, y1=0.98 + level,\n",
    "        line=dict(color='black', width=2,)\n",
    "    )\n",
    "    ## add text at the correct x, y coordinates\n",
    "    ## for bars, there is a direct mapping from the bar number to 0, 1, 2...\n",
    "    fig.add_annotation(dict(font=dict(color='black',size=14),\n",
    "        x=(x0 + x1)/2,\n",
    "        y=1.04 + level,\n",
    "        showarrow=False,\n",
    "        text=symbol,\n",
    "        textangle=0,\n",
    "        xref=\"x\",\n",
    "        yref=\"y\"+\" domain\"\n",
    "    ))\n",
    "    return fig\n",
    "\n",
    "def symbol_generator(data_1, data_2):\n",
    "    pvalue = stats.ttest_ind(\n",
    "        data_1,\n",
    "        data_2,\n",
    "        equal_var=False,\n",
    "    )[1]\n",
    "    if pvalue >= 0.05:\n",
    "        symbol = 'ns'\n",
    "    elif pvalue >= 0.01: \n",
    "        symbol = '*'\n",
    "    elif pvalue >= 0.001:\n",
    "        symbol = '**'\n",
    "    else:\n",
    "        symbol = '***'\n",
    "    return symbol"
   ]
  },
  {
   "cell_type": "code",
   "execution_count": 196,
   "metadata": {},
   "outputs": [
    {
     "data": {
      "application/vnd.plotly.v1+json": {
       "config": {
        "plotlyServerURL": "https://plot.ly"
       },
       "data": [
        {
         "alignmentgroup": "True",
         "hovertemplate": "Model=%{x}<br>Accuracy=%{y}<extra></extra>",
         "legendgroup": "Group GAN",
         "marker": {
          "color": "green"
         },
         "name": "Group GAN",
         "notched": false,
         "offsetgroup": "Group GAN",
         "orientation": "v",
         "showlegend": true,
         "type": "box",
         "x": [
          "Group GAN",
          "Group GAN",
          "Group GAN",
          "Group GAN",
          "Group GAN",
          "Group GAN",
          "Group GAN",
          "Group GAN",
          "Group GAN",
          "Group GAN",
          "Group GAN",
          "Group GAN",
          "Group GAN",
          "Group GAN",
          "Group GAN",
          "Group GAN",
          "Group GAN",
          "Group GAN",
          "Group GAN",
          "Group GAN",
          "Group GAN",
          "Group GAN",
          "Group GAN",
          "Group GAN",
          "Group GAN",
          "Group GAN",
          "Group GAN",
          "Group GAN",
          "Group GAN",
          "Group GAN",
          "Group GAN",
          "Group GAN",
          "Group GAN",
          "Group GAN",
          "Group GAN",
          "Group GAN",
          "Group GAN",
          "Group GAN",
          "Group GAN",
          "Group GAN",
          "Group GAN",
          "Group GAN",
          "Group GAN",
          "Group GAN",
          "Group GAN",
          "Group GAN",
          "Group GAN",
          "Group GAN",
          "Group GAN",
          "Group GAN",
          "Group GAN",
          "Group GAN",
          "Group GAN",
          "Group GAN",
          "Group GAN",
          "Group GAN",
          "Group GAN",
          "Group GAN",
          "Group GAN",
          "Group GAN",
          "Group GAN",
          "Group GAN",
          "Group GAN",
          "Group GAN",
          "Group GAN"
         ],
         "x0": " ",
         "xaxis": "x",
         "y": [
          0.8609756097560975,
          0.7682926829268293,
          0.8829268292682927,
          0.926829268292683,
          0.9317073170731708,
          0.8073170731707318,
          0.9097560975609756,
          0.8219512195121951,
          0.9,
          0.8975609756097561,
          0.7853658536585366,
          0.9243902439024391,
          0.8,
          0.9170731707317074,
          0.8585365853658536,
          0.8414634146341463,
          0.9170731707317074,
          0.8951219512195122,
          0.9048780487804878,
          0.8780487804878049,
          0.7780487804878049,
          0.8414634146341463,
          0.8585365853658536,
          0.8634146341463415,
          0.8658536585365854,
          0.8414634146341463,
          0.8341463414634146,
          0.8073170731707318,
          0.848780487804878,
          0.8902439024390244,
          0.9097560975609756,
          0.926829268292683,
          0.8780487804878049,
          0.9121951219512195,
          0.8048780487804879,
          0.8926829268292683,
          0.7585365853658537,
          0.8585365853658536,
          0.9146341463414634,
          0.8658536585365854,
          0.7170731707317073,
          0.8365853658536585,
          0.8560975609756097,
          0.9121951219512195,
          0.8,
          0.8707317073170732,
          0.9219512195121952,
          0.9,
          0.9048780487804878,
          0.9024390243902439,
          0.8658536585365854,
          0.8219512195121951,
          0.802439024390244,
          0.8926829268292683,
          0.8195121951219512,
          0.9024390243902439,
          0.7804878048780488,
          0.9097560975609756,
          0.7634146341463415,
          0.848780487804878,
          0.9365853658536586,
          0.8926829268292683,
          0.8097560975609757,
          0.8317073170731707,
          0.8682926829268293
         ],
         "y0": " ",
         "yaxis": "y"
        },
        {
         "alignmentgroup": "True",
         "hovertemplate": "Model=%{x}<br>Accuracy=%{y}<extra></extra>",
         "legendgroup": "Fourier Flows",
         "marker": {
          "color": "orange"
         },
         "name": "Fourier Flows",
         "notched": false,
         "offsetgroup": "Fourier Flows",
         "orientation": "v",
         "showlegend": true,
         "type": "box",
         "x": [
          "Fourier Flows",
          "Fourier Flows",
          "Fourier Flows",
          "Fourier Flows",
          "Fourier Flows",
          "Fourier Flows",
          "Fourier Flows",
          "Fourier Flows",
          "Fourier Flows",
          "Fourier Flows",
          "Fourier Flows",
          "Fourier Flows",
          "Fourier Flows",
          "Fourier Flows",
          "Fourier Flows",
          "Fourier Flows",
          "Fourier Flows",
          "Fourier Flows",
          "Fourier Flows",
          "Fourier Flows",
          "Fourier Flows",
          "Fourier Flows",
          "Fourier Flows",
          "Fourier Flows",
          "Fourier Flows",
          "Fourier Flows",
          "Fourier Flows",
          "Fourier Flows",
          "Fourier Flows"
         ],
         "x0": " ",
         "xaxis": "x",
         "y": [
          0.8878048780487805,
          0.802439024390244,
          0.7853658536585366,
          0.8804878048780488,
          0.7951219512195122,
          0.8097560975609757,
          0.8658536585365854,
          0.7195121951219512,
          0.7878048780487805,
          0.7780487804878049,
          0.802439024390244,
          0.7878048780487805,
          0.748780487804878,
          0.8048780487804879,
          0.6804878048780488,
          0.8658536585365854,
          0.7609756097560976,
          0.875609756097561,
          0.848780487804878,
          0.8780487804878049,
          0.7658536585365854,
          0.8731707317073171,
          0.8268292682926829,
          0.8780487804878049,
          0.8219512195121951,
          0.8780487804878049,
          0.8878048780487805,
          0.8341463414634146,
          0.8585365853658536
         ],
         "y0": " ",
         "yaxis": "y"
        },
        {
         "alignmentgroup": "True",
         "hovertemplate": "Model=%{x}<br>Accuracy=%{y}<extra></extra>",
         "legendgroup": "Time GAN",
         "marker": {
          "color": "purple"
         },
         "name": "Time GAN",
         "notched": false,
         "offsetgroup": "Time GAN",
         "orientation": "v",
         "showlegend": true,
         "type": "box",
         "x": [
          "Time GAN",
          "Time GAN",
          "Time GAN",
          "Time GAN",
          "Time GAN",
          "Time GAN",
          "Time GAN",
          "Time GAN",
          "Time GAN",
          "Time GAN",
          "Time GAN",
          "Time GAN",
          "Time GAN",
          "Time GAN",
          "Time GAN",
          "Time GAN",
          "Time GAN",
          "Time GAN",
          "Time GAN",
          "Time GAN",
          "Time GAN",
          "Time GAN",
          "Time GAN",
          "Time GAN",
          "Time GAN",
          "Time GAN",
          "Time GAN",
          "Time GAN",
          "Time GAN",
          "Time GAN",
          "Time GAN",
          "Time GAN",
          "Time GAN",
          "Time GAN",
          "Time GAN",
          "Time GAN",
          "Time GAN",
          "Time GAN",
          "Time GAN",
          "Time GAN",
          "Time GAN",
          "Time GAN",
          "Time GAN",
          "Time GAN",
          "Time GAN",
          "Time GAN",
          "Time GAN",
          "Time GAN",
          "Time GAN",
          "Time GAN",
          "Time GAN",
          "Time GAN",
          "Time GAN",
          "Time GAN",
          "Time GAN",
          "Time GAN",
          "Time GAN",
          "Time GAN",
          "Time GAN",
          "Time GAN",
          "Time GAN",
          "Time GAN",
          "Time GAN",
          "Time GAN",
          "Time GAN"
         ],
         "x0": " ",
         "xaxis": "x",
         "y": [
          0.8,
          0.6268292682926829,
          0.7414634146341463,
          0.848780487804878,
          0.8439024390243902,
          0.7292682926829268,
          0.8853658536585366,
          0.8073170731707318,
          0.8195121951219512,
          0.875609756097561,
          0.7121951219512195,
          0.8634146341463415,
          0.8268292682926829,
          0.7951219512195122,
          0.7390243902439024,
          0.8634146341463415,
          0.6902439024390243,
          0.8292682926829268,
          0.8536585365853658,
          0.5365853658536586,
          0.7926829268292683,
          0.8658536585365854,
          0.7682926829268293,
          0.7829268292682927,
          0.8609756097560975,
          0.8121951219512196,
          0.8365853658536585,
          0.7341463414634146,
          0.8536585365853658,
          0.6731707317073171,
          0.8560975609756097,
          0.8268292682926829,
          0.8195121951219512,
          0.7878048780487805,
          0.7780487804878049,
          0.8146341463414634,
          0.7975609756097561,
          0.848780487804878,
          0.8585365853658536,
          0.7951219512195122,
          0.7121951219512195,
          0.7560975609756098,
          0.7926829268292683,
          0.8707317073170732,
          0.675609756097561,
          0.7731707317073171,
          0.748780487804878,
          0.6097560975609756,
          0.8195121951219512,
          0.697560975609756,
          0.8170731707317073,
          0.6024390243902439,
          0.8292682926829268,
          0.6317073170731707,
          0.7682926829268293,
          0.8634146341463415,
          0.8195121951219512,
          0.8292682926829268,
          0.7170731707317073,
          0.7780487804878049,
          0.8829268292682927,
          0.6853658536585366,
          0.697560975609756,
          0.8195121951219512,
          0.8658536585365854
         ],
         "y0": " ",
         "yaxis": "y"
        },
        {
         "alignmentgroup": "True",
         "hovertemplate": "Model=%{x}<br>Accuracy=%{y}<extra></extra>",
         "legendgroup": "Real",
         "marker": {
          "color": "blue"
         },
         "name": "Real",
         "notched": false,
         "offsetgroup": "Real",
         "orientation": "v",
         "showlegend": true,
         "type": "box",
         "x": [
          "Real",
          "Real",
          "Real",
          "Real",
          "Real",
          "Real",
          "Real",
          "Real",
          "Real",
          "Real",
          "Real",
          "Real",
          "Real",
          "Real",
          "Real",
          "Real",
          "Real",
          "Real",
          "Real",
          "Real",
          "Real",
          "Real",
          "Real",
          "Real",
          "Real",
          "Real",
          "Real",
          "Real",
          "Real",
          "Real",
          "Real",
          "Real",
          "Real",
          "Real",
          "Real",
          "Real",
          "Real",
          "Real",
          "Real",
          "Real",
          "Real",
          "Real",
          "Real",
          "Real",
          "Real",
          "Real",
          "Real",
          "Real",
          "Real",
          "Real",
          "Real",
          "Real",
          "Real",
          "Real",
          "Real",
          "Real",
          "Real",
          "Real",
          "Real",
          "Real",
          "Real",
          "Real",
          "Real",
          "Real",
          "Real"
         ],
         "x0": " ",
         "xaxis": "x",
         "y": [
          0.7560975609756098,
          0.8609756097560975,
          0.7195121951219512,
          0.6365853658536585,
          0.6365853658536585,
          0.6439024390243903,
          0.6902439024390243,
          0.697560975609756,
          0.7853658536585366,
          0.7536585365853659,
          0.7170731707317073,
          0.8219512195121951,
          0.6658536585365854,
          0.6219512195121951,
          0.7219512195121951,
          0.751219512195122,
          0.7341463414634146,
          0.6292682926829268,
          0.6365853658536585,
          0.6780487804878049,
          0.7707317073170732,
          0.675609756097561,
          0.5682926829268292,
          0.7439024390243902,
          0.6926829268292682,
          0.7317073170731707,
          0.6390243902439025,
          0.7390243902439024,
          0.5804878048780487,
          0.802439024390244,
          0.7658536585365854,
          0.7048780487804878,
          0.7365853658536585,
          0.6292682926829268,
          0.6878048780487804,
          0.6878048780487804,
          0.7024390243902439,
          0.7195121951219512,
          0.7219512195121951,
          0.6463414634146342,
          0.724390243902439,
          0.5756097560975609,
          0.6780487804878049,
          0.6804878048780488,
          0.7292682926829268,
          0.5780487804878048,
          0.6878048780487804,
          0.6658536585365854,
          0.7463414634146341,
          0.6097560975609756,
          0.7121951219512195,
          0.6146341463414634,
          0.7170731707317073,
          0.7365853658536585,
          0.6658536585365854,
          0.7195121951219512,
          0.6829268292682927,
          0.675609756097561,
          0.6634146341463415,
          0.8170731707317073,
          0.6804878048780488,
          0.6682926829268293,
          0.7878048780487805,
          0.7975609756097561,
          0.7097560975609756
         ],
         "y0": " ",
         "yaxis": "y"
        }
       ],
       "layout": {
        "annotations": [
         {
          "font": {
           "color": "black",
           "size": 14
          },
          "showarrow": false,
          "text": "**",
          "textangle": 0,
          "x": 0.5,
          "xref": "x",
          "y": 1.04,
          "yref": "y domain"
         },
         {
          "font": {
           "color": "black",
           "size": 14
          },
          "showarrow": false,
          "text": "***",
          "textangle": 0,
          "x": 1,
          "xref": "x",
          "y": 1.0733333333333335,
          "yref": "y domain"
         },
         {
          "font": {
           "color": "black",
           "size": 14
          },
          "showarrow": false,
          "text": "***",
          "textangle": 0,
          "x": 1.5,
          "xref": "x",
          "y": 1.1066666666666667,
          "yref": "y domain"
         }
        ],
        "boxmode": "overlay",
        "font": {
         "size": 20
        },
        "height": 500,
        "legend": {
         "title": {
          "text": "Model"
         },
         "tracegroupgap": 0
        },
        "margin": {
         "b": 0,
         "l": 0,
         "r": 0,
         "t": 40
        },
        "shapes": [
         {
          "line": {
           "color": "black",
           "width": 2
          },
          "type": "line",
          "x0": 0,
          "x1": 0,
          "xref": "x",
          "y0": 1,
          "y1": 0.98,
          "yref": "y domain"
         },
         {
          "line": {
           "color": "black",
           "width": 2
          },
          "type": "line",
          "x0": 0,
          "x1": 1,
          "xref": "x",
          "y0": 1,
          "y1": 1,
          "yref": "y domain"
         },
         {
          "line": {
           "color": "black",
           "width": 2
          },
          "type": "line",
          "x0": 1,
          "x1": 1,
          "xref": "x",
          "y0": 1,
          "y1": 0.98,
          "yref": "y domain"
         },
         {
          "line": {
           "color": "black",
           "width": 2
          },
          "type": "line",
          "x0": 0,
          "x1": 0,
          "xref": "x",
          "y0": 1.0333333333333334,
          "y1": 1.0133333333333334,
          "yref": "y domain"
         },
         {
          "line": {
           "color": "black",
           "width": 2
          },
          "type": "line",
          "x0": 0,
          "x1": 2,
          "xref": "x",
          "y0": 1.0333333333333334,
          "y1": 1.0333333333333334,
          "yref": "y domain"
         },
         {
          "line": {
           "color": "black",
           "width": 2
          },
          "type": "line",
          "x0": 2,
          "x1": 2,
          "xref": "x",
          "y0": 1.0333333333333334,
          "y1": 1.0133333333333334,
          "yref": "y domain"
         },
         {
          "line": {
           "color": "black",
           "width": 2
          },
          "type": "line",
          "x0": 0,
          "x1": 0,
          "xref": "x",
          "y0": 1.0666666666666667,
          "y1": 1.0466666666666666,
          "yref": "y domain"
         },
         {
          "line": {
           "color": "black",
           "width": 2
          },
          "type": "line",
          "x0": 0,
          "x1": 3,
          "xref": "x",
          "y0": 1.0666666666666667,
          "y1": 1.0666666666666667,
          "yref": "y domain"
         },
         {
          "line": {
           "color": "black",
           "width": 2
          },
          "type": "line",
          "x0": 3,
          "x1": 3,
          "xref": "x",
          "y0": 1.0666666666666667,
          "y1": 1.0466666666666666,
          "yref": "y domain"
         }
        ],
        "showlegend": false,
        "template": {
         "data": {
          "bar": [
           {
            "error_x": {
             "color": "#2a3f5f"
            },
            "error_y": {
             "color": "#2a3f5f"
            },
            "marker": {
             "line": {
              "color": "#E5ECF6",
              "width": 0.5
             },
             "pattern": {
              "fillmode": "overlay",
              "size": 10,
              "solidity": 0.2
             }
            },
            "type": "bar"
           }
          ],
          "barpolar": [
           {
            "marker": {
             "line": {
              "color": "#E5ECF6",
              "width": 0.5
             },
             "pattern": {
              "fillmode": "overlay",
              "size": 10,
              "solidity": 0.2
             }
            },
            "type": "barpolar"
           }
          ],
          "carpet": [
           {
            "aaxis": {
             "endlinecolor": "#2a3f5f",
             "gridcolor": "white",
             "linecolor": "white",
             "minorgridcolor": "white",
             "startlinecolor": "#2a3f5f"
            },
            "baxis": {
             "endlinecolor": "#2a3f5f",
             "gridcolor": "white",
             "linecolor": "white",
             "minorgridcolor": "white",
             "startlinecolor": "#2a3f5f"
            },
            "type": "carpet"
           }
          ],
          "choropleth": [
           {
            "colorbar": {
             "outlinewidth": 0,
             "ticks": ""
            },
            "type": "choropleth"
           }
          ],
          "contour": [
           {
            "colorbar": {
             "outlinewidth": 0,
             "ticks": ""
            },
            "colorscale": [
             [
              0,
              "#0d0887"
             ],
             [
              0.1111111111111111,
              "#46039f"
             ],
             [
              0.2222222222222222,
              "#7201a8"
             ],
             [
              0.3333333333333333,
              "#9c179e"
             ],
             [
              0.4444444444444444,
              "#bd3786"
             ],
             [
              0.5555555555555556,
              "#d8576b"
             ],
             [
              0.6666666666666666,
              "#ed7953"
             ],
             [
              0.7777777777777778,
              "#fb9f3a"
             ],
             [
              0.8888888888888888,
              "#fdca26"
             ],
             [
              1,
              "#f0f921"
             ]
            ],
            "type": "contour"
           }
          ],
          "contourcarpet": [
           {
            "colorbar": {
             "outlinewidth": 0,
             "ticks": ""
            },
            "type": "contourcarpet"
           }
          ],
          "heatmap": [
           {
            "colorbar": {
             "outlinewidth": 0,
             "ticks": ""
            },
            "colorscale": [
             [
              0,
              "#0d0887"
             ],
             [
              0.1111111111111111,
              "#46039f"
             ],
             [
              0.2222222222222222,
              "#7201a8"
             ],
             [
              0.3333333333333333,
              "#9c179e"
             ],
             [
              0.4444444444444444,
              "#bd3786"
             ],
             [
              0.5555555555555556,
              "#d8576b"
             ],
             [
              0.6666666666666666,
              "#ed7953"
             ],
             [
              0.7777777777777778,
              "#fb9f3a"
             ],
             [
              0.8888888888888888,
              "#fdca26"
             ],
             [
              1,
              "#f0f921"
             ]
            ],
            "type": "heatmap"
           }
          ],
          "heatmapgl": [
           {
            "colorbar": {
             "outlinewidth": 0,
             "ticks": ""
            },
            "colorscale": [
             [
              0,
              "#0d0887"
             ],
             [
              0.1111111111111111,
              "#46039f"
             ],
             [
              0.2222222222222222,
              "#7201a8"
             ],
             [
              0.3333333333333333,
              "#9c179e"
             ],
             [
              0.4444444444444444,
              "#bd3786"
             ],
             [
              0.5555555555555556,
              "#d8576b"
             ],
             [
              0.6666666666666666,
              "#ed7953"
             ],
             [
              0.7777777777777778,
              "#fb9f3a"
             ],
             [
              0.8888888888888888,
              "#fdca26"
             ],
             [
              1,
              "#f0f921"
             ]
            ],
            "type": "heatmapgl"
           }
          ],
          "histogram": [
           {
            "marker": {
             "pattern": {
              "fillmode": "overlay",
              "size": 10,
              "solidity": 0.2
             }
            },
            "type": "histogram"
           }
          ],
          "histogram2d": [
           {
            "colorbar": {
             "outlinewidth": 0,
             "ticks": ""
            },
            "colorscale": [
             [
              0,
              "#0d0887"
             ],
             [
              0.1111111111111111,
              "#46039f"
             ],
             [
              0.2222222222222222,
              "#7201a8"
             ],
             [
              0.3333333333333333,
              "#9c179e"
             ],
             [
              0.4444444444444444,
              "#bd3786"
             ],
             [
              0.5555555555555556,
              "#d8576b"
             ],
             [
              0.6666666666666666,
              "#ed7953"
             ],
             [
              0.7777777777777778,
              "#fb9f3a"
             ],
             [
              0.8888888888888888,
              "#fdca26"
             ],
             [
              1,
              "#f0f921"
             ]
            ],
            "type": "histogram2d"
           }
          ],
          "histogram2dcontour": [
           {
            "colorbar": {
             "outlinewidth": 0,
             "ticks": ""
            },
            "colorscale": [
             [
              0,
              "#0d0887"
             ],
             [
              0.1111111111111111,
              "#46039f"
             ],
             [
              0.2222222222222222,
              "#7201a8"
             ],
             [
              0.3333333333333333,
              "#9c179e"
             ],
             [
              0.4444444444444444,
              "#bd3786"
             ],
             [
              0.5555555555555556,
              "#d8576b"
             ],
             [
              0.6666666666666666,
              "#ed7953"
             ],
             [
              0.7777777777777778,
              "#fb9f3a"
             ],
             [
              0.8888888888888888,
              "#fdca26"
             ],
             [
              1,
              "#f0f921"
             ]
            ],
            "type": "histogram2dcontour"
           }
          ],
          "mesh3d": [
           {
            "colorbar": {
             "outlinewidth": 0,
             "ticks": ""
            },
            "type": "mesh3d"
           }
          ],
          "parcoords": [
           {
            "line": {
             "colorbar": {
              "outlinewidth": 0,
              "ticks": ""
             }
            },
            "type": "parcoords"
           }
          ],
          "pie": [
           {
            "automargin": true,
            "type": "pie"
           }
          ],
          "scatter": [
           {
            "marker": {
             "colorbar": {
              "outlinewidth": 0,
              "ticks": ""
             }
            },
            "type": "scatter"
           }
          ],
          "scatter3d": [
           {
            "line": {
             "colorbar": {
              "outlinewidth": 0,
              "ticks": ""
             }
            },
            "marker": {
             "colorbar": {
              "outlinewidth": 0,
              "ticks": ""
             }
            },
            "type": "scatter3d"
           }
          ],
          "scattercarpet": [
           {
            "marker": {
             "colorbar": {
              "outlinewidth": 0,
              "ticks": ""
             }
            },
            "type": "scattercarpet"
           }
          ],
          "scattergeo": [
           {
            "marker": {
             "colorbar": {
              "outlinewidth": 0,
              "ticks": ""
             }
            },
            "type": "scattergeo"
           }
          ],
          "scattergl": [
           {
            "marker": {
             "colorbar": {
              "outlinewidth": 0,
              "ticks": ""
             }
            },
            "type": "scattergl"
           }
          ],
          "scattermapbox": [
           {
            "marker": {
             "colorbar": {
              "outlinewidth": 0,
              "ticks": ""
             }
            },
            "type": "scattermapbox"
           }
          ],
          "scatterpolar": [
           {
            "marker": {
             "colorbar": {
              "outlinewidth": 0,
              "ticks": ""
             }
            },
            "type": "scatterpolar"
           }
          ],
          "scatterpolargl": [
           {
            "marker": {
             "colorbar": {
              "outlinewidth": 0,
              "ticks": ""
             }
            },
            "type": "scatterpolargl"
           }
          ],
          "scatterternary": [
           {
            "marker": {
             "colorbar": {
              "outlinewidth": 0,
              "ticks": ""
             }
            },
            "type": "scatterternary"
           }
          ],
          "surface": [
           {
            "colorbar": {
             "outlinewidth": 0,
             "ticks": ""
            },
            "colorscale": [
             [
              0,
              "#0d0887"
             ],
             [
              0.1111111111111111,
              "#46039f"
             ],
             [
              0.2222222222222222,
              "#7201a8"
             ],
             [
              0.3333333333333333,
              "#9c179e"
             ],
             [
              0.4444444444444444,
              "#bd3786"
             ],
             [
              0.5555555555555556,
              "#d8576b"
             ],
             [
              0.6666666666666666,
              "#ed7953"
             ],
             [
              0.7777777777777778,
              "#fb9f3a"
             ],
             [
              0.8888888888888888,
              "#fdca26"
             ],
             [
              1,
              "#f0f921"
             ]
            ],
            "type": "surface"
           }
          ],
          "table": [
           {
            "cells": {
             "fill": {
              "color": "#EBF0F8"
             },
             "line": {
              "color": "white"
             }
            },
            "header": {
             "fill": {
              "color": "#C8D4E3"
             },
             "line": {
              "color": "white"
             }
            },
            "type": "table"
           }
          ]
         },
         "layout": {
          "annotationdefaults": {
           "arrowcolor": "#2a3f5f",
           "arrowhead": 0,
           "arrowwidth": 1
          },
          "autotypenumbers": "strict",
          "coloraxis": {
           "colorbar": {
            "outlinewidth": 0,
            "ticks": ""
           }
          },
          "colorscale": {
           "diverging": [
            [
             0,
             "#8e0152"
            ],
            [
             0.1,
             "#c51b7d"
            ],
            [
             0.2,
             "#de77ae"
            ],
            [
             0.3,
             "#f1b6da"
            ],
            [
             0.4,
             "#fde0ef"
            ],
            [
             0.5,
             "#f7f7f7"
            ],
            [
             0.6,
             "#e6f5d0"
            ],
            [
             0.7,
             "#b8e186"
            ],
            [
             0.8,
             "#7fbc41"
            ],
            [
             0.9,
             "#4d9221"
            ],
            [
             1,
             "#276419"
            ]
           ],
           "sequential": [
            [
             0,
             "#0d0887"
            ],
            [
             0.1111111111111111,
             "#46039f"
            ],
            [
             0.2222222222222222,
             "#7201a8"
            ],
            [
             0.3333333333333333,
             "#9c179e"
            ],
            [
             0.4444444444444444,
             "#bd3786"
            ],
            [
             0.5555555555555556,
             "#d8576b"
            ],
            [
             0.6666666666666666,
             "#ed7953"
            ],
            [
             0.7777777777777778,
             "#fb9f3a"
            ],
            [
             0.8888888888888888,
             "#fdca26"
            ],
            [
             1,
             "#f0f921"
            ]
           ],
           "sequentialminus": [
            [
             0,
             "#0d0887"
            ],
            [
             0.1111111111111111,
             "#46039f"
            ],
            [
             0.2222222222222222,
             "#7201a8"
            ],
            [
             0.3333333333333333,
             "#9c179e"
            ],
            [
             0.4444444444444444,
             "#bd3786"
            ],
            [
             0.5555555555555556,
             "#d8576b"
            ],
            [
             0.6666666666666666,
             "#ed7953"
            ],
            [
             0.7777777777777778,
             "#fb9f3a"
            ],
            [
             0.8888888888888888,
             "#fdca26"
            ],
            [
             1,
             "#f0f921"
            ]
           ]
          },
          "colorway": [
           "#636efa",
           "#EF553B",
           "#00cc96",
           "#ab63fa",
           "#FFA15A",
           "#19d3f3",
           "#FF6692",
           "#B6E880",
           "#FF97FF",
           "#FECB52"
          ],
          "font": {
           "color": "#2a3f5f"
          },
          "geo": {
           "bgcolor": "white",
           "lakecolor": "white",
           "landcolor": "#E5ECF6",
           "showlakes": true,
           "showland": true,
           "subunitcolor": "white"
          },
          "hoverlabel": {
           "align": "left"
          },
          "hovermode": "closest",
          "mapbox": {
           "style": "light"
          },
          "paper_bgcolor": "white",
          "plot_bgcolor": "#E5ECF6",
          "polar": {
           "angularaxis": {
            "gridcolor": "white",
            "linecolor": "white",
            "ticks": ""
           },
           "bgcolor": "#E5ECF6",
           "radialaxis": {
            "gridcolor": "white",
            "linecolor": "white",
            "ticks": ""
           }
          },
          "scene": {
           "xaxis": {
            "backgroundcolor": "#E5ECF6",
            "gridcolor": "white",
            "gridwidth": 2,
            "linecolor": "white",
            "showbackground": true,
            "ticks": "",
            "zerolinecolor": "white"
           },
           "yaxis": {
            "backgroundcolor": "#E5ECF6",
            "gridcolor": "white",
            "gridwidth": 2,
            "linecolor": "white",
            "showbackground": true,
            "ticks": "",
            "zerolinecolor": "white"
           },
           "zaxis": {
            "backgroundcolor": "#E5ECF6",
            "gridcolor": "white",
            "gridwidth": 2,
            "linecolor": "white",
            "showbackground": true,
            "ticks": "",
            "zerolinecolor": "white"
           }
          },
          "shapedefaults": {
           "line": {
            "color": "#2a3f5f"
           }
          },
          "ternary": {
           "aaxis": {
            "gridcolor": "white",
            "linecolor": "white",
            "ticks": ""
           },
           "baxis": {
            "gridcolor": "white",
            "linecolor": "white",
            "ticks": ""
           },
           "bgcolor": "#E5ECF6",
           "caxis": {
            "gridcolor": "white",
            "linecolor": "white",
            "ticks": ""
           }
          },
          "title": {
           "x": 0.05
          },
          "xaxis": {
           "automargin": true,
           "gridcolor": "white",
           "linecolor": "white",
           "ticks": "",
           "title": {
            "standoff": 15
           },
           "zerolinecolor": "white",
           "zerolinewidth": 2
          },
          "yaxis": {
           "automargin": true,
           "gridcolor": "white",
           "linecolor": "white",
           "ticks": "",
           "title": {
            "standoff": 15
           },
           "zerolinecolor": "white",
           "zerolinewidth": 2
          }
         }
        },
        "width": 700,
        "xaxis": {
         "anchor": "y",
         "categoryarray": [
          "Group GAN",
          "Fourier Flows",
          "Time GAN",
          "Real"
         ],
         "categoryorder": "array",
         "domain": [
          0,
          1
         ],
         "showgrid": false,
         "showline": true,
         "title": {
          "text": ""
         },
         "zeroline": true
        },
        "yaxis": {
         "anchor": "x",
         "domain": [
          0,
          1
         ],
         "dtick": 0.05,
         "tick0": 0,
         "tickprefix": "",
         "title": {}
        }
       }
      }
     },
     "metadata": {},
     "output_type": "display_data"
    }
   ],
   "source": [
    "fig = px.box(all_dfs,\n",
    "             x='index', \n",
    "             y='value', \n",
    "             color='index', \n",
    "             labels={'index': 'Model', 'value': 'Accuracy'}, \n",
    "             color_discrete_sequence=['green', 'orange', 'purple', 'blue'],\n",
    "             category_orders={\"index\": [\"Group GAN\", \"Fourier Flows\", \"Time GAN\", \"Real\"]})\n",
    "# make yticks more accurate\n",
    "fig.update_yaxes(tickprefix=\"\",\n",
    "                    tick0=0,\n",
    "                    dtick=0.05)\n",
    "fig.update_layout(showlegend=False, margin=dict(l=0, r=0, b=0, t=0), font=dict(size=20), width=700, height=500)\n",
    "# remove the x-axis title\n",
    "fig.update_xaxes(title_text=\"\",\n",
    "                    showline=True,\n",
    "                    showgrid=False,\n",
    "                    zeroline=True)\n",
    "# Group 2\n",
    "data_1 = all_dfs[(all_dfs['index']=='Group GAN')]['value']\n",
    "data_2 = all_dfs[(all_dfs['index']=='Fourier Flows')]['value']\n",
    "\n",
    "fig = add_anootation(fig, 0, 1, 0, symbol_generator(data_1, data_2))\n",
    "\n",
    "data_2 = all_dfs[(all_dfs['index']=='Time GAN')]['value']\n",
    "fig = add_anootation(fig, 0, 2, 1, symbol_generator(data_1, data_2))\n",
    "\n",
    "data_3 = all_dfs[(all_dfs['index']=='Real')]['value']\n",
    "fig = add_anootation(fig, 0, 3, 2, symbol_generator(data_1, data_3))\n",
    "\n",
    "\n",
    "fig.update_layout(yaxis_title=None, margin=dict(l=0, r=0, b=0, t=40), font=dict(size=20))\n",
    "fig.show()\n"
   ]
  },
  {
   "cell_type": "code",
   "execution_count": 199,
   "metadata": {},
   "outputs": [],
   "source": [
    "fig.write_image(\"augmentation_sota.pdf\")"
   ]
  },
  {
   "cell_type": "code",
   "execution_count": 140,
   "metadata": {},
   "outputs": [
    {
     "data": {
      "application/vnd.plotly.v1+json": {
       "config": {
        "plotlyServerURL": "https://plot.ly"
       },
       "data": [
        {
         "hovertemplate": "Time GAN=%{x}<br>ff=%{y}<extra></extra>",
         "legendgroup": "",
         "marker": {
          "color": "#636efa",
          "size": 10,
          "symbol": "circle"
         },
         "mode": "markers",
         "name": "",
         "orientation": "v",
         "showlegend": false,
         "type": "scatter",
         "x": [
          0.8,
          0.6268292682926829,
          0.7414634146341463,
          0.848780487804878,
          0.8439024390243902,
          0.7292682926829268,
          0.8853658536585366,
          0.8073170731707318,
          0.8195121951219512,
          0.875609756097561,
          0.7121951219512195,
          0.8634146341463415,
          0.8268292682926829,
          0.7951219512195122,
          0.7390243902439024,
          0.8634146341463415,
          0.6902439024390243,
          0.8292682926829268,
          0.8536585365853658,
          0.5365853658536586,
          0.7926829268292683,
          0.8658536585365854,
          0.7682926829268293,
          0.7829268292682927,
          0.8609756097560975,
          0.8121951219512196,
          0.8365853658536585,
          0.7341463414634146,
          0.8536585365853658,
          0.6731707317073171,
          0.8560975609756097,
          0.8268292682926829,
          0.8195121951219512,
          0.7878048780487805,
          0.7780487804878049,
          0.8146341463414634,
          0.7975609756097561,
          0.848780487804878,
          0.8585365853658536,
          0.7951219512195122,
          0.7121951219512195,
          0.7560975609756098,
          0.7926829268292683,
          0.8707317073170732,
          0.675609756097561,
          0.7731707317073171,
          0.748780487804878,
          0.6097560975609756,
          0.8195121951219512,
          0.697560975609756,
          0.8170731707317073,
          0.6024390243902439,
          0.8292682926829268,
          0.6317073170731707,
          0.7682926829268293,
          0.8634146341463415,
          0.8195121951219512,
          0.8292682926829268,
          0.7170731707317073,
          0.7780487804878049,
          0.8829268292682927,
          0.6853658536585366,
          0.697560975609756,
          0.8195121951219512,
          0.8658536585365854
         ],
         "xaxis": "x",
         "y": [
          0.8878048780487805,
          0.802439024390244,
          0.7853658536585366,
          0.8804878048780488,
          0.7951219512195122,
          0.8097560975609757,
          0.8658536585365854,
          0.7195121951219512,
          0.7878048780487805,
          0.7780487804878049,
          0.802439024390244,
          0.7878048780487805,
          0.748780487804878,
          0.8048780487804879,
          0.6804878048780488,
          0.8658536585365854,
          0.7609756097560976,
          0.875609756097561,
          0.848780487804878,
          0.8780487804878049,
          0.7658536585365854,
          0.8731707317073171,
          0.8268292682926829,
          0.8780487804878049,
          0.8219512195121951,
          0.8780487804878049,
          0.8878048780487805,
          0.8341463414634146,
          0.8585365853658536,
          null,
          null,
          null,
          null,
          null,
          null,
          null,
          null,
          null,
          null,
          null,
          null,
          null,
          null,
          null,
          null,
          null,
          null,
          null,
          null,
          null,
          null,
          null,
          null,
          null,
          null,
          null,
          null,
          null,
          null,
          null,
          null,
          null,
          null,
          null,
          null
         ],
         "yaxis": "y"
        },
        {
         "line": {
          "color": "red"
         },
         "showlegend": false,
         "type": "scatter",
         "x": [
          0.45,
          1.1
         ],
         "y": [
          0.45,
          1.1
         ]
        },
        {
         "line": {
          "color": "black",
          "dash": "dash"
         },
         "showlegend": false,
         "type": "scatter",
         "x": [
          0.45,
          1.1
         ],
         "y": [
          0.55,
          1.2
         ]
        },
        {
         "line": {
          "color": "black",
          "dash": "dash"
         },
         "showlegend": false,
         "type": "scatter",
         "x": [
          0.45,
          1.1
         ],
         "y": [
          0.65,
          1.3
         ]
        },
        {
         "line": {
          "color": "black",
          "dash": "dash"
         },
         "showlegend": false,
         "type": "scatter",
         "x": [
          0.45,
          1.1
         ],
         "y": [
          0.75,
          1.4
         ]
        },
        {
         "line": {
          "color": "black",
          "dash": "dash"
         },
         "showlegend": false,
         "type": "scatter",
         "x": [
          0.45,
          1.1
         ],
         "y": [
          0.35,
          1
         ]
        }
       ],
       "layout": {
        "font": {
         "size": 15
        },
        "height": 400,
        "legend": {
         "tracegroupgap": 0
        },
        "margin": {
         "b": 0,
         "l": 0,
         "r": 0,
         "t": 10
        },
        "template": {
         "data": {
          "bar": [
           {
            "error_x": {
             "color": "#2a3f5f"
            },
            "error_y": {
             "color": "#2a3f5f"
            },
            "marker": {
             "line": {
              "color": "#E5ECF6",
              "width": 0.5
             },
             "pattern": {
              "fillmode": "overlay",
              "size": 10,
              "solidity": 0.2
             }
            },
            "type": "bar"
           }
          ],
          "barpolar": [
           {
            "marker": {
             "line": {
              "color": "#E5ECF6",
              "width": 0.5
             },
             "pattern": {
              "fillmode": "overlay",
              "size": 10,
              "solidity": 0.2
             }
            },
            "type": "barpolar"
           }
          ],
          "carpet": [
           {
            "aaxis": {
             "endlinecolor": "#2a3f5f",
             "gridcolor": "white",
             "linecolor": "white",
             "minorgridcolor": "white",
             "startlinecolor": "#2a3f5f"
            },
            "baxis": {
             "endlinecolor": "#2a3f5f",
             "gridcolor": "white",
             "linecolor": "white",
             "minorgridcolor": "white",
             "startlinecolor": "#2a3f5f"
            },
            "type": "carpet"
           }
          ],
          "choropleth": [
           {
            "colorbar": {
             "outlinewidth": 0,
             "ticks": ""
            },
            "type": "choropleth"
           }
          ],
          "contour": [
           {
            "colorbar": {
             "outlinewidth": 0,
             "ticks": ""
            },
            "colorscale": [
             [
              0,
              "#0d0887"
             ],
             [
              0.1111111111111111,
              "#46039f"
             ],
             [
              0.2222222222222222,
              "#7201a8"
             ],
             [
              0.3333333333333333,
              "#9c179e"
             ],
             [
              0.4444444444444444,
              "#bd3786"
             ],
             [
              0.5555555555555556,
              "#d8576b"
             ],
             [
              0.6666666666666666,
              "#ed7953"
             ],
             [
              0.7777777777777778,
              "#fb9f3a"
             ],
             [
              0.8888888888888888,
              "#fdca26"
             ],
             [
              1,
              "#f0f921"
             ]
            ],
            "type": "contour"
           }
          ],
          "contourcarpet": [
           {
            "colorbar": {
             "outlinewidth": 0,
             "ticks": ""
            },
            "type": "contourcarpet"
           }
          ],
          "heatmap": [
           {
            "colorbar": {
             "outlinewidth": 0,
             "ticks": ""
            },
            "colorscale": [
             [
              0,
              "#0d0887"
             ],
             [
              0.1111111111111111,
              "#46039f"
             ],
             [
              0.2222222222222222,
              "#7201a8"
             ],
             [
              0.3333333333333333,
              "#9c179e"
             ],
             [
              0.4444444444444444,
              "#bd3786"
             ],
             [
              0.5555555555555556,
              "#d8576b"
             ],
             [
              0.6666666666666666,
              "#ed7953"
             ],
             [
              0.7777777777777778,
              "#fb9f3a"
             ],
             [
              0.8888888888888888,
              "#fdca26"
             ],
             [
              1,
              "#f0f921"
             ]
            ],
            "type": "heatmap"
           }
          ],
          "heatmapgl": [
           {
            "colorbar": {
             "outlinewidth": 0,
             "ticks": ""
            },
            "colorscale": [
             [
              0,
              "#0d0887"
             ],
             [
              0.1111111111111111,
              "#46039f"
             ],
             [
              0.2222222222222222,
              "#7201a8"
             ],
             [
              0.3333333333333333,
              "#9c179e"
             ],
             [
              0.4444444444444444,
              "#bd3786"
             ],
             [
              0.5555555555555556,
              "#d8576b"
             ],
             [
              0.6666666666666666,
              "#ed7953"
             ],
             [
              0.7777777777777778,
              "#fb9f3a"
             ],
             [
              0.8888888888888888,
              "#fdca26"
             ],
             [
              1,
              "#f0f921"
             ]
            ],
            "type": "heatmapgl"
           }
          ],
          "histogram": [
           {
            "marker": {
             "pattern": {
              "fillmode": "overlay",
              "size": 10,
              "solidity": 0.2
             }
            },
            "type": "histogram"
           }
          ],
          "histogram2d": [
           {
            "colorbar": {
             "outlinewidth": 0,
             "ticks": ""
            },
            "colorscale": [
             [
              0,
              "#0d0887"
             ],
             [
              0.1111111111111111,
              "#46039f"
             ],
             [
              0.2222222222222222,
              "#7201a8"
             ],
             [
              0.3333333333333333,
              "#9c179e"
             ],
             [
              0.4444444444444444,
              "#bd3786"
             ],
             [
              0.5555555555555556,
              "#d8576b"
             ],
             [
              0.6666666666666666,
              "#ed7953"
             ],
             [
              0.7777777777777778,
              "#fb9f3a"
             ],
             [
              0.8888888888888888,
              "#fdca26"
             ],
             [
              1,
              "#f0f921"
             ]
            ],
            "type": "histogram2d"
           }
          ],
          "histogram2dcontour": [
           {
            "colorbar": {
             "outlinewidth": 0,
             "ticks": ""
            },
            "colorscale": [
             [
              0,
              "#0d0887"
             ],
             [
              0.1111111111111111,
              "#46039f"
             ],
             [
              0.2222222222222222,
              "#7201a8"
             ],
             [
              0.3333333333333333,
              "#9c179e"
             ],
             [
              0.4444444444444444,
              "#bd3786"
             ],
             [
              0.5555555555555556,
              "#d8576b"
             ],
             [
              0.6666666666666666,
              "#ed7953"
             ],
             [
              0.7777777777777778,
              "#fb9f3a"
             ],
             [
              0.8888888888888888,
              "#fdca26"
             ],
             [
              1,
              "#f0f921"
             ]
            ],
            "type": "histogram2dcontour"
           }
          ],
          "mesh3d": [
           {
            "colorbar": {
             "outlinewidth": 0,
             "ticks": ""
            },
            "type": "mesh3d"
           }
          ],
          "parcoords": [
           {
            "line": {
             "colorbar": {
              "outlinewidth": 0,
              "ticks": ""
             }
            },
            "type": "parcoords"
           }
          ],
          "pie": [
           {
            "automargin": true,
            "type": "pie"
           }
          ],
          "scatter": [
           {
            "marker": {
             "colorbar": {
              "outlinewidth": 0,
              "ticks": ""
             }
            },
            "type": "scatter"
           }
          ],
          "scatter3d": [
           {
            "line": {
             "colorbar": {
              "outlinewidth": 0,
              "ticks": ""
             }
            },
            "marker": {
             "colorbar": {
              "outlinewidth": 0,
              "ticks": ""
             }
            },
            "type": "scatter3d"
           }
          ],
          "scattercarpet": [
           {
            "marker": {
             "colorbar": {
              "outlinewidth": 0,
              "ticks": ""
             }
            },
            "type": "scattercarpet"
           }
          ],
          "scattergeo": [
           {
            "marker": {
             "colorbar": {
              "outlinewidth": 0,
              "ticks": ""
             }
            },
            "type": "scattergeo"
           }
          ],
          "scattergl": [
           {
            "marker": {
             "colorbar": {
              "outlinewidth": 0,
              "ticks": ""
             }
            },
            "type": "scattergl"
           }
          ],
          "scattermapbox": [
           {
            "marker": {
             "colorbar": {
              "outlinewidth": 0,
              "ticks": ""
             }
            },
            "type": "scattermapbox"
           }
          ],
          "scatterpolar": [
           {
            "marker": {
             "colorbar": {
              "outlinewidth": 0,
              "ticks": ""
             }
            },
            "type": "scatterpolar"
           }
          ],
          "scatterpolargl": [
           {
            "marker": {
             "colorbar": {
              "outlinewidth": 0,
              "ticks": ""
             }
            },
            "type": "scatterpolargl"
           }
          ],
          "scatterternary": [
           {
            "marker": {
             "colorbar": {
              "outlinewidth": 0,
              "ticks": ""
             }
            },
            "type": "scatterternary"
           }
          ],
          "surface": [
           {
            "colorbar": {
             "outlinewidth": 0,
             "ticks": ""
            },
            "colorscale": [
             [
              0,
              "#0d0887"
             ],
             [
              0.1111111111111111,
              "#46039f"
             ],
             [
              0.2222222222222222,
              "#7201a8"
             ],
             [
              0.3333333333333333,
              "#9c179e"
             ],
             [
              0.4444444444444444,
              "#bd3786"
             ],
             [
              0.5555555555555556,
              "#d8576b"
             ],
             [
              0.6666666666666666,
              "#ed7953"
             ],
             [
              0.7777777777777778,
              "#fb9f3a"
             ],
             [
              0.8888888888888888,
              "#fdca26"
             ],
             [
              1,
              "#f0f921"
             ]
            ],
            "type": "surface"
           }
          ],
          "table": [
           {
            "cells": {
             "fill": {
              "color": "#EBF0F8"
             },
             "line": {
              "color": "white"
             }
            },
            "header": {
             "fill": {
              "color": "#C8D4E3"
             },
             "line": {
              "color": "white"
             }
            },
            "type": "table"
           }
          ]
         },
         "layout": {
          "annotationdefaults": {
           "arrowcolor": "#2a3f5f",
           "arrowhead": 0,
           "arrowwidth": 1
          },
          "autotypenumbers": "strict",
          "coloraxis": {
           "colorbar": {
            "outlinewidth": 0,
            "ticks": ""
           }
          },
          "colorscale": {
           "diverging": [
            [
             0,
             "#8e0152"
            ],
            [
             0.1,
             "#c51b7d"
            ],
            [
             0.2,
             "#de77ae"
            ],
            [
             0.3,
             "#f1b6da"
            ],
            [
             0.4,
             "#fde0ef"
            ],
            [
             0.5,
             "#f7f7f7"
            ],
            [
             0.6,
             "#e6f5d0"
            ],
            [
             0.7,
             "#b8e186"
            ],
            [
             0.8,
             "#7fbc41"
            ],
            [
             0.9,
             "#4d9221"
            ],
            [
             1,
             "#276419"
            ]
           ],
           "sequential": [
            [
             0,
             "#0d0887"
            ],
            [
             0.1111111111111111,
             "#46039f"
            ],
            [
             0.2222222222222222,
             "#7201a8"
            ],
            [
             0.3333333333333333,
             "#9c179e"
            ],
            [
             0.4444444444444444,
             "#bd3786"
            ],
            [
             0.5555555555555556,
             "#d8576b"
            ],
            [
             0.6666666666666666,
             "#ed7953"
            ],
            [
             0.7777777777777778,
             "#fb9f3a"
            ],
            [
             0.8888888888888888,
             "#fdca26"
            ],
            [
             1,
             "#f0f921"
            ]
           ],
           "sequentialminus": [
            [
             0,
             "#0d0887"
            ],
            [
             0.1111111111111111,
             "#46039f"
            ],
            [
             0.2222222222222222,
             "#7201a8"
            ],
            [
             0.3333333333333333,
             "#9c179e"
            ],
            [
             0.4444444444444444,
             "#bd3786"
            ],
            [
             0.5555555555555556,
             "#d8576b"
            ],
            [
             0.6666666666666666,
             "#ed7953"
            ],
            [
             0.7777777777777778,
             "#fb9f3a"
            ],
            [
             0.8888888888888888,
             "#fdca26"
            ],
            [
             1,
             "#f0f921"
            ]
           ]
          },
          "colorway": [
           "#636efa",
           "#EF553B",
           "#00cc96",
           "#ab63fa",
           "#FFA15A",
           "#19d3f3",
           "#FF6692",
           "#B6E880",
           "#FF97FF",
           "#FECB52"
          ],
          "font": {
           "color": "#2a3f5f"
          },
          "geo": {
           "bgcolor": "white",
           "lakecolor": "white",
           "landcolor": "#E5ECF6",
           "showlakes": true,
           "showland": true,
           "subunitcolor": "white"
          },
          "hoverlabel": {
           "align": "left"
          },
          "hovermode": "closest",
          "mapbox": {
           "style": "light"
          },
          "paper_bgcolor": "white",
          "plot_bgcolor": "#E5ECF6",
          "polar": {
           "angularaxis": {
            "gridcolor": "white",
            "linecolor": "white",
            "ticks": ""
           },
           "bgcolor": "#E5ECF6",
           "radialaxis": {
            "gridcolor": "white",
            "linecolor": "white",
            "ticks": ""
           }
          },
          "scene": {
           "xaxis": {
            "backgroundcolor": "#E5ECF6",
            "gridcolor": "white",
            "gridwidth": 2,
            "linecolor": "white",
            "showbackground": true,
            "ticks": "",
            "zerolinecolor": "white"
           },
           "yaxis": {
            "backgroundcolor": "#E5ECF6",
            "gridcolor": "white",
            "gridwidth": 2,
            "linecolor": "white",
            "showbackground": true,
            "ticks": "",
            "zerolinecolor": "white"
           },
           "zaxis": {
            "backgroundcolor": "#E5ECF6",
            "gridcolor": "white",
            "gridwidth": 2,
            "linecolor": "white",
            "showbackground": true,
            "ticks": "",
            "zerolinecolor": "white"
           }
          },
          "shapedefaults": {
           "line": {
            "color": "#2a3f5f"
           }
          },
          "ternary": {
           "aaxis": {
            "gridcolor": "white",
            "linecolor": "white",
            "ticks": ""
           },
           "baxis": {
            "gridcolor": "white",
            "linecolor": "white",
            "ticks": ""
           },
           "bgcolor": "#E5ECF6",
           "caxis": {
            "gridcolor": "white",
            "linecolor": "white",
            "ticks": ""
           }
          },
          "title": {
           "x": 0.05
          },
          "xaxis": {
           "automargin": true,
           "gridcolor": "white",
           "linecolor": "white",
           "ticks": "",
           "title": {
            "standoff": 15
           },
           "zerolinecolor": "white",
           "zerolinewidth": 2
          },
          "yaxis": {
           "automargin": true,
           "gridcolor": "white",
           "linecolor": "white",
           "ticks": "",
           "title": {
            "standoff": 15
           },
           "zerolinecolor": "white",
           "zerolinewidth": 2
          }
         }
        },
        "width": 550,
        "xaxis": {
         "anchor": "y",
         "domain": [
          0,
          1
         ],
         "range": [
          0.45,
          1
         ],
         "tickvals": [
          0.5,
          0.55,
          0.6,
          0.65,
          0.7,
          0.75,
          0.8,
          0.85,
          0.9,
          0.95,
          1
         ],
         "title": {
          "text": "Time GAN"
         }
        },
        "yaxis": {
         "anchor": "x",
         "domain": [
          0,
          1
         ],
         "range": [
          0.45,
          1
         ],
         "tickvals": [
          0.5,
          0.55,
          0.6,
          0.65,
          0.7,
          0.75,
          0.8,
          0.85,
          0.9,
          0.95,
          1
         ],
         "title": {
          "text": "ff"
         }
        }
       }
      }
     },
     "metadata": {},
     "output_type": "display_data"
    }
   ],
   "source": [
    "fig = px.scatter(dfs_not_melted.T, x='timegan', y='ff', labels={'timegan': 'Time GAN', 'groupgan': 'Group GAN'})\n",
    "fig.update_layout(width = 550,\n",
    "                  height = 400,margin=dict(l=0, r=0, b=0, t=10), font=dict(size=15))\n",
    "fig.update_xaxes(range=[0.45, 1.0])\n",
    "fig.update_yaxes(range=[0.45, 1.0])\n",
    "fig.update_xaxes(tickvals=[0.5, 0.55, 0.6, 0.65, 0.7, 0.75, 0.8, 0.85, 0.9, 0.95, 1.0])\n",
    "fig.update_yaxes(tickvals=[0.5, 0.55, 0.6, 0.65, 0.7, 0.75, 0.8, 0.85, 0.9, 0.95, 1.0])\n",
    "fig.update_traces(marker={'size': 10})\n",
    "\n",
    "fig.add_trace(go.Scatter(\n",
    "    x = [0.45,1.1],\n",
    "    y = [0.45,1.1],\n",
    "    showlegend=False,\n",
    "    line=dict(color='red')\n",
    "))\n",
    "\n",
    "\n",
    "fig.add_trace(go.Scatter(\n",
    "    x = [0.45,1.1],\n",
    "    y = [0.55,1.2],\n",
    "    showlegend=False,\n",
    "    line=dict(dash='dash', color='black')\n",
    "))\n",
    "\n",
    "\n",
    "fig.add_trace(go.Scatter(\n",
    "    x = [0.45,1.1],\n",
    "    y = [0.65,1.3],\n",
    "    showlegend=False,\n",
    "    line=dict(dash='dash', color='black')\n",
    "))\n",
    "\n",
    "fig.add_trace(go.Scatter(\n",
    "    x = [0.45,1.1],\n",
    "    y = [0.75,1.4],\n",
    "    showlegend=False,\n",
    "    line=dict(dash='dash', color='black')\n",
    "))\n",
    "\n",
    "fig.add_trace(go.Scatter(\n",
    "    x = [0.45,1.1],\n",
    "    y = [0.35,1.0],\n",
    "    showlegend=False,\n",
    "    line=dict(dash='dash', color='black')\n",
    "))"
   ]
  },
  {
   "cell_type": "code",
   "execution_count": 123,
   "metadata": {},
   "outputs": [],
   "source": [
    "fig.write_image(\"scatter.pdf\")\n"
   ]
  },
  {
   "cell_type": "code",
   "execution_count": 79,
   "metadata": {},
   "outputs": [
    {
     "data": {
      "text/html": [
       "<div>\n",
       "<style scoped>\n",
       "    .dataframe tbody tr th:only-of-type {\n",
       "        vertical-align: middle;\n",
       "    }\n",
       "\n",
       "    .dataframe tbody tr th {\n",
       "        vertical-align: top;\n",
       "    }\n",
       "\n",
       "    .dataframe thead th {\n",
       "        text-align: right;\n",
       "    }\n",
       "</style>\n",
       "<table border=\"1\" class=\"dataframe\">\n",
       "  <thead>\n",
       "    <tr style=\"text-align: right;\">\n",
       "      <th></th>\n",
       "      <th>baseline</th>\n",
       "      <th>LSTM_MLP_with_CD</th>\n",
       "      <th>LSTM_without_CD</th>\n",
       "      <th>real</th>\n",
       "      <th>amount</th>\n",
       "      <th>n_groups</th>\n",
       "      <th>fraction</th>\n",
       "    </tr>\n",
       "  </thead>\n",
       "  <tbody>\n",
       "    <tr>\n",
       "      <th>1</th>\n",
       "      <td>0.773171</td>\n",
       "      <td>0.753659</td>\n",
       "      <td>0.743902</td>\n",
       "      <td>0.629268</td>\n",
       "      <td>1</td>\n",
       "      <td>2</td>\n",
       "      <td>0.3</td>\n",
       "    </tr>\n",
       "    <tr>\n",
       "      <th>2</th>\n",
       "      <td>0.712195</td>\n",
       "      <td>0.763415</td>\n",
       "      <td>0.668293</td>\n",
       "      <td>NaN</td>\n",
       "      <td>2</td>\n",
       "      <td>2</td>\n",
       "      <td>0.3</td>\n",
       "    </tr>\n",
       "    <tr>\n",
       "      <th>4</th>\n",
       "      <td>0.782927</td>\n",
       "      <td>0.751220</td>\n",
       "      <td>0.729268</td>\n",
       "      <td>NaN</td>\n",
       "      <td>4</td>\n",
       "      <td>2</td>\n",
       "      <td>0.3</td>\n",
       "    </tr>\n",
       "    <tr>\n",
       "      <th>6</th>\n",
       "      <td>0.748780</td>\n",
       "      <td>0.726829</td>\n",
       "      <td>0.658537</td>\n",
       "      <td>NaN</td>\n",
       "      <td>6</td>\n",
       "      <td>2</td>\n",
       "      <td>0.3</td>\n",
       "    </tr>\n",
       "    <tr>\n",
       "      <th>8</th>\n",
       "      <td>0.748780</td>\n",
       "      <td>0.704878</td>\n",
       "      <td>0.648780</td>\n",
       "      <td>NaN</td>\n",
       "      <td>8</td>\n",
       "      <td>2</td>\n",
       "      <td>0.3</td>\n",
       "    </tr>\n",
       "    <tr>\n",
       "      <th>...</th>\n",
       "      <td>...</td>\n",
       "      <td>...</td>\n",
       "      <td>...</td>\n",
       "      <td>...</td>\n",
       "      <td>...</td>\n",
       "      <td>...</td>\n",
       "      <td>...</td>\n",
       "    </tr>\n",
       "    <tr>\n",
       "      <th>2</th>\n",
       "      <td>0.624390</td>\n",
       "      <td>0.829268</td>\n",
       "      <td>0.631707</td>\n",
       "      <td>NaN</td>\n",
       "      <td>2</td>\n",
       "      <td>5</td>\n",
       "      <td>0.3</td>\n",
       "    </tr>\n",
       "    <tr>\n",
       "      <th>4</th>\n",
       "      <td>0.648780</td>\n",
       "      <td>0.824390</td>\n",
       "      <td>0.817073</td>\n",
       "      <td>NaN</td>\n",
       "      <td>4</td>\n",
       "      <td>5</td>\n",
       "      <td>0.3</td>\n",
       "    </tr>\n",
       "    <tr>\n",
       "      <th>6</th>\n",
       "      <td>0.646341</td>\n",
       "      <td>0.851220</td>\n",
       "      <td>0.709756</td>\n",
       "      <td>NaN</td>\n",
       "      <td>6</td>\n",
       "      <td>5</td>\n",
       "      <td>0.3</td>\n",
       "    </tr>\n",
       "    <tr>\n",
       "      <th>8</th>\n",
       "      <td>0.731707</td>\n",
       "      <td>0.751220</td>\n",
       "      <td>0.704878</td>\n",
       "      <td>NaN</td>\n",
       "      <td>8</td>\n",
       "      <td>5</td>\n",
       "      <td>0.3</td>\n",
       "    </tr>\n",
       "    <tr>\n",
       "      <th>10</th>\n",
       "      <td>0.817073</td>\n",
       "      <td>0.851220</td>\n",
       "      <td>0.687805</td>\n",
       "      <td>NaN</td>\n",
       "      <td>10</td>\n",
       "      <td>5</td>\n",
       "      <td>0.3</td>\n",
       "    </tr>\n",
       "  </tbody>\n",
       "</table>\n",
       "<p>120 rows × 7 columns</p>\n",
       "</div>"
      ],
      "text/plain": [
       "    baseline  LSTM_MLP_with_CD  LSTM_without_CD      real  amount n_groups  \\\n",
       "1   0.773171          0.753659         0.743902  0.629268       1        2   \n",
       "2   0.712195          0.763415         0.668293       NaN       2        2   \n",
       "4   0.782927          0.751220         0.729268       NaN       4        2   \n",
       "6   0.748780          0.726829         0.658537       NaN       6        2   \n",
       "8   0.748780          0.704878         0.648780       NaN       8        2   \n",
       "..       ...               ...              ...       ...     ...      ...   \n",
       "2   0.624390          0.829268         0.631707       NaN       2        5   \n",
       "4   0.648780          0.824390         0.817073       NaN       4        5   \n",
       "6   0.646341          0.851220         0.709756       NaN       6        5   \n",
       "8   0.731707          0.751220         0.704878       NaN       8        5   \n",
       "10  0.817073          0.851220         0.687805       NaN      10        5   \n",
       "\n",
       "    fraction  \n",
       "1        0.3  \n",
       "2        0.3  \n",
       "4        0.3  \n",
       "6        0.3  \n",
       "8        0.3  \n",
       "..       ...  \n",
       "2        0.3  \n",
       "4        0.3  \n",
       "6        0.3  \n",
       "8        0.3  \n",
       "10       0.3  \n",
       "\n",
       "[120 rows x 7 columns]"
      ]
     },
     "execution_count": 79,
     "metadata": {},
     "output_type": "execute_result"
    }
   ],
   "source": [
    "all_dfs"
   ]
  }
 ],
 "metadata": {
  "interpreter": {
   "hash": "795fc83421f890307230ebafb8698fb30ecd32bfacddc0880c6541ea65902590"
  },
  "kernelspec": {
   "display_name": "Python 3.9.7 ('research')",
   "language": "python",
   "name": "python3"
  },
  "language_info": {
   "codemirror_mode": {
    "name": "ipython",
    "version": 3
   },
   "file_extension": ".py",
   "mimetype": "text/x-python",
   "name": "python",
   "nbconvert_exporter": "python",
   "pygments_lexer": "ipython3",
   "version": "3.9.7"
  },
  "orig_nbformat": 4
 },
 "nbformat": 4,
 "nbformat_minor": 2
}
