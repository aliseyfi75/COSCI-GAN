{
 "cells": [
  {
   "cell_type": "code",
   "execution_count": 1,
   "metadata": {},
   "outputs": [],
   "source": [
    "import pandas as pd\n",
    "import plotly.express as px\n",
    "import plotly.graph_objects as go\n",
    "import pickle\n",
    "from scipy import stats"
   ]
  },
  {
   "cell_type": "code",
   "execution_count": 2,
   "metadata": {},
   "outputs": [],
   "source": [
    "dfs = {}\n",
    "dfs_melted = {}\n",
    "all_dfs = pd.DataFrame()\n",
    "for n_groups in [2,3,4,5]:\n",
    "    temp_dict = pickle.load(open(f'experiment_results/final_scores_{n_groups}.pkl', 'rb'))\n",
    "    temp_reform = {(outerKey, innerKey): values for outerKey, innerDict in temp_dict.items() for innerKey, values in innerDict.items()}\n",
    "    dfs[n_groups] = pd.DataFrame(temp_reform)\n",
    "    dfs_melted[n_groups] = dfs[n_groups].reset_index().melt(id_vars=['index'])\n",
    "    dfs_melted[n_groups]['n_groups'] = n_groups\n",
    "    all_dfs = all_dfs.append(dfs_melted[n_groups])"
   ]
  },
  {
   "cell_type": "code",
   "execution_count": 3,
   "metadata": {},
   "outputs": [],
   "source": [
    "all_dfs.replace('LSTM_MLP_with_CD', 'COSCI-GAN', inplace=True)\n",
    "all_dfs.replace('LSTM_without_CD', 'COSCI-GAN without CD', inplace=True)\n",
    "\n",
    "all_dfs_without_CD = all_dfs[all_dfs['index'] != 'COSCI-GAN without CD']"
   ]
  },
  {
   "cell_type": "code",
   "execution_count": 4,
   "metadata": {},
   "outputs": [
    {
     "data": {
      "application/vnd.plotly.v1+json": {
       "config": {
        "plotlyServerURL": "https://plot.ly"
       },
       "data": [
        {
         "alignmentgroup": "True",
         "hovertemplate": "index=baseline<br>variable_1=%{x}<br>value=%{y}<extra></extra>",
         "legendgroup": "baseline",
         "marker": {
          "color": "#636efa"
         },
         "name": "baseline",
         "notched": false,
         "offsetgroup": "baseline",
         "orientation": "v",
         "showlegend": true,
         "type": "box",
         "x": [
          1,
          2,
          4,
          6,
          8,
          10,
          1,
          2,
          4,
          6,
          8,
          10,
          1,
          2,
          4,
          6,
          8,
          10,
          1,
          2,
          4,
          6,
          8,
          10,
          1,
          2,
          4,
          6,
          8,
          10
         ],
         "x0": " ",
         "xaxis": "x",
         "y": [
          0.526829268292683,
          0.4878048780487805,
          0.5317073170731708,
          0.47073170731707314,
          0.48048780487804876,
          0.4878048780487805,
          0.4926829268292683,
          0.5219512195121951,
          0.5,
          0.4951219512195122,
          0.5170731707317073,
          0.526829268292683,
          0.5,
          0.5146341463414634,
          0.47073170731707314,
          0.5414634146341464,
          0.4560975609756098,
          0.4878048780487805,
          0.5073170731707317,
          0.4609756097560976,
          0.5341463414634147,
          0.5146341463414634,
          0.4975609756097561,
          0.5365853658536586,
          0.5536585365853659,
          0.4951219512195122,
          0.5390243902439025,
          0.48292682926829267,
          0.45365853658536587,
          0.4951219512195122
         ],
         "y0": " ",
         "yaxis": "y"
        },
        {
         "alignmentgroup": "True",
         "hovertemplate": "index=LSTM_MLP_with_CD<br>variable_1=%{x}<br>value=%{y}<extra></extra>",
         "legendgroup": "LSTM_MLP_with_CD",
         "marker": {
          "color": "#EF553B"
         },
         "name": "LSTM_MLP_with_CD",
         "notched": false,
         "offsetgroup": "LSTM_MLP_with_CD",
         "orientation": "v",
         "showlegend": true,
         "type": "box",
         "x": [
          1,
          2,
          4,
          6,
          8,
          10,
          1,
          2,
          4,
          6,
          8,
          10,
          1,
          2,
          4,
          6,
          8,
          10,
          1,
          2,
          4,
          6,
          8,
          10,
          1,
          2,
          4,
          6,
          8,
          10
         ],
         "x0": " ",
         "xaxis": "x",
         "y": [
          0.7146341463414634,
          0.8121951219512195,
          0.6926829268292682,
          0.7658536585365854,
          0.7317073170731707,
          0.7390243902439024,
          0.7219512195121951,
          0.7829268292682927,
          0.7536585365853659,
          0.7829268292682927,
          0.7804878048780488,
          0.6878048780487804,
          0.6536585365853659,
          0.8121951219512195,
          0.7463414634146341,
          0.7146341463414634,
          0.7658536585365854,
          0.7585365853658537,
          0.7292682926829268,
          0.6902439024390243,
          0.748780487804878,
          0.7146341463414634,
          0.6902439024390243,
          0.7170731707317073,
          0.673170731707317,
          0.7097560975609756,
          0.7170731707317073,
          0.7195121951219512,
          0.7609756097560976,
          0.7585365853658537
         ],
         "y0": " ",
         "yaxis": "y"
        },
        {
         "alignmentgroup": "True",
         "hovertemplate": "index=LSTM_without_CD<br>variable_1=%{x}<br>value=%{y}<extra></extra>",
         "legendgroup": "LSTM_without_CD",
         "marker": {
          "color": "#00cc96"
         },
         "name": "LSTM_without_CD",
         "notched": false,
         "offsetgroup": "LSTM_without_CD",
         "orientation": "v",
         "showlegend": true,
         "type": "box",
         "x": [
          1,
          2,
          4,
          6,
          8,
          10,
          1,
          2,
          4,
          6,
          8,
          10,
          1,
          2,
          4,
          6,
          8,
          10,
          1,
          2,
          4,
          6,
          8,
          10,
          1,
          2,
          4,
          6,
          8,
          10
         ],
         "x0": " ",
         "xaxis": "x",
         "y": [
          0.5658536585365853,
          0.5634146341463414,
          0.5585365853658537,
          0.5195121951219512,
          0.5634146341463414,
          0.5414634146341464,
          0.5463414634146342,
          0.5097560975609756,
          0.5219512195121951,
          0.5804878048780487,
          0.5853658536585366,
          0.5414634146341464,
          0.5536585365853659,
          0.526829268292683,
          0.5609756097560976,
          0.5780487804878048,
          0.526829268292683,
          0.6048780487804878,
          0.5585365853658537,
          0.524390243902439,
          0.5390243902439025,
          0.551219512195122,
          0.524390243902439,
          0.5341463414634147,
          0.5365853658536586,
          0.5341463414634147,
          0.5926829268292683,
          0.5658536585365853,
          0.5780487804878048,
          0.5341463414634147
         ],
         "y0": " ",
         "yaxis": "y"
        },
        {
         "alignmentgroup": "True",
         "hovertemplate": "index=real<br>variable_1=%{x}<br>value=%{y}<extra></extra>",
         "legendgroup": "real",
         "marker": {
          "color": "#ab63fa"
         },
         "name": "real",
         "notched": false,
         "offsetgroup": "real",
         "orientation": "v",
         "showlegend": true,
         "type": "box",
         "x": [
          1,
          2,
          4,
          6,
          8,
          10,
          1,
          2,
          4,
          6,
          8,
          10,
          1,
          2,
          4,
          6,
          8,
          10,
          1,
          2,
          4,
          6,
          8,
          10,
          1,
          2,
          4,
          6,
          8,
          10
         ],
         "x0": " ",
         "xaxis": "x",
         "y": [
          0.7,
          null,
          null,
          null,
          null,
          null,
          0.7878048780487804,
          null,
          null,
          null,
          null,
          null,
          0.7707317073170732,
          null,
          null,
          null,
          null,
          null,
          0.6609756097560976,
          null,
          null,
          null,
          null,
          null,
          0.7463414634146341,
          null,
          null,
          null,
          null,
          null
         ],
         "y0": " ",
         "yaxis": "y"
        }
       ],
       "layout": {
        "boxmode": "group",
        "legend": {
         "title": {
          "text": "index"
         },
         "tracegroupgap": 0
        },
        "margin": {
         "t": 60
        },
        "shapes": [
         {
          "line": {
           "color": "red",
           "dash": "dash"
          },
          "type": "line",
          "x0": 0,
          "x1": 1,
          "xref": "x domain",
          "y0": 0.6331707317073171,
          "y1": 0.6331707317073171,
          "yref": "y"
         }
        ],
        "template": {
         "data": {
          "bar": [
           {
            "error_x": {
             "color": "#2a3f5f"
            },
            "error_y": {
             "color": "#2a3f5f"
            },
            "marker": {
             "line": {
              "color": "#E5ECF6",
              "width": 0.5
             },
             "pattern": {
              "fillmode": "overlay",
              "size": 10,
              "solidity": 0.2
             }
            },
            "type": "bar"
           }
          ],
          "barpolar": [
           {
            "marker": {
             "line": {
              "color": "#E5ECF6",
              "width": 0.5
             },
             "pattern": {
              "fillmode": "overlay",
              "size": 10,
              "solidity": 0.2
             }
            },
            "type": "barpolar"
           }
          ],
          "carpet": [
           {
            "aaxis": {
             "endlinecolor": "#2a3f5f",
             "gridcolor": "white",
             "linecolor": "white",
             "minorgridcolor": "white",
             "startlinecolor": "#2a3f5f"
            },
            "baxis": {
             "endlinecolor": "#2a3f5f",
             "gridcolor": "white",
             "linecolor": "white",
             "minorgridcolor": "white",
             "startlinecolor": "#2a3f5f"
            },
            "type": "carpet"
           }
          ],
          "choropleth": [
           {
            "colorbar": {
             "outlinewidth": 0,
             "ticks": ""
            },
            "type": "choropleth"
           }
          ],
          "contour": [
           {
            "colorbar": {
             "outlinewidth": 0,
             "ticks": ""
            },
            "colorscale": [
             [
              0,
              "#0d0887"
             ],
             [
              0.1111111111111111,
              "#46039f"
             ],
             [
              0.2222222222222222,
              "#7201a8"
             ],
             [
              0.3333333333333333,
              "#9c179e"
             ],
             [
              0.4444444444444444,
              "#bd3786"
             ],
             [
              0.5555555555555556,
              "#d8576b"
             ],
             [
              0.6666666666666666,
              "#ed7953"
             ],
             [
              0.7777777777777778,
              "#fb9f3a"
             ],
             [
              0.8888888888888888,
              "#fdca26"
             ],
             [
              1,
              "#f0f921"
             ]
            ],
            "type": "contour"
           }
          ],
          "contourcarpet": [
           {
            "colorbar": {
             "outlinewidth": 0,
             "ticks": ""
            },
            "type": "contourcarpet"
           }
          ],
          "heatmap": [
           {
            "colorbar": {
             "outlinewidth": 0,
             "ticks": ""
            },
            "colorscale": [
             [
              0,
              "#0d0887"
             ],
             [
              0.1111111111111111,
              "#46039f"
             ],
             [
              0.2222222222222222,
              "#7201a8"
             ],
             [
              0.3333333333333333,
              "#9c179e"
             ],
             [
              0.4444444444444444,
              "#bd3786"
             ],
             [
              0.5555555555555556,
              "#d8576b"
             ],
             [
              0.6666666666666666,
              "#ed7953"
             ],
             [
              0.7777777777777778,
              "#fb9f3a"
             ],
             [
              0.8888888888888888,
              "#fdca26"
             ],
             [
              1,
              "#f0f921"
             ]
            ],
            "type": "heatmap"
           }
          ],
          "heatmapgl": [
           {
            "colorbar": {
             "outlinewidth": 0,
             "ticks": ""
            },
            "colorscale": [
             [
              0,
              "#0d0887"
             ],
             [
              0.1111111111111111,
              "#46039f"
             ],
             [
              0.2222222222222222,
              "#7201a8"
             ],
             [
              0.3333333333333333,
              "#9c179e"
             ],
             [
              0.4444444444444444,
              "#bd3786"
             ],
             [
              0.5555555555555556,
              "#d8576b"
             ],
             [
              0.6666666666666666,
              "#ed7953"
             ],
             [
              0.7777777777777778,
              "#fb9f3a"
             ],
             [
              0.8888888888888888,
              "#fdca26"
             ],
             [
              1,
              "#f0f921"
             ]
            ],
            "type": "heatmapgl"
           }
          ],
          "histogram": [
           {
            "marker": {
             "pattern": {
              "fillmode": "overlay",
              "size": 10,
              "solidity": 0.2
             }
            },
            "type": "histogram"
           }
          ],
          "histogram2d": [
           {
            "colorbar": {
             "outlinewidth": 0,
             "ticks": ""
            },
            "colorscale": [
             [
              0,
              "#0d0887"
             ],
             [
              0.1111111111111111,
              "#46039f"
             ],
             [
              0.2222222222222222,
              "#7201a8"
             ],
             [
              0.3333333333333333,
              "#9c179e"
             ],
             [
              0.4444444444444444,
              "#bd3786"
             ],
             [
              0.5555555555555556,
              "#d8576b"
             ],
             [
              0.6666666666666666,
              "#ed7953"
             ],
             [
              0.7777777777777778,
              "#fb9f3a"
             ],
             [
              0.8888888888888888,
              "#fdca26"
             ],
             [
              1,
              "#f0f921"
             ]
            ],
            "type": "histogram2d"
           }
          ],
          "histogram2dcontour": [
           {
            "colorbar": {
             "outlinewidth": 0,
             "ticks": ""
            },
            "colorscale": [
             [
              0,
              "#0d0887"
             ],
             [
              0.1111111111111111,
              "#46039f"
             ],
             [
              0.2222222222222222,
              "#7201a8"
             ],
             [
              0.3333333333333333,
              "#9c179e"
             ],
             [
              0.4444444444444444,
              "#bd3786"
             ],
             [
              0.5555555555555556,
              "#d8576b"
             ],
             [
              0.6666666666666666,
              "#ed7953"
             ],
             [
              0.7777777777777778,
              "#fb9f3a"
             ],
             [
              0.8888888888888888,
              "#fdca26"
             ],
             [
              1,
              "#f0f921"
             ]
            ],
            "type": "histogram2dcontour"
           }
          ],
          "mesh3d": [
           {
            "colorbar": {
             "outlinewidth": 0,
             "ticks": ""
            },
            "type": "mesh3d"
           }
          ],
          "parcoords": [
           {
            "line": {
             "colorbar": {
              "outlinewidth": 0,
              "ticks": ""
             }
            },
            "type": "parcoords"
           }
          ],
          "pie": [
           {
            "automargin": true,
            "type": "pie"
           }
          ],
          "scatter": [
           {
            "marker": {
             "colorbar": {
              "outlinewidth": 0,
              "ticks": ""
             }
            },
            "type": "scatter"
           }
          ],
          "scatter3d": [
           {
            "line": {
             "colorbar": {
              "outlinewidth": 0,
              "ticks": ""
             }
            },
            "marker": {
             "colorbar": {
              "outlinewidth": 0,
              "ticks": ""
             }
            },
            "type": "scatter3d"
           }
          ],
          "scattercarpet": [
           {
            "marker": {
             "colorbar": {
              "outlinewidth": 0,
              "ticks": ""
             }
            },
            "type": "scattercarpet"
           }
          ],
          "scattergeo": [
           {
            "marker": {
             "colorbar": {
              "outlinewidth": 0,
              "ticks": ""
             }
            },
            "type": "scattergeo"
           }
          ],
          "scattergl": [
           {
            "marker": {
             "colorbar": {
              "outlinewidth": 0,
              "ticks": ""
             }
            },
            "type": "scattergl"
           }
          ],
          "scattermapbox": [
           {
            "marker": {
             "colorbar": {
              "outlinewidth": 0,
              "ticks": ""
             }
            },
            "type": "scattermapbox"
           }
          ],
          "scatterpolar": [
           {
            "marker": {
             "colorbar": {
              "outlinewidth": 0,
              "ticks": ""
             }
            },
            "type": "scatterpolar"
           }
          ],
          "scatterpolargl": [
           {
            "marker": {
             "colorbar": {
              "outlinewidth": 0,
              "ticks": ""
             }
            },
            "type": "scatterpolargl"
           }
          ],
          "scatterternary": [
           {
            "marker": {
             "colorbar": {
              "outlinewidth": 0,
              "ticks": ""
             }
            },
            "type": "scatterternary"
           }
          ],
          "surface": [
           {
            "colorbar": {
             "outlinewidth": 0,
             "ticks": ""
            },
            "colorscale": [
             [
              0,
              "#0d0887"
             ],
             [
              0.1111111111111111,
              "#46039f"
             ],
             [
              0.2222222222222222,
              "#7201a8"
             ],
             [
              0.3333333333333333,
              "#9c179e"
             ],
             [
              0.4444444444444444,
              "#bd3786"
             ],
             [
              0.5555555555555556,
              "#d8576b"
             ],
             [
              0.6666666666666666,
              "#ed7953"
             ],
             [
              0.7777777777777778,
              "#fb9f3a"
             ],
             [
              0.8888888888888888,
              "#fdca26"
             ],
             [
              1,
              "#f0f921"
             ]
            ],
            "type": "surface"
           }
          ],
          "table": [
           {
            "cells": {
             "fill": {
              "color": "#EBF0F8"
             },
             "line": {
              "color": "white"
             }
            },
            "header": {
             "fill": {
              "color": "#C8D4E3"
             },
             "line": {
              "color": "white"
             }
            },
            "type": "table"
           }
          ]
         },
         "layout": {
          "annotationdefaults": {
           "arrowcolor": "#2a3f5f",
           "arrowhead": 0,
           "arrowwidth": 1
          },
          "autotypenumbers": "strict",
          "coloraxis": {
           "colorbar": {
            "outlinewidth": 0,
            "ticks": ""
           }
          },
          "colorscale": {
           "diverging": [
            [
             0,
             "#8e0152"
            ],
            [
             0.1,
             "#c51b7d"
            ],
            [
             0.2,
             "#de77ae"
            ],
            [
             0.3,
             "#f1b6da"
            ],
            [
             0.4,
             "#fde0ef"
            ],
            [
             0.5,
             "#f7f7f7"
            ],
            [
             0.6,
             "#e6f5d0"
            ],
            [
             0.7,
             "#b8e186"
            ],
            [
             0.8,
             "#7fbc41"
            ],
            [
             0.9,
             "#4d9221"
            ],
            [
             1,
             "#276419"
            ]
           ],
           "sequential": [
            [
             0,
             "#0d0887"
            ],
            [
             0.1111111111111111,
             "#46039f"
            ],
            [
             0.2222222222222222,
             "#7201a8"
            ],
            [
             0.3333333333333333,
             "#9c179e"
            ],
            [
             0.4444444444444444,
             "#bd3786"
            ],
            [
             0.5555555555555556,
             "#d8576b"
            ],
            [
             0.6666666666666666,
             "#ed7953"
            ],
            [
             0.7777777777777778,
             "#fb9f3a"
            ],
            [
             0.8888888888888888,
             "#fdca26"
            ],
            [
             1,
             "#f0f921"
            ]
           ],
           "sequentialminus": [
            [
             0,
             "#0d0887"
            ],
            [
             0.1111111111111111,
             "#46039f"
            ],
            [
             0.2222222222222222,
             "#7201a8"
            ],
            [
             0.3333333333333333,
             "#9c179e"
            ],
            [
             0.4444444444444444,
             "#bd3786"
            ],
            [
             0.5555555555555556,
             "#d8576b"
            ],
            [
             0.6666666666666666,
             "#ed7953"
            ],
            [
             0.7777777777777778,
             "#fb9f3a"
            ],
            [
             0.8888888888888888,
             "#fdca26"
            ],
            [
             1,
             "#f0f921"
            ]
           ]
          },
          "colorway": [
           "#636efa",
           "#EF553B",
           "#00cc96",
           "#ab63fa",
           "#FFA15A",
           "#19d3f3",
           "#FF6692",
           "#B6E880",
           "#FF97FF",
           "#FECB52"
          ],
          "font": {
           "color": "#2a3f5f"
          },
          "geo": {
           "bgcolor": "white",
           "lakecolor": "white",
           "landcolor": "#E5ECF6",
           "showlakes": true,
           "showland": true,
           "subunitcolor": "white"
          },
          "hoverlabel": {
           "align": "left"
          },
          "hovermode": "closest",
          "mapbox": {
           "style": "light"
          },
          "paper_bgcolor": "white",
          "plot_bgcolor": "#E5ECF6",
          "polar": {
           "angularaxis": {
            "gridcolor": "white",
            "linecolor": "white",
            "ticks": ""
           },
           "bgcolor": "#E5ECF6",
           "radialaxis": {
            "gridcolor": "white",
            "linecolor": "white",
            "ticks": ""
           }
          },
          "scene": {
           "xaxis": {
            "backgroundcolor": "#E5ECF6",
            "gridcolor": "white",
            "gridwidth": 2,
            "linecolor": "white",
            "showbackground": true,
            "ticks": "",
            "zerolinecolor": "white"
           },
           "yaxis": {
            "backgroundcolor": "#E5ECF6",
            "gridcolor": "white",
            "gridwidth": 2,
            "linecolor": "white",
            "showbackground": true,
            "ticks": "",
            "zerolinecolor": "white"
           },
           "zaxis": {
            "backgroundcolor": "#E5ECF6",
            "gridcolor": "white",
            "gridwidth": 2,
            "linecolor": "white",
            "showbackground": true,
            "ticks": "",
            "zerolinecolor": "white"
           }
          },
          "shapedefaults": {
           "line": {
            "color": "#2a3f5f"
           }
          },
          "ternary": {
           "aaxis": {
            "gridcolor": "white",
            "linecolor": "white",
            "ticks": ""
           },
           "baxis": {
            "gridcolor": "white",
            "linecolor": "white",
            "ticks": ""
           },
           "bgcolor": "#E5ECF6",
           "caxis": {
            "gridcolor": "white",
            "linecolor": "white",
            "ticks": ""
           }
          },
          "title": {
           "x": 0.05
          },
          "xaxis": {
           "automargin": true,
           "gridcolor": "white",
           "linecolor": "white",
           "ticks": "",
           "title": {
            "standoff": 15
           },
           "zerolinecolor": "white",
           "zerolinewidth": 2
          },
          "yaxis": {
           "automargin": true,
           "gridcolor": "white",
           "linecolor": "white",
           "ticks": "",
           "title": {
            "standoff": 15
           },
           "zerolinecolor": "white",
           "zerolinewidth": 2
          }
         }
        },
        "xaxis": {
         "anchor": "y",
         "domain": [
          0,
          1
         ],
         "title": {
          "text": "variable_1"
         }
        },
        "yaxis": {
         "anchor": "x",
         "domain": [
          0,
          1
         ],
         "title": {
          "text": "value"
         }
        }
       }
      }
     },
     "metadata": {},
     "output_type": "display_data"
    }
   ],
   "source": [
    "n_groups = 5\n",
    "fig = px.box(dfs_melted[n_groups], x='variable_1', y='value', color='index')\n",
    "real_mean = dfs[n_groups].T['real'].mean()\n",
    "# fig.add_trace(go.Scatter(x=[1,10], y=[real_mean, real_mean], mode=\"lines\", name=\"\"))\n",
    "fig.add_hline(real_mean,line_dash=\"dash\", line_color=\"red\")\n",
    "fig.show()"
   ]
  },
  {
   "cell_type": "code",
   "execution_count": 6,
   "metadata": {},
   "outputs": [],
   "source": [
    "def add_anootation(fig, x0, x1, symbol):\n",
    "    fig.add_shape(type=\"line\",\n",
    "        xref=\"x\", yref=\"y\"+\" domain\",\n",
    "        x0=x0, y0=1.00, \n",
    "        x1=x0, y1=0.98,\n",
    "        line=dict(color='black', width=2,)\n",
    "    )\n",
    "    # Horizontal line\n",
    "    fig.add_shape(type=\"line\",\n",
    "        xref=\"x\", yref=\"y\"+\" domain\",\n",
    "        x0=x0, y0=1.00,\n",
    "        x1=x1, y1=1.00,\n",
    "        line=dict(color='black', width=2,)\n",
    "    )\n",
    "    # Vertical line\n",
    "    fig.add_shape(type=\"line\",\n",
    "        xref=\"x\", yref=\"y\"+\" domain\",\n",
    "        x0=x1, y0=1.00, \n",
    "        x1=x1, y1=0.98,\n",
    "        line=dict(color='black', width=2,)\n",
    "    )\n",
    "    ## add text at the correct x, y coordinates\n",
    "    ## for bars, there is a direct mapping from the bar number to 0, 1, 2...\n",
    "    fig.add_annotation(dict(font=dict(color='black',size=14),\n",
    "        x=(x0 + x1)/2,\n",
    "        y=1.05,\n",
    "        showarrow=False,\n",
    "        text=symbol,\n",
    "        textangle=0,\n",
    "        xref=\"x\",\n",
    "        yref=\"y\"+\" domain\"\n",
    "    ))\n",
    "    return fig\n",
    "\n",
    "def symbol_generator(data_1, data_2):\n",
    "    pvalue = stats.ttest_ind(\n",
    "        data_1,\n",
    "        data_2,\n",
    "        equal_var=False,\n",
    "    )[1]\n",
    "    if pvalue >= 0.05:\n",
    "        symbol = 'ns'\n",
    "    elif pvalue >= 0.01: \n",
    "        symbol = '*'\n",
    "    elif pvalue >= 0.001:\n",
    "        symbol = '**'\n",
    "    else:\n",
    "        symbol = '***'\n",
    "    return symbol"
   ]
  },
  {
   "cell_type": "code",
   "execution_count": 33,
   "metadata": {},
   "outputs": [
    {
     "data": {
      "application/vnd.plotly.v1+json": {
       "config": {
        "plotlyServerURL": "https://plot.ly"
       },
       "data": [
        {
         "alignmentgroup": "True",
         "hovertemplate": "Models=baseline<br>Number of channels=%{x}<br>Accuracy=%{y}<extra></extra>",
         "legendgroup": "baseline",
         "marker": {
          "color": "red"
         },
         "name": "baseline",
         "notched": false,
         "offsetgroup": "baseline",
         "orientation": "v",
         "showlegend": true,
         "type": "box",
         "x": [
          2,
          2,
          2,
          2,
          2,
          2,
          2,
          2,
          2,
          2,
          2,
          2,
          2,
          2,
          2,
          2,
          2,
          2,
          2,
          2,
          2,
          2,
          2,
          2,
          2,
          2,
          2,
          2,
          2,
          2,
          3,
          3,
          3,
          3,
          3,
          3,
          3,
          3,
          3,
          3,
          3,
          3,
          3,
          3,
          3,
          3,
          3,
          3,
          3,
          3,
          3,
          3,
          3,
          3,
          3,
          3,
          3,
          3,
          3,
          3,
          4,
          4,
          4,
          4,
          4,
          4,
          4,
          4,
          4,
          4,
          4,
          4,
          4,
          4,
          4,
          4,
          4,
          4,
          4,
          4,
          4,
          4,
          4,
          4,
          4,
          4,
          4,
          4,
          4,
          4,
          5,
          5,
          5,
          5,
          5,
          5,
          5,
          5,
          5,
          5,
          5,
          5,
          5,
          5,
          5,
          5,
          5,
          5,
          5,
          5,
          5,
          5,
          5,
          5,
          5,
          5,
          5,
          5,
          5,
          5
         ],
         "x0": " ",
         "xaxis": "x",
         "y": [
          0.6487804878048781,
          0.6951219512195121,
          0.6902439024390243,
          0.7146341463414634,
          0.6804878048780488,
          0.6902439024390243,
          0.6707317073170732,
          0.651219512195122,
          0.6902439024390243,
          0.7,
          0.724390243902439,
          0.6951219512195121,
          0.6609756097560976,
          0.6634146341463415,
          0.7073170731707317,
          0.6780487804878049,
          0.6829268292682927,
          0.7170731707317073,
          0.7121951219512195,
          0.573170731707317,
          0.7048780487804878,
          0.6926829268292682,
          0.7390243902439024,
          0.6878048780487804,
          0.651219512195122,
          0.7268292682926829,
          0.624390243902439,
          0.7463414634146341,
          0.675609756097561,
          0.7121951219512195,
          0.5487804878048781,
          0.5121951219512195,
          0.5878048780487805,
          0.5609756097560976,
          0.5219512195121951,
          0.6170731707317073,
          0.4853658536585366,
          0.5024390243902439,
          0.524390243902439,
          0.5585365853658537,
          0.5902439024390244,
          0.573170731707317,
          0.5170731707317073,
          0.5292682926829269,
          0.5902439024390244,
          0.5170731707317073,
          0.5073170731707317,
          0.524390243902439,
          0.5170731707317073,
          0.5317073170731708,
          0.5585365853658537,
          0.5951219512195122,
          0.651219512195122,
          0.551219512195122,
          0.524390243902439,
          0.6365853658536585,
          0.573170731707317,
          0.6268292682926829,
          0.5585365853658537,
          0.5634146341463414,
          0.5219512195121951,
          0.5,
          0.5,
          0.5146341463414634,
          0.47317073170731705,
          0.5170731707317073,
          0.5097560975609756,
          0.5073170731707317,
          0.5414634146341464,
          0.5829268292682926,
          0.573170731707317,
          0.5073170731707317,
          0.4926829268292683,
          0.5317073170731708,
          0.5341463414634147,
          0.5365853658536586,
          0.5195121951219512,
          0.5390243902439025,
          0.4951219512195122,
          0.5146341463414634,
          0.524390243902439,
          0.5585365853658537,
          0.5121951219512195,
          0.5707317073170731,
          0.5341463414634147,
          0.4682926829268293,
          0.5292682926829269,
          0.4902439024390244,
          0.5024390243902439,
          0.4951219512195122,
          0.526829268292683,
          0.4878048780487805,
          0.5317073170731708,
          0.47073170731707314,
          0.48048780487804876,
          0.4878048780487805,
          0.4926829268292683,
          0.5219512195121951,
          0.5,
          0.4951219512195122,
          0.5170731707317073,
          0.526829268292683,
          0.5,
          0.5146341463414634,
          0.47073170731707314,
          0.5414634146341464,
          0.4560975609756098,
          0.4878048780487805,
          0.5073170731707317,
          0.4609756097560976,
          0.5341463414634147,
          0.5146341463414634,
          0.4975609756097561,
          0.5365853658536586,
          0.5536585365853659,
          0.4951219512195122,
          0.5390243902439025,
          0.48292682926829267,
          0.45365853658536587,
          0.4951219512195122
         ],
         "y0": " ",
         "yaxis": "y"
        },
        {
         "alignmentgroup": "True",
         "hovertemplate": "Models=GroupGAN<br>Number of channels=%{x}<br>Accuracy=%{y}<extra></extra>",
         "legendgroup": "GroupGAN",
         "marker": {
          "color": "green"
         },
         "name": "GroupGAN",
         "notched": false,
         "offsetgroup": "GroupGAN",
         "orientation": "v",
         "showlegend": true,
         "type": "box",
         "x": [
          2,
          2,
          2,
          2,
          2,
          2,
          2,
          2,
          2,
          2,
          2,
          2,
          2,
          2,
          2,
          2,
          2,
          2,
          2,
          2,
          2,
          2,
          2,
          2,
          2,
          2,
          2,
          2,
          2,
          2,
          3,
          3,
          3,
          3,
          3,
          3,
          3,
          3,
          3,
          3,
          3,
          3,
          3,
          3,
          3,
          3,
          3,
          3,
          3,
          3,
          3,
          3,
          3,
          3,
          3,
          3,
          3,
          3,
          3,
          3,
          4,
          4,
          4,
          4,
          4,
          4,
          4,
          4,
          4,
          4,
          4,
          4,
          4,
          4,
          4,
          4,
          4,
          4,
          4,
          4,
          4,
          4,
          4,
          4,
          4,
          4,
          4,
          4,
          4,
          4,
          5,
          5,
          5,
          5,
          5,
          5,
          5,
          5,
          5,
          5,
          5,
          5,
          5,
          5,
          5,
          5,
          5,
          5,
          5,
          5,
          5,
          5,
          5,
          5,
          5,
          5,
          5,
          5,
          5,
          5
         ],
         "x0": " ",
         "xaxis": "x",
         "y": [
          0.7024390243902439,
          0.675609756097561,
          0.624390243902439,
          0.6292682926829268,
          0.6829268292682927,
          0.6560975609756098,
          0.6878048780487804,
          0.7097560975609756,
          0.6292682926829268,
          0.6536585365853659,
          0.6195121951219512,
          0.5926829268292683,
          0.697560975609756,
          0.6024390243902439,
          0.6536585365853659,
          0.6804878048780488,
          0.6536585365853659,
          0.573170731707317,
          0.6585365853658537,
          0.6878048780487804,
          0.6780487804878049,
          0.651219512195122,
          0.6634146341463415,
          0.6658536585365854,
          0.7317073170731707,
          0.6878048780487804,
          0.6731707317073171,
          0.6560975609756098,
          0.6463414634146342,
          0.5536585365853659,
          0.6439024390243903,
          0.6365853658536585,
          0.6804878048780488,
          0.6902439024390243,
          0.651219512195122,
          0.6780487804878049,
          0.7097560975609756,
          0.6853658536585366,
          0.6609756097560976,
          0.526829268292683,
          0.7195121951219512,
          0.6487804878048781,
          0.7414634146341463,
          0.7268292682926829,
          0.6951219512195121,
          0.6682926829268293,
          0.6878048780487804,
          0.6829268292682927,
          0.6463414634146342,
          0.7268292682926829,
          0.6853658536585366,
          0.6902439024390243,
          0.6926829268292682,
          0.7292682926829268,
          0.7536585365853659,
          0.7121951219512195,
          0.6926829268292682,
          0.6195121951219512,
          0.7146341463414634,
          0.6146341463414634,
          0.6878048780487804,
          0.6878048780487804,
          0.724390243902439,
          0.6878048780487804,
          0.6951219512195121,
          0.7146341463414634,
          0.6829268292682927,
          0.7170731707317073,
          0.6902439024390243,
          0.7170731707317073,
          0.6780487804878049,
          0.7073170731707317,
          0.675609756097561,
          0.675609756097561,
          0.6902439024390243,
          0.7219512195121951,
          0.6707317073170732,
          0.697560975609756,
          0.697560975609756,
          0.6878048780487804,
          0.697560975609756,
          0.7365853658536585,
          0.7170731707317073,
          0.751219512195122,
          0.6536585365853659,
          0.6439024390243903,
          0.7146341463414634,
          0.6853658536585366,
          0.6926829268292682,
          0.6951219512195121,
          0.7146341463414634,
          0.8121951219512195,
          0.6926829268292682,
          0.7658536585365854,
          0.7317073170731707,
          0.7390243902439024,
          0.7219512195121951,
          0.7829268292682927,
          0.7536585365853659,
          0.7829268292682927,
          0.7804878048780488,
          0.6878048780487804,
          0.6536585365853659,
          0.8121951219512195,
          0.7463414634146341,
          0.7146341463414634,
          0.7658536585365854,
          0.7585365853658537,
          0.7292682926829268,
          0.6902439024390243,
          0.748780487804878,
          0.7146341463414634,
          0.6902439024390243,
          0.7170731707317073,
          0.673170731707317,
          0.7097560975609756,
          0.7170731707317073,
          0.7195121951219512,
          0.7609756097560976,
          0.7585365853658537
         ],
         "y0": " ",
         "yaxis": "y"
        },
        {
         "alignmentgroup": "True",
         "hovertemplate": "Models=real<br>Number of channels=%{x}<br>Accuracy=%{y}<extra></extra>",
         "legendgroup": "real",
         "marker": {
          "color": "blue"
         },
         "name": "real",
         "notched": false,
         "offsetgroup": "real",
         "orientation": "v",
         "showlegend": true,
         "type": "box",
         "x": [
          2,
          2,
          2,
          2,
          2,
          2,
          2,
          2,
          2,
          2,
          2,
          2,
          2,
          2,
          2,
          2,
          2,
          2,
          2,
          2,
          2,
          2,
          2,
          2,
          2,
          2,
          2,
          2,
          2,
          2,
          3,
          3,
          3,
          3,
          3,
          3,
          3,
          3,
          3,
          3,
          3,
          3,
          3,
          3,
          3,
          3,
          3,
          3,
          3,
          3,
          3,
          3,
          3,
          3,
          3,
          3,
          3,
          3,
          3,
          3,
          4,
          4,
          4,
          4,
          4,
          4,
          4,
          4,
          4,
          4,
          4,
          4,
          4,
          4,
          4,
          4,
          4,
          4,
          4,
          4,
          4,
          4,
          4,
          4,
          4,
          4,
          4,
          4,
          4,
          4,
          5,
          5,
          5,
          5,
          5,
          5,
          5,
          5,
          5,
          5,
          5,
          5,
          5,
          5,
          5,
          5,
          5,
          5,
          5,
          5,
          5,
          5,
          5,
          5,
          5,
          5,
          5,
          5,
          5,
          5
         ],
         "x0": " ",
         "xaxis": "x",
         "y": [
          0.6024390243902439,
          null,
          null,
          null,
          null,
          null,
          0.6341463414634146,
          null,
          null,
          null,
          null,
          null,
          0.6268292682926829,
          null,
          null,
          null,
          null,
          null,
          0.6292682926829268,
          null,
          null,
          null,
          null,
          null,
          0.6585365853658537,
          null,
          null,
          null,
          null,
          null,
          0.6707317073170732,
          null,
          null,
          null,
          null,
          null,
          0.6926829268292682,
          null,
          null,
          null,
          null,
          null,
          0.6341463414634146,
          null,
          null,
          null,
          null,
          null,
          0.5878048780487805,
          null,
          null,
          null,
          null,
          null,
          0.5609756097560976,
          null,
          null,
          null,
          null,
          null,
          0.748780487804878,
          null,
          null,
          null,
          null,
          null,
          0.7292682926829268,
          null,
          null,
          null,
          null,
          null,
          0.6,
          null,
          null,
          null,
          null,
          null,
          0.6682926829268293,
          null,
          null,
          null,
          null,
          null,
          0.6951219512195121,
          null,
          null,
          null,
          null,
          null,
          0.7,
          null,
          null,
          null,
          null,
          null,
          0.7878048780487804,
          null,
          null,
          null,
          null,
          null,
          0.7707317073170732,
          null,
          null,
          null,
          null,
          null,
          0.6609756097560976,
          null,
          null,
          null,
          null,
          null,
          0.7463414634146341,
          null,
          null,
          null,
          null,
          null
         ],
         "y0": " ",
         "yaxis": "y"
        }
       ],
       "layout": {
        "annotations": [
         {
          "font": {
           "color": "black",
           "size": 14
          },
          "showarrow": false,
          "text": "**",
          "textangle": 0,
          "x": 1.87,
          "xref": "x",
          "y": 1.05,
          "yref": "y domain"
         },
         {
          "font": {
           "color": "black",
           "size": 14
          },
          "showarrow": false,
          "text": "***",
          "textangle": 0,
          "x": 2.13,
          "xref": "x",
          "y": 1.05,
          "yref": "y domain"
         },
         {
          "font": {
           "color": "black",
           "size": 14
          },
          "showarrow": false,
          "text": "***",
          "textangle": 0,
          "x": 2.87,
          "xref": "x",
          "y": 1.05,
          "yref": "y domain"
         },
         {
          "font": {
           "color": "black",
           "size": 14
          },
          "showarrow": false,
          "text": "***",
          "textangle": 0,
          "x": 3.13,
          "xref": "x",
          "y": 1.05,
          "yref": "y domain"
         },
         {
          "font": {
           "color": "black",
           "size": 14
          },
          "showarrow": false,
          "text": "***",
          "textangle": 0,
          "x": 3.87,
          "xref": "x",
          "y": 1.05,
          "yref": "y domain"
         },
         {
          "font": {
           "color": "black",
           "size": 14
          },
          "showarrow": false,
          "text": "***",
          "textangle": 0,
          "x": 4.13,
          "xref": "x",
          "y": 1.05,
          "yref": "y domain"
         },
         {
          "font": {
           "color": "black",
           "size": 14
          },
          "showarrow": false,
          "text": "***",
          "textangle": 0,
          "x": 4.87,
          "xref": "x",
          "y": 1.05,
          "yref": "y domain"
         },
         {
          "font": {
           "color": "black",
           "size": 14
          },
          "showarrow": false,
          "text": "***",
          "textangle": 0,
          "x": 5.13,
          "xref": "x",
          "y": 1.05,
          "yref": "y domain"
         }
        ],
        "boxmode": "group",
        "font": {
         "size": 23
        },
        "height": 600,
        "legend": {
         "title": {
          "text": "Models"
         },
         "tracegroupgap": 0
        },
        "margin": {
         "b": 0,
         "l": 0,
         "r": 15,
         "t": 23
        },
        "shapes": [
         {
          "line": {
           "color": "black",
           "width": 2
          },
          "type": "line",
          "x0": 1.75,
          "x1": 1.75,
          "xref": "x",
          "y0": 1,
          "y1": 0.98,
          "yref": "y domain"
         },
         {
          "line": {
           "color": "black",
           "width": 2
          },
          "type": "line",
          "x0": 1.75,
          "x1": 1.99,
          "xref": "x",
          "y0": 1,
          "y1": 1,
          "yref": "y domain"
         },
         {
          "line": {
           "color": "black",
           "width": 2
          },
          "type": "line",
          "x0": 1.99,
          "x1": 1.99,
          "xref": "x",
          "y0": 1,
          "y1": 0.98,
          "yref": "y domain"
         },
         {
          "line": {
           "color": "black",
           "width": 2
          },
          "type": "line",
          "x0": 2.01,
          "x1": 2.01,
          "xref": "x",
          "y0": 1,
          "y1": 0.98,
          "yref": "y domain"
         },
         {
          "line": {
           "color": "black",
           "width": 2
          },
          "type": "line",
          "x0": 2.01,
          "x1": 2.25,
          "xref": "x",
          "y0": 1,
          "y1": 1,
          "yref": "y domain"
         },
         {
          "line": {
           "color": "black",
           "width": 2
          },
          "type": "line",
          "x0": 2.25,
          "x1": 2.25,
          "xref": "x",
          "y0": 1,
          "y1": 0.98,
          "yref": "y domain"
         },
         {
          "line": {
           "color": "black",
           "width": 2
          },
          "type": "line",
          "x0": 2.75,
          "x1": 2.75,
          "xref": "x",
          "y0": 1,
          "y1": 0.98,
          "yref": "y domain"
         },
         {
          "line": {
           "color": "black",
           "width": 2
          },
          "type": "line",
          "x0": 2.75,
          "x1": 2.99,
          "xref": "x",
          "y0": 1,
          "y1": 1,
          "yref": "y domain"
         },
         {
          "line": {
           "color": "black",
           "width": 2
          },
          "type": "line",
          "x0": 2.99,
          "x1": 2.99,
          "xref": "x",
          "y0": 1,
          "y1": 0.98,
          "yref": "y domain"
         },
         {
          "line": {
           "color": "black",
           "width": 2
          },
          "type": "line",
          "x0": 3.01,
          "x1": 3.01,
          "xref": "x",
          "y0": 1,
          "y1": 0.98,
          "yref": "y domain"
         },
         {
          "line": {
           "color": "black",
           "width": 2
          },
          "type": "line",
          "x0": 3.01,
          "x1": 3.25,
          "xref": "x",
          "y0": 1,
          "y1": 1,
          "yref": "y domain"
         },
         {
          "line": {
           "color": "black",
           "width": 2
          },
          "type": "line",
          "x0": 3.25,
          "x1": 3.25,
          "xref": "x",
          "y0": 1,
          "y1": 0.98,
          "yref": "y domain"
         },
         {
          "line": {
           "color": "black",
           "width": 2
          },
          "type": "line",
          "x0": 3.75,
          "x1": 3.75,
          "xref": "x",
          "y0": 1,
          "y1": 0.98,
          "yref": "y domain"
         },
         {
          "line": {
           "color": "black",
           "width": 2
          },
          "type": "line",
          "x0": 3.75,
          "x1": 3.99,
          "xref": "x",
          "y0": 1,
          "y1": 1,
          "yref": "y domain"
         },
         {
          "line": {
           "color": "black",
           "width": 2
          },
          "type": "line",
          "x0": 3.99,
          "x1": 3.99,
          "xref": "x",
          "y0": 1,
          "y1": 0.98,
          "yref": "y domain"
         },
         {
          "line": {
           "color": "black",
           "width": 2
          },
          "type": "line",
          "x0": 4.01,
          "x1": 4.01,
          "xref": "x",
          "y0": 1,
          "y1": 0.98,
          "yref": "y domain"
         },
         {
          "line": {
           "color": "black",
           "width": 2
          },
          "type": "line",
          "x0": 4.01,
          "x1": 4.25,
          "xref": "x",
          "y0": 1,
          "y1": 1,
          "yref": "y domain"
         },
         {
          "line": {
           "color": "black",
           "width": 2
          },
          "type": "line",
          "x0": 4.25,
          "x1": 4.25,
          "xref": "x",
          "y0": 1,
          "y1": 0.98,
          "yref": "y domain"
         },
         {
          "line": {
           "color": "black",
           "width": 2
          },
          "type": "line",
          "x0": 4.75,
          "x1": 4.75,
          "xref": "x",
          "y0": 1,
          "y1": 0.98,
          "yref": "y domain"
         },
         {
          "line": {
           "color": "black",
           "width": 2
          },
          "type": "line",
          "x0": 4.75,
          "x1": 4.99,
          "xref": "x",
          "y0": 1,
          "y1": 1,
          "yref": "y domain"
         },
         {
          "line": {
           "color": "black",
           "width": 2
          },
          "type": "line",
          "x0": 4.99,
          "x1": 4.99,
          "xref": "x",
          "y0": 1,
          "y1": 0.98,
          "yref": "y domain"
         },
         {
          "line": {
           "color": "black",
           "width": 2
          },
          "type": "line",
          "x0": 5.01,
          "x1": 5.01,
          "xref": "x",
          "y0": 1,
          "y1": 0.98,
          "yref": "y domain"
         },
         {
          "line": {
           "color": "black",
           "width": 2
          },
          "type": "line",
          "x0": 5.01,
          "x1": 5.25,
          "xref": "x",
          "y0": 1,
          "y1": 1,
          "yref": "y domain"
         },
         {
          "line": {
           "color": "black",
           "width": 2
          },
          "type": "line",
          "x0": 5.25,
          "x1": 5.25,
          "xref": "x",
          "y0": 1,
          "y1": 0.98,
          "yref": "y domain"
         }
        ],
        "showlegend": false,
        "template": {
         "data": {
          "bar": [
           {
            "error_x": {
             "color": "#2a3f5f"
            },
            "error_y": {
             "color": "#2a3f5f"
            },
            "marker": {
             "line": {
              "color": "#E5ECF6",
              "width": 0.5
             },
             "pattern": {
              "fillmode": "overlay",
              "size": 10,
              "solidity": 0.2
             }
            },
            "type": "bar"
           }
          ],
          "barpolar": [
           {
            "marker": {
             "line": {
              "color": "#E5ECF6",
              "width": 0.5
             },
             "pattern": {
              "fillmode": "overlay",
              "size": 10,
              "solidity": 0.2
             }
            },
            "type": "barpolar"
           }
          ],
          "carpet": [
           {
            "aaxis": {
             "endlinecolor": "#2a3f5f",
             "gridcolor": "white",
             "linecolor": "white",
             "minorgridcolor": "white",
             "startlinecolor": "#2a3f5f"
            },
            "baxis": {
             "endlinecolor": "#2a3f5f",
             "gridcolor": "white",
             "linecolor": "white",
             "minorgridcolor": "white",
             "startlinecolor": "#2a3f5f"
            },
            "type": "carpet"
           }
          ],
          "choropleth": [
           {
            "colorbar": {
             "outlinewidth": 0,
             "ticks": ""
            },
            "type": "choropleth"
           }
          ],
          "contour": [
           {
            "colorbar": {
             "outlinewidth": 0,
             "ticks": ""
            },
            "colorscale": [
             [
              0,
              "#0d0887"
             ],
             [
              0.1111111111111111,
              "#46039f"
             ],
             [
              0.2222222222222222,
              "#7201a8"
             ],
             [
              0.3333333333333333,
              "#9c179e"
             ],
             [
              0.4444444444444444,
              "#bd3786"
             ],
             [
              0.5555555555555556,
              "#d8576b"
             ],
             [
              0.6666666666666666,
              "#ed7953"
             ],
             [
              0.7777777777777778,
              "#fb9f3a"
             ],
             [
              0.8888888888888888,
              "#fdca26"
             ],
             [
              1,
              "#f0f921"
             ]
            ],
            "type": "contour"
           }
          ],
          "contourcarpet": [
           {
            "colorbar": {
             "outlinewidth": 0,
             "ticks": ""
            },
            "type": "contourcarpet"
           }
          ],
          "heatmap": [
           {
            "colorbar": {
             "outlinewidth": 0,
             "ticks": ""
            },
            "colorscale": [
             [
              0,
              "#0d0887"
             ],
             [
              0.1111111111111111,
              "#46039f"
             ],
             [
              0.2222222222222222,
              "#7201a8"
             ],
             [
              0.3333333333333333,
              "#9c179e"
             ],
             [
              0.4444444444444444,
              "#bd3786"
             ],
             [
              0.5555555555555556,
              "#d8576b"
             ],
             [
              0.6666666666666666,
              "#ed7953"
             ],
             [
              0.7777777777777778,
              "#fb9f3a"
             ],
             [
              0.8888888888888888,
              "#fdca26"
             ],
             [
              1,
              "#f0f921"
             ]
            ],
            "type": "heatmap"
           }
          ],
          "heatmapgl": [
           {
            "colorbar": {
             "outlinewidth": 0,
             "ticks": ""
            },
            "colorscale": [
             [
              0,
              "#0d0887"
             ],
             [
              0.1111111111111111,
              "#46039f"
             ],
             [
              0.2222222222222222,
              "#7201a8"
             ],
             [
              0.3333333333333333,
              "#9c179e"
             ],
             [
              0.4444444444444444,
              "#bd3786"
             ],
             [
              0.5555555555555556,
              "#d8576b"
             ],
             [
              0.6666666666666666,
              "#ed7953"
             ],
             [
              0.7777777777777778,
              "#fb9f3a"
             ],
             [
              0.8888888888888888,
              "#fdca26"
             ],
             [
              1,
              "#f0f921"
             ]
            ],
            "type": "heatmapgl"
           }
          ],
          "histogram": [
           {
            "marker": {
             "pattern": {
              "fillmode": "overlay",
              "size": 10,
              "solidity": 0.2
             }
            },
            "type": "histogram"
           }
          ],
          "histogram2d": [
           {
            "colorbar": {
             "outlinewidth": 0,
             "ticks": ""
            },
            "colorscale": [
             [
              0,
              "#0d0887"
             ],
             [
              0.1111111111111111,
              "#46039f"
             ],
             [
              0.2222222222222222,
              "#7201a8"
             ],
             [
              0.3333333333333333,
              "#9c179e"
             ],
             [
              0.4444444444444444,
              "#bd3786"
             ],
             [
              0.5555555555555556,
              "#d8576b"
             ],
             [
              0.6666666666666666,
              "#ed7953"
             ],
             [
              0.7777777777777778,
              "#fb9f3a"
             ],
             [
              0.8888888888888888,
              "#fdca26"
             ],
             [
              1,
              "#f0f921"
             ]
            ],
            "type": "histogram2d"
           }
          ],
          "histogram2dcontour": [
           {
            "colorbar": {
             "outlinewidth": 0,
             "ticks": ""
            },
            "colorscale": [
             [
              0,
              "#0d0887"
             ],
             [
              0.1111111111111111,
              "#46039f"
             ],
             [
              0.2222222222222222,
              "#7201a8"
             ],
             [
              0.3333333333333333,
              "#9c179e"
             ],
             [
              0.4444444444444444,
              "#bd3786"
             ],
             [
              0.5555555555555556,
              "#d8576b"
             ],
             [
              0.6666666666666666,
              "#ed7953"
             ],
             [
              0.7777777777777778,
              "#fb9f3a"
             ],
             [
              0.8888888888888888,
              "#fdca26"
             ],
             [
              1,
              "#f0f921"
             ]
            ],
            "type": "histogram2dcontour"
           }
          ],
          "mesh3d": [
           {
            "colorbar": {
             "outlinewidth": 0,
             "ticks": ""
            },
            "type": "mesh3d"
           }
          ],
          "parcoords": [
           {
            "line": {
             "colorbar": {
              "outlinewidth": 0,
              "ticks": ""
             }
            },
            "type": "parcoords"
           }
          ],
          "pie": [
           {
            "automargin": true,
            "type": "pie"
           }
          ],
          "scatter": [
           {
            "marker": {
             "colorbar": {
              "outlinewidth": 0,
              "ticks": ""
             }
            },
            "type": "scatter"
           }
          ],
          "scatter3d": [
           {
            "line": {
             "colorbar": {
              "outlinewidth": 0,
              "ticks": ""
             }
            },
            "marker": {
             "colorbar": {
              "outlinewidth": 0,
              "ticks": ""
             }
            },
            "type": "scatter3d"
           }
          ],
          "scattercarpet": [
           {
            "marker": {
             "colorbar": {
              "outlinewidth": 0,
              "ticks": ""
             }
            },
            "type": "scattercarpet"
           }
          ],
          "scattergeo": [
           {
            "marker": {
             "colorbar": {
              "outlinewidth": 0,
              "ticks": ""
             }
            },
            "type": "scattergeo"
           }
          ],
          "scattergl": [
           {
            "marker": {
             "colorbar": {
              "outlinewidth": 0,
              "ticks": ""
             }
            },
            "type": "scattergl"
           }
          ],
          "scattermapbox": [
           {
            "marker": {
             "colorbar": {
              "outlinewidth": 0,
              "ticks": ""
             }
            },
            "type": "scattermapbox"
           }
          ],
          "scatterpolar": [
           {
            "marker": {
             "colorbar": {
              "outlinewidth": 0,
              "ticks": ""
             }
            },
            "type": "scatterpolar"
           }
          ],
          "scatterpolargl": [
           {
            "marker": {
             "colorbar": {
              "outlinewidth": 0,
              "ticks": ""
             }
            },
            "type": "scatterpolargl"
           }
          ],
          "scatterternary": [
           {
            "marker": {
             "colorbar": {
              "outlinewidth": 0,
              "ticks": ""
             }
            },
            "type": "scatterternary"
           }
          ],
          "surface": [
           {
            "colorbar": {
             "outlinewidth": 0,
             "ticks": ""
            },
            "colorscale": [
             [
              0,
              "#0d0887"
             ],
             [
              0.1111111111111111,
              "#46039f"
             ],
             [
              0.2222222222222222,
              "#7201a8"
             ],
             [
              0.3333333333333333,
              "#9c179e"
             ],
             [
              0.4444444444444444,
              "#bd3786"
             ],
             [
              0.5555555555555556,
              "#d8576b"
             ],
             [
              0.6666666666666666,
              "#ed7953"
             ],
             [
              0.7777777777777778,
              "#fb9f3a"
             ],
             [
              0.8888888888888888,
              "#fdca26"
             ],
             [
              1,
              "#f0f921"
             ]
            ],
            "type": "surface"
           }
          ],
          "table": [
           {
            "cells": {
             "fill": {
              "color": "#EBF0F8"
             },
             "line": {
              "color": "white"
             }
            },
            "header": {
             "fill": {
              "color": "#C8D4E3"
             },
             "line": {
              "color": "white"
             }
            },
            "type": "table"
           }
          ]
         },
         "layout": {
          "annotationdefaults": {
           "arrowcolor": "#2a3f5f",
           "arrowhead": 0,
           "arrowwidth": 1
          },
          "autotypenumbers": "strict",
          "coloraxis": {
           "colorbar": {
            "outlinewidth": 0,
            "ticks": ""
           }
          },
          "colorscale": {
           "diverging": [
            [
             0,
             "#8e0152"
            ],
            [
             0.1,
             "#c51b7d"
            ],
            [
             0.2,
             "#de77ae"
            ],
            [
             0.3,
             "#f1b6da"
            ],
            [
             0.4,
             "#fde0ef"
            ],
            [
             0.5,
             "#f7f7f7"
            ],
            [
             0.6,
             "#e6f5d0"
            ],
            [
             0.7,
             "#b8e186"
            ],
            [
             0.8,
             "#7fbc41"
            ],
            [
             0.9,
             "#4d9221"
            ],
            [
             1,
             "#276419"
            ]
           ],
           "sequential": [
            [
             0,
             "#0d0887"
            ],
            [
             0.1111111111111111,
             "#46039f"
            ],
            [
             0.2222222222222222,
             "#7201a8"
            ],
            [
             0.3333333333333333,
             "#9c179e"
            ],
            [
             0.4444444444444444,
             "#bd3786"
            ],
            [
             0.5555555555555556,
             "#d8576b"
            ],
            [
             0.6666666666666666,
             "#ed7953"
            ],
            [
             0.7777777777777778,
             "#fb9f3a"
            ],
            [
             0.8888888888888888,
             "#fdca26"
            ],
            [
             1,
             "#f0f921"
            ]
           ],
           "sequentialminus": [
            [
             0,
             "#0d0887"
            ],
            [
             0.1111111111111111,
             "#46039f"
            ],
            [
             0.2222222222222222,
             "#7201a8"
            ],
            [
             0.3333333333333333,
             "#9c179e"
            ],
            [
             0.4444444444444444,
             "#bd3786"
            ],
            [
             0.5555555555555556,
             "#d8576b"
            ],
            [
             0.6666666666666666,
             "#ed7953"
            ],
            [
             0.7777777777777778,
             "#fb9f3a"
            ],
            [
             0.8888888888888888,
             "#fdca26"
            ],
            [
             1,
             "#f0f921"
            ]
           ]
          },
          "colorway": [
           "#636efa",
           "#EF553B",
           "#00cc96",
           "#ab63fa",
           "#FFA15A",
           "#19d3f3",
           "#FF6692",
           "#B6E880",
           "#FF97FF",
           "#FECB52"
          ],
          "font": {
           "color": "#2a3f5f"
          },
          "geo": {
           "bgcolor": "white",
           "lakecolor": "white",
           "landcolor": "#E5ECF6",
           "showlakes": true,
           "showland": true,
           "subunitcolor": "white"
          },
          "hoverlabel": {
           "align": "left"
          },
          "hovermode": "closest",
          "mapbox": {
           "style": "light"
          },
          "paper_bgcolor": "white",
          "plot_bgcolor": "#E5ECF6",
          "polar": {
           "angularaxis": {
            "gridcolor": "white",
            "linecolor": "white",
            "ticks": ""
           },
           "bgcolor": "#E5ECF6",
           "radialaxis": {
            "gridcolor": "white",
            "linecolor": "white",
            "ticks": ""
           }
          },
          "scene": {
           "xaxis": {
            "backgroundcolor": "#E5ECF6",
            "gridcolor": "white",
            "gridwidth": 2,
            "linecolor": "white",
            "showbackground": true,
            "ticks": "",
            "zerolinecolor": "white"
           },
           "yaxis": {
            "backgroundcolor": "#E5ECF6",
            "gridcolor": "white",
            "gridwidth": 2,
            "linecolor": "white",
            "showbackground": true,
            "ticks": "",
            "zerolinecolor": "white"
           },
           "zaxis": {
            "backgroundcolor": "#E5ECF6",
            "gridcolor": "white",
            "gridwidth": 2,
            "linecolor": "white",
            "showbackground": true,
            "ticks": "",
            "zerolinecolor": "white"
           }
          },
          "shapedefaults": {
           "line": {
            "color": "#2a3f5f"
           }
          },
          "ternary": {
           "aaxis": {
            "gridcolor": "white",
            "linecolor": "white",
            "ticks": ""
           },
           "baxis": {
            "gridcolor": "white",
            "linecolor": "white",
            "ticks": ""
           },
           "bgcolor": "#E5ECF6",
           "caxis": {
            "gridcolor": "white",
            "linecolor": "white",
            "ticks": ""
           }
          },
          "title": {
           "x": 0.05
          },
          "xaxis": {
           "automargin": true,
           "gridcolor": "white",
           "linecolor": "white",
           "ticks": "",
           "title": {
            "standoff": 15
           },
           "zerolinecolor": "white",
           "zerolinewidth": 2
          },
          "yaxis": {
           "automargin": true,
           "gridcolor": "white",
           "linecolor": "white",
           "ticks": "",
           "title": {
            "standoff": 15
           },
           "zerolinecolor": "white",
           "zerolinewidth": 2
          }
         }
        },
        "width": 700,
        "xaxis": {
         "anchor": "y",
         "domain": [
          0,
          1
         ],
         "title": {
          "text": "Number of channels"
         }
        },
        "yaxis": {
         "anchor": "x",
         "domain": [
          0,
          1
         ],
         "range": [
          0.45,
          1
         ],
         "tickmode": "array",
         "tickvals": [
          0.45,
          0.5,
          0.55,
          0.6,
          0.65,
          0.7,
          0.75,
          0.8,
          0.85,
          0.9,
          0.95,
          1
         ],
         "title": {
          "text": "Accuracy"
         }
        }
       }
      }
     },
     "metadata": {},
     "output_type": "display_data"
    }
   ],
   "source": [
    "fig = px.box(all_dfs_without_CD, x='n_groups', y='value', color='index', labels={'n_groups': 'Number of channels', 'value': 'Accuracy', 'index': 'Models'}, color_discrete_sequence=['red', 'green', 'blue'] )\n",
    "\n",
    "# Group 2\n",
    "data_1 = all_dfs_without_CD[(all_dfs_without_CD['n_groups']==2) & (all_dfs_without_CD['index']=='COSCI-GAN')]['value']\n",
    "data_2 = all_dfs_without_CD[(all_dfs_without_CD['n_groups']==2) & (all_dfs_without_CD['index']=='baseline')]['value']\n",
    "\n",
    "fig = add_anootation(fig, 1.75, 1.99, symbol_generator(data_1, data_2))\n",
    "\n",
    "data_2 = all_dfs_without_CD[(all_dfs_without_CD['n_groups']==2) & (all_dfs_without_CD['index']=='real')]['value']\n",
    "fig = add_anootation(fig, 2.01, 2.25, symbol_generator(data_1, data_2))\n",
    "\n",
    "# Group 3\n",
    "data_1 = all_dfs_without_CD[(all_dfs_without_CD['n_groups']==3) & (all_dfs_without_CD['index']=='COSCI-GAN')]['value']\n",
    "data_2 = all_dfs_without_CD[(all_dfs_without_CD['n_groups']==3) & (all_dfs_without_CD['index']=='baseline')]['value']\n",
    "\n",
    "fig = add_anootation(fig, 2.75, 2.99, symbol_generator(data_1, data_2))\n",
    "\n",
    "data_2 = all_dfs_without_CD[(all_dfs_without_CD['n_groups']==3) & (all_dfs_without_CD['index']=='real')]['value']\n",
    "fig = add_anootation(fig, 3.01, 3.25, symbol_generator(data_1, data_2))\n",
    "\n",
    "# Group 4\n",
    "data_1 = all_dfs_without_CD[(all_dfs_without_CD['n_groups']==4) & (all_dfs_without_CD['index']=='COSCI-GAN')]['value']\n",
    "data_2 = all_dfs_without_CD[(all_dfs_without_CD['n_groups']==4) & (all_dfs_without_CD['index']=='baseline')]['value']\n",
    "\n",
    "fig = add_anootation(fig, 3.75, 3.99, symbol_generator(data_1, data_2))\n",
    "\n",
    "data_2 = all_dfs_without_CD[(all_dfs_without_CD['n_groups']==4) & (all_dfs_without_CD['index']=='real')]['value']\n",
    "fig = add_anootation(fig, 4.01, 4.25, symbol_generator(data_1, data_2))\n",
    "\n",
    "# Group 5\n",
    "data_1 = all_dfs_without_CD[(all_dfs_without_CD['n_groups']==5) & (all_dfs_without_CD['index']=='COSCI-GAN')]['value']\n",
    "data_2 = all_dfs_without_CD[(all_dfs_without_CD['n_groups']==5) & (all_dfs_without_CD['index']=='baseline')]['value']\n",
    "\n",
    "fig = add_anootation(fig, 4.75, 4.99, symbol_generator(data_1, data_2))\n",
    "\n",
    "data_2 = all_dfs_without_CD[(all_dfs_without_CD['n_groups']==5) & (all_dfs_without_CD['index']=='real')]['value']\n",
    "fig = add_anootation(fig, 5.01, 5.25, symbol_generator(data_1, data_2))\n",
    "\n",
    "fig.update_layout(yaxis_range=[0.45,1])\n",
    "fig.update_layout(\n",
    "    yaxis = dict(\n",
    "        tickmode = 'array',\n",
    "        tickvals = [0.45, 0.5, 0.55, 0.6, 0.65, 0.7, 0.75, 0.8, 0.85, 0.9, 0.95, 1],\n",
    "    ))\n",
    "fig.update_layout(showlegend=False, margin=dict(l=0, r=15, b=0, t=23), font=dict(size=23), width=700, height=600)\n",
    "fig.show()"
   ]
  },
  {
   "cell_type": "code",
   "execution_count": 35,
   "metadata": {},
   "outputs": [],
   "source": [
    "fig.write_image(\"all_fake.pdf\")"
   ]
  },
  {
   "cell_type": "code",
   "execution_count": 12,
   "metadata": {},
   "outputs": [
    {
     "data": {
      "text/plain": [
       "1      0.687805\n",
       "5      0.687805\n",
       "9      0.724390\n",
       "13     0.687805\n",
       "17     0.695122\n",
       "21     0.714634\n",
       "25     0.682927\n",
       "29     0.717073\n",
       "33     0.690244\n",
       "37     0.717073\n",
       "41     0.678049\n",
       "45     0.707317\n",
       "49     0.675610\n",
       "53     0.675610\n",
       "57     0.690244\n",
       "61     0.721951\n",
       "65     0.670732\n",
       "69     0.697561\n",
       "73     0.697561\n",
       "77     0.687805\n",
       "81     0.697561\n",
       "85     0.736585\n",
       "89     0.717073\n",
       "93     0.751220\n",
       "97     0.653659\n",
       "101    0.643902\n",
       "105    0.714634\n",
       "109    0.685366\n",
       "113    0.692683\n",
       "117    0.695122\n",
       "Name: value, dtype: float64"
      ]
     },
     "execution_count": 12,
     "metadata": {},
     "output_type": "execute_result"
    }
   ],
   "source": [
    "data_1 = all_dfs_without_CD[(all_dfs_without_CD['n_groups']==4) & (all_dfs_without_CD['index']=='COSCI-GAN')]['value']\n",
    "data_1"
   ]
  },
  {
   "cell_type": "code",
   "execution_count": 7,
   "metadata": {},
   "outputs": [
    {
     "data": {
      "text/html": [
       "<div>\n",
       "<style scoped>\n",
       "    .dataframe tbody tr th:only-of-type {\n",
       "        vertical-align: middle;\n",
       "    }\n",
       "\n",
       "    .dataframe tbody tr th {\n",
       "        vertical-align: top;\n",
       "    }\n",
       "\n",
       "    .dataframe thead th {\n",
       "        text-align: right;\n",
       "    }\n",
       "</style>\n",
       "<table border=\"1\" class=\"dataframe\">\n",
       "  <thead>\n",
       "    <tr style=\"text-align: right;\">\n",
       "      <th></th>\n",
       "      <th>baseline</th>\n",
       "      <th>LSTM_MLP_with_CD</th>\n",
       "      <th>LSTM_without_CD</th>\n",
       "      <th>real</th>\n",
       "      <th>amount</th>\n",
       "      <th>n_groups</th>\n",
       "    </tr>\n",
       "  </thead>\n",
       "  <tbody>\n",
       "    <tr>\n",
       "      <th>1</th>\n",
       "      <td>0.587805</td>\n",
       "      <td>0.580488</td>\n",
       "      <td>0.543902</td>\n",
       "      <td>0.62439</td>\n",
       "      <td>1</td>\n",
       "      <td>1</td>\n",
       "    </tr>\n",
       "    <tr>\n",
       "      <th>2</th>\n",
       "      <td>0.529268</td>\n",
       "      <td>0.553659</td>\n",
       "      <td>0.585366</td>\n",
       "      <td>NaN</td>\n",
       "      <td>2</td>\n",
       "      <td>1</td>\n",
       "    </tr>\n",
       "    <tr>\n",
       "      <th>4</th>\n",
       "      <td>0.551220</td>\n",
       "      <td>0.597561</td>\n",
       "      <td>0.560976</td>\n",
       "      <td>NaN</td>\n",
       "      <td>4</td>\n",
       "      <td>1</td>\n",
       "    </tr>\n",
       "    <tr>\n",
       "      <th>6</th>\n",
       "      <td>0.536585</td>\n",
       "      <td>0.560976</td>\n",
       "      <td>0.570732</td>\n",
       "      <td>NaN</td>\n",
       "      <td>6</td>\n",
       "      <td>1</td>\n",
       "    </tr>\n",
       "    <tr>\n",
       "      <th>8</th>\n",
       "      <td>0.524390</td>\n",
       "      <td>0.553659</td>\n",
       "      <td>0.482927</td>\n",
       "      <td>NaN</td>\n",
       "      <td>8</td>\n",
       "      <td>1</td>\n",
       "    </tr>\n",
       "    <tr>\n",
       "      <th>...</th>\n",
       "      <td>...</td>\n",
       "      <td>...</td>\n",
       "      <td>...</td>\n",
       "      <td>...</td>\n",
       "      <td>...</td>\n",
       "      <td>...</td>\n",
       "    </tr>\n",
       "    <tr>\n",
       "      <th>2</th>\n",
       "      <td>0.495122</td>\n",
       "      <td>0.609756</td>\n",
       "      <td>0.534146</td>\n",
       "      <td>NaN</td>\n",
       "      <td>2</td>\n",
       "      <td>5</td>\n",
       "    </tr>\n",
       "    <tr>\n",
       "      <th>4</th>\n",
       "      <td>0.539024</td>\n",
       "      <td>0.617073</td>\n",
       "      <td>0.592683</td>\n",
       "      <td>NaN</td>\n",
       "      <td>4</td>\n",
       "      <td>5</td>\n",
       "    </tr>\n",
       "    <tr>\n",
       "      <th>6</th>\n",
       "      <td>0.482927</td>\n",
       "      <td>0.619512</td>\n",
       "      <td>0.565854</td>\n",
       "      <td>NaN</td>\n",
       "      <td>6</td>\n",
       "      <td>5</td>\n",
       "    </tr>\n",
       "    <tr>\n",
       "      <th>8</th>\n",
       "      <td>0.453659</td>\n",
       "      <td>0.660976</td>\n",
       "      <td>0.578049</td>\n",
       "      <td>NaN</td>\n",
       "      <td>8</td>\n",
       "      <td>5</td>\n",
       "    </tr>\n",
       "    <tr>\n",
       "      <th>10</th>\n",
       "      <td>0.495122</td>\n",
       "      <td>0.658537</td>\n",
       "      <td>0.534146</td>\n",
       "      <td>NaN</td>\n",
       "      <td>10</td>\n",
       "      <td>5</td>\n",
       "    </tr>\n",
       "  </tbody>\n",
       "</table>\n",
       "<p>150 rows × 6 columns</p>\n",
       "</div>"
      ],
      "text/plain": [
       "    baseline  LSTM_MLP_with_CD  LSTM_without_CD     real  amount  n_groups\n",
       "1   0.587805          0.580488         0.543902  0.62439       1         1\n",
       "2   0.529268          0.553659         0.585366      NaN       2         1\n",
       "4   0.551220          0.597561         0.560976      NaN       4         1\n",
       "6   0.536585          0.560976         0.570732      NaN       6         1\n",
       "8   0.524390          0.553659         0.482927      NaN       8         1\n",
       "..       ...               ...              ...      ...     ...       ...\n",
       "2   0.495122          0.609756         0.534146      NaN       2         5\n",
       "4   0.539024          0.617073         0.592683      NaN       4         5\n",
       "6   0.482927          0.619512         0.565854      NaN       6         5\n",
       "8   0.453659          0.660976         0.578049      NaN       8         5\n",
       "10  0.495122          0.658537         0.534146      NaN      10         5\n",
       "\n",
       "[150 rows x 6 columns]"
      ]
     },
     "execution_count": 7,
     "metadata": {},
     "output_type": "execute_result"
    }
   ],
   "source": [
    "all_dfs = []\n",
    "for n_groups in [1,2,3,4,5]:\n",
    "    temp_df = dfs[n_groups].T.droplevel(0)\n",
    "    temp_df['amount'] = dfs[n_groups].T.droplevel(0).index\n",
    "    temp_df['n_groups'] = n_groups\n",
    "    all_dfs.append(temp_df)\n",
    "\n",
    "all_dfs = pd.concat(all_dfs)\n",
    "all_dfs"
   ]
  },
  {
   "cell_type": "code",
   "execution_count": 8,
   "metadata": {},
   "outputs": [
    {
     "data": {
      "application/vnd.plotly.v1+json": {
       "config": {
        "plotlyServerURL": "https://plot.ly"
       },
       "data": [
        {
         "hovertemplate": "baseline=%{x}<br>LSTM_MLP_with_CD=%{y}<br>amount=%{marker.size}<br>n_groups=%{marker.color}<extra></extra>",
         "legendgroup": "",
         "marker": {
          "color": [
           1,
           1,
           1,
           1,
           1,
           1,
           1,
           1,
           1,
           1,
           1,
           1,
           1,
           1,
           1,
           1,
           1,
           1,
           1,
           1,
           1,
           1,
           1,
           1,
           1,
           1,
           1,
           1,
           1,
           1,
           2,
           2,
           2,
           2,
           2,
           2,
           2,
           2,
           2,
           2,
           2,
           2,
           2,
           2,
           2,
           2,
           2,
           2,
           2,
           2,
           2,
           2,
           2,
           2,
           2,
           2,
           2,
           2,
           2,
           2,
           3,
           3,
           3,
           3,
           3,
           3,
           3,
           3,
           3,
           3,
           3,
           3,
           3,
           3,
           3,
           3,
           3,
           3,
           3,
           3,
           3,
           3,
           3,
           3,
           3,
           3,
           3,
           3,
           3,
           3,
           4,
           4,
           4,
           4,
           4,
           4,
           4,
           4,
           4,
           4,
           4,
           4,
           4,
           4,
           4,
           4,
           4,
           4,
           4,
           4,
           4,
           4,
           4,
           4,
           4,
           4,
           4,
           4,
           4,
           4,
           5,
           5,
           5,
           5,
           5,
           5,
           5,
           5,
           5,
           5,
           5,
           5,
           5,
           5,
           5,
           5,
           5,
           5,
           5,
           5,
           5,
           5,
           5,
           5,
           5,
           5,
           5,
           5,
           5,
           5
          ],
          "coloraxis": "coloraxis",
          "size": [
           1,
           2,
           4,
           6,
           8,
           10,
           1,
           2,
           4,
           6,
           8,
           10,
           1,
           2,
           4,
           6,
           8,
           10,
           1,
           2,
           4,
           6,
           8,
           10,
           1,
           2,
           4,
           6,
           8,
           10,
           1,
           2,
           4,
           6,
           8,
           10,
           1,
           2,
           4,
           6,
           8,
           10,
           1,
           2,
           4,
           6,
           8,
           10,
           1,
           2,
           4,
           6,
           8,
           10,
           1,
           2,
           4,
           6,
           8,
           10,
           1,
           2,
           4,
           6,
           8,
           10,
           1,
           2,
           4,
           6,
           8,
           10,
           1,
           2,
           4,
           6,
           8,
           10,
           1,
           2,
           4,
           6,
           8,
           10,
           1,
           2,
           4,
           6,
           8,
           10,
           1,
           2,
           4,
           6,
           8,
           10,
           1,
           2,
           4,
           6,
           8,
           10,
           1,
           2,
           4,
           6,
           8,
           10,
           1,
           2,
           4,
           6,
           8,
           10,
           1,
           2,
           4,
           6,
           8,
           10,
           1,
           2,
           4,
           6,
           8,
           10,
           1,
           2,
           4,
           6,
           8,
           10,
           1,
           2,
           4,
           6,
           8,
           10,
           1,
           2,
           4,
           6,
           8,
           10,
           1,
           2,
           4,
           6,
           8,
           10
          ],
          "sizemode": "area",
          "sizeref": 0.025,
          "symbol": "circle"
         },
         "mode": "markers",
         "name": "",
         "orientation": "v",
         "showlegend": false,
         "type": "scatter",
         "x": [
          0.5878048780487805,
          0.5292682926829269,
          0.551219512195122,
          0.5365853658536586,
          0.524390243902439,
          0.5463414634146342,
          0.5707317073170731,
          0.526829268292683,
          0.5341463414634147,
          0.524390243902439,
          0.5219512195121951,
          0.5463414634146342,
          0.5536585365853659,
          0.5097560975609756,
          0.5585365853658537,
          0.5073170731707317,
          0.5463414634146342,
          0.5682926829268292,
          0.5536585365853659,
          0.5170731707317073,
          0.5341463414634147,
          0.5707317073170731,
          0.573170731707317,
          0.5487804878048781,
          0.5439024390243903,
          0.5487804878048781,
          0.5439024390243903,
          0.5487804878048781,
          0.5463414634146342,
          0.5439024390243903,
          0.6487804878048781,
          0.6951219512195121,
          0.6902439024390243,
          0.7146341463414634,
          0.6804878048780488,
          0.6902439024390243,
          0.6707317073170732,
          0.651219512195122,
          0.6902439024390243,
          0.7,
          0.724390243902439,
          0.6951219512195121,
          0.6609756097560976,
          0.6634146341463415,
          0.7073170731707317,
          0.6780487804878049,
          0.6829268292682927,
          0.7170731707317073,
          0.7121951219512195,
          0.573170731707317,
          0.7048780487804878,
          0.6926829268292682,
          0.7390243902439024,
          0.6878048780487804,
          0.651219512195122,
          0.7268292682926829,
          0.624390243902439,
          0.7463414634146341,
          0.675609756097561,
          0.7121951219512195,
          0.5487804878048781,
          0.5121951219512195,
          0.5878048780487805,
          0.5609756097560976,
          0.5219512195121951,
          0.6170731707317073,
          0.4853658536585366,
          0.5024390243902439,
          0.524390243902439,
          0.5585365853658537,
          0.5902439024390244,
          0.573170731707317,
          0.5170731707317073,
          0.5292682926829269,
          0.5902439024390244,
          0.5170731707317073,
          0.5073170731707317,
          0.524390243902439,
          0.5170731707317073,
          0.5317073170731708,
          0.5585365853658537,
          0.5951219512195122,
          0.651219512195122,
          0.551219512195122,
          0.524390243902439,
          0.6365853658536585,
          0.573170731707317,
          0.6268292682926829,
          0.5585365853658537,
          0.5634146341463414,
          0.5219512195121951,
          0.5,
          0.5,
          0.5146341463414634,
          0.47317073170731705,
          0.5170731707317073,
          0.5097560975609756,
          0.5073170731707317,
          0.5414634146341464,
          0.5829268292682926,
          0.573170731707317,
          0.5073170731707317,
          0.4926829268292683,
          0.5317073170731708,
          0.5341463414634147,
          0.5365853658536586,
          0.5195121951219512,
          0.5390243902439025,
          0.4951219512195122,
          0.5146341463414634,
          0.524390243902439,
          0.5585365853658537,
          0.5121951219512195,
          0.5707317073170731,
          0.5341463414634147,
          0.4682926829268293,
          0.5292682926829269,
          0.4902439024390244,
          0.5024390243902439,
          0.4951219512195122,
          0.526829268292683,
          0.4878048780487805,
          0.5317073170731708,
          0.47073170731707314,
          0.48048780487804876,
          0.4878048780487805,
          0.4926829268292683,
          0.5219512195121951,
          0.5,
          0.4951219512195122,
          0.5170731707317073,
          0.526829268292683,
          0.5,
          0.5146341463414634,
          0.47073170731707314,
          0.5414634146341464,
          0.4560975609756098,
          0.4878048780487805,
          0.5073170731707317,
          0.4609756097560976,
          0.5341463414634147,
          0.5146341463414634,
          0.4975609756097561,
          0.5365853658536586,
          0.5536585365853659,
          0.4951219512195122,
          0.5390243902439025,
          0.48292682926829267,
          0.45365853658536587,
          0.4951219512195122
         ],
         "xaxis": "x",
         "y": [
          0.5804878048780487,
          0.5536585365853659,
          0.5975609756097561,
          0.5609756097560976,
          0.5536585365853659,
          0.5829268292682926,
          0.551219512195122,
          0.5926829268292683,
          0.5926829268292683,
          0.6146341463414634,
          0.5853658536585366,
          0.6121951219512195,
          0.6341463414634146,
          0.5975609756097561,
          0.5756097560975609,
          0.5926829268292683,
          0.6097560975609756,
          0.5902439024390244,
          0.5951219512195122,
          0.573170731707317,
          0.6121951219512195,
          0.5902439024390244,
          0.5536585365853659,
          0.6024390243902439,
          0.551219512195122,
          0.5634146341463414,
          0.5609756097560976,
          0.5780487804878048,
          0.6073170731707317,
          0.5878048780487805,
          0.7024390243902439,
          0.675609756097561,
          0.624390243902439,
          0.6292682926829268,
          0.6829268292682927,
          0.6560975609756098,
          0.6878048780487804,
          0.7097560975609756,
          0.6292682926829268,
          0.6536585365853659,
          0.6195121951219512,
          0.5926829268292683,
          0.697560975609756,
          0.6024390243902439,
          0.6536585365853659,
          0.6804878048780488,
          0.6536585365853659,
          0.573170731707317,
          0.6585365853658537,
          0.6878048780487804,
          0.6780487804878049,
          0.651219512195122,
          0.6634146341463415,
          0.6658536585365854,
          0.7317073170731707,
          0.6878048780487804,
          0.6731707317073171,
          0.6560975609756098,
          0.6463414634146342,
          0.5536585365853659,
          0.6439024390243903,
          0.6365853658536585,
          0.6804878048780488,
          0.6902439024390243,
          0.651219512195122,
          0.6780487804878049,
          0.7097560975609756,
          0.6853658536585366,
          0.6609756097560976,
          0.526829268292683,
          0.7195121951219512,
          0.6487804878048781,
          0.7414634146341463,
          0.7268292682926829,
          0.6951219512195121,
          0.6682926829268293,
          0.6878048780487804,
          0.6829268292682927,
          0.6463414634146342,
          0.7268292682926829,
          0.6853658536585366,
          0.6902439024390243,
          0.6926829268292682,
          0.7292682926829268,
          0.7536585365853659,
          0.7121951219512195,
          0.6926829268292682,
          0.6195121951219512,
          0.7146341463414634,
          0.6146341463414634,
          0.6878048780487804,
          0.6878048780487804,
          0.724390243902439,
          0.6878048780487804,
          0.6951219512195121,
          0.7146341463414634,
          0.6829268292682927,
          0.7170731707317073,
          0.6902439024390243,
          0.7170731707317073,
          0.6780487804878049,
          0.7073170731707317,
          0.675609756097561,
          0.675609756097561,
          0.6902439024390243,
          0.7219512195121951,
          0.6707317073170732,
          0.697560975609756,
          0.697560975609756,
          0.6878048780487804,
          0.697560975609756,
          0.7365853658536585,
          0.7170731707317073,
          0.751219512195122,
          0.6536585365853659,
          0.6439024390243903,
          0.7146341463414634,
          0.6853658536585366,
          0.6926829268292682,
          0.6951219512195121,
          0.6146341463414634,
          0.7121951219512195,
          0.5926829268292683,
          0.6658536585365854,
          0.6317073170731707,
          0.6390243902439025,
          0.6219512195121951,
          0.6829268292682927,
          0.6536585365853659,
          0.6829268292682927,
          0.6804878048780488,
          0.5878048780487805,
          0.5536585365853659,
          0.7121951219512195,
          0.6463414634146342,
          0.6146341463414634,
          0.6658536585365854,
          0.6585365853658537,
          0.6292682926829268,
          0.5902439024390244,
          0.6487804878048781,
          0.6146341463414634,
          0.5902439024390244,
          0.6170731707317073,
          0.573170731707317,
          0.6097560975609756,
          0.6170731707317073,
          0.6195121951219512,
          0.6609756097560976,
          0.6585365853658537
         ],
         "yaxis": "y"
        },
        {
         "type": "scatter",
         "x": [
          0.45,
          0.8
         ],
         "y": [
          0.45,
          0.8
         ]
        }
       ],
       "layout": {
        "coloraxis": {
         "colorbar": {
          "title": {
           "text": "n_groups"
          }
         },
         "colorscale": [
          [
           0,
           "#0d0887"
          ],
          [
           0.1111111111111111,
           "#46039f"
          ],
          [
           0.2222222222222222,
           "#7201a8"
          ],
          [
           0.3333333333333333,
           "#9c179e"
          ],
          [
           0.4444444444444444,
           "#bd3786"
          ],
          [
           0.5555555555555556,
           "#d8576b"
          ],
          [
           0.6666666666666666,
           "#ed7953"
          ],
          [
           0.7777777777777778,
           "#fb9f3a"
          ],
          [
           0.8888888888888888,
           "#fdca26"
          ],
          [
           1,
           "#f0f921"
          ]
         ]
        },
        "height": 500,
        "legend": {
         "itemsizing": "constant",
         "tracegroupgap": 0
        },
        "margin": {
         "t": 60
        },
        "showlegend": false,
        "template": {
         "data": {
          "bar": [
           {
            "error_x": {
             "color": "#2a3f5f"
            },
            "error_y": {
             "color": "#2a3f5f"
            },
            "marker": {
             "line": {
              "color": "#E5ECF6",
              "width": 0.5
             },
             "pattern": {
              "fillmode": "overlay",
              "size": 10,
              "solidity": 0.2
             }
            },
            "type": "bar"
           }
          ],
          "barpolar": [
           {
            "marker": {
             "line": {
              "color": "#E5ECF6",
              "width": 0.5
             },
             "pattern": {
              "fillmode": "overlay",
              "size": 10,
              "solidity": 0.2
             }
            },
            "type": "barpolar"
           }
          ],
          "carpet": [
           {
            "aaxis": {
             "endlinecolor": "#2a3f5f",
             "gridcolor": "white",
             "linecolor": "white",
             "minorgridcolor": "white",
             "startlinecolor": "#2a3f5f"
            },
            "baxis": {
             "endlinecolor": "#2a3f5f",
             "gridcolor": "white",
             "linecolor": "white",
             "minorgridcolor": "white",
             "startlinecolor": "#2a3f5f"
            },
            "type": "carpet"
           }
          ],
          "choropleth": [
           {
            "colorbar": {
             "outlinewidth": 0,
             "ticks": ""
            },
            "type": "choropleth"
           }
          ],
          "contour": [
           {
            "colorbar": {
             "outlinewidth": 0,
             "ticks": ""
            },
            "colorscale": [
             [
              0,
              "#0d0887"
             ],
             [
              0.1111111111111111,
              "#46039f"
             ],
             [
              0.2222222222222222,
              "#7201a8"
             ],
             [
              0.3333333333333333,
              "#9c179e"
             ],
             [
              0.4444444444444444,
              "#bd3786"
             ],
             [
              0.5555555555555556,
              "#d8576b"
             ],
             [
              0.6666666666666666,
              "#ed7953"
             ],
             [
              0.7777777777777778,
              "#fb9f3a"
             ],
             [
              0.8888888888888888,
              "#fdca26"
             ],
             [
              1,
              "#f0f921"
             ]
            ],
            "type": "contour"
           }
          ],
          "contourcarpet": [
           {
            "colorbar": {
             "outlinewidth": 0,
             "ticks": ""
            },
            "type": "contourcarpet"
           }
          ],
          "heatmap": [
           {
            "colorbar": {
             "outlinewidth": 0,
             "ticks": ""
            },
            "colorscale": [
             [
              0,
              "#0d0887"
             ],
             [
              0.1111111111111111,
              "#46039f"
             ],
             [
              0.2222222222222222,
              "#7201a8"
             ],
             [
              0.3333333333333333,
              "#9c179e"
             ],
             [
              0.4444444444444444,
              "#bd3786"
             ],
             [
              0.5555555555555556,
              "#d8576b"
             ],
             [
              0.6666666666666666,
              "#ed7953"
             ],
             [
              0.7777777777777778,
              "#fb9f3a"
             ],
             [
              0.8888888888888888,
              "#fdca26"
             ],
             [
              1,
              "#f0f921"
             ]
            ],
            "type": "heatmap"
           }
          ],
          "heatmapgl": [
           {
            "colorbar": {
             "outlinewidth": 0,
             "ticks": ""
            },
            "colorscale": [
             [
              0,
              "#0d0887"
             ],
             [
              0.1111111111111111,
              "#46039f"
             ],
             [
              0.2222222222222222,
              "#7201a8"
             ],
             [
              0.3333333333333333,
              "#9c179e"
             ],
             [
              0.4444444444444444,
              "#bd3786"
             ],
             [
              0.5555555555555556,
              "#d8576b"
             ],
             [
              0.6666666666666666,
              "#ed7953"
             ],
             [
              0.7777777777777778,
              "#fb9f3a"
             ],
             [
              0.8888888888888888,
              "#fdca26"
             ],
             [
              1,
              "#f0f921"
             ]
            ],
            "type": "heatmapgl"
           }
          ],
          "histogram": [
           {
            "marker": {
             "pattern": {
              "fillmode": "overlay",
              "size": 10,
              "solidity": 0.2
             }
            },
            "type": "histogram"
           }
          ],
          "histogram2d": [
           {
            "colorbar": {
             "outlinewidth": 0,
             "ticks": ""
            },
            "colorscale": [
             [
              0,
              "#0d0887"
             ],
             [
              0.1111111111111111,
              "#46039f"
             ],
             [
              0.2222222222222222,
              "#7201a8"
             ],
             [
              0.3333333333333333,
              "#9c179e"
             ],
             [
              0.4444444444444444,
              "#bd3786"
             ],
             [
              0.5555555555555556,
              "#d8576b"
             ],
             [
              0.6666666666666666,
              "#ed7953"
             ],
             [
              0.7777777777777778,
              "#fb9f3a"
             ],
             [
              0.8888888888888888,
              "#fdca26"
             ],
             [
              1,
              "#f0f921"
             ]
            ],
            "type": "histogram2d"
           }
          ],
          "histogram2dcontour": [
           {
            "colorbar": {
             "outlinewidth": 0,
             "ticks": ""
            },
            "colorscale": [
             [
              0,
              "#0d0887"
             ],
             [
              0.1111111111111111,
              "#46039f"
             ],
             [
              0.2222222222222222,
              "#7201a8"
             ],
             [
              0.3333333333333333,
              "#9c179e"
             ],
             [
              0.4444444444444444,
              "#bd3786"
             ],
             [
              0.5555555555555556,
              "#d8576b"
             ],
             [
              0.6666666666666666,
              "#ed7953"
             ],
             [
              0.7777777777777778,
              "#fb9f3a"
             ],
             [
              0.8888888888888888,
              "#fdca26"
             ],
             [
              1,
              "#f0f921"
             ]
            ],
            "type": "histogram2dcontour"
           }
          ],
          "mesh3d": [
           {
            "colorbar": {
             "outlinewidth": 0,
             "ticks": ""
            },
            "type": "mesh3d"
           }
          ],
          "parcoords": [
           {
            "line": {
             "colorbar": {
              "outlinewidth": 0,
              "ticks": ""
             }
            },
            "type": "parcoords"
           }
          ],
          "pie": [
           {
            "automargin": true,
            "type": "pie"
           }
          ],
          "scatter": [
           {
            "marker": {
             "colorbar": {
              "outlinewidth": 0,
              "ticks": ""
             }
            },
            "type": "scatter"
           }
          ],
          "scatter3d": [
           {
            "line": {
             "colorbar": {
              "outlinewidth": 0,
              "ticks": ""
             }
            },
            "marker": {
             "colorbar": {
              "outlinewidth": 0,
              "ticks": ""
             }
            },
            "type": "scatter3d"
           }
          ],
          "scattercarpet": [
           {
            "marker": {
             "colorbar": {
              "outlinewidth": 0,
              "ticks": ""
             }
            },
            "type": "scattercarpet"
           }
          ],
          "scattergeo": [
           {
            "marker": {
             "colorbar": {
              "outlinewidth": 0,
              "ticks": ""
             }
            },
            "type": "scattergeo"
           }
          ],
          "scattergl": [
           {
            "marker": {
             "colorbar": {
              "outlinewidth": 0,
              "ticks": ""
             }
            },
            "type": "scattergl"
           }
          ],
          "scattermapbox": [
           {
            "marker": {
             "colorbar": {
              "outlinewidth": 0,
              "ticks": ""
             }
            },
            "type": "scattermapbox"
           }
          ],
          "scatterpolar": [
           {
            "marker": {
             "colorbar": {
              "outlinewidth": 0,
              "ticks": ""
             }
            },
            "type": "scatterpolar"
           }
          ],
          "scatterpolargl": [
           {
            "marker": {
             "colorbar": {
              "outlinewidth": 0,
              "ticks": ""
             }
            },
            "type": "scatterpolargl"
           }
          ],
          "scatterternary": [
           {
            "marker": {
             "colorbar": {
              "outlinewidth": 0,
              "ticks": ""
             }
            },
            "type": "scatterternary"
           }
          ],
          "surface": [
           {
            "colorbar": {
             "outlinewidth": 0,
             "ticks": ""
            },
            "colorscale": [
             [
              0,
              "#0d0887"
             ],
             [
              0.1111111111111111,
              "#46039f"
             ],
             [
              0.2222222222222222,
              "#7201a8"
             ],
             [
              0.3333333333333333,
              "#9c179e"
             ],
             [
              0.4444444444444444,
              "#bd3786"
             ],
             [
              0.5555555555555556,
              "#d8576b"
             ],
             [
              0.6666666666666666,
              "#ed7953"
             ],
             [
              0.7777777777777778,
              "#fb9f3a"
             ],
             [
              0.8888888888888888,
              "#fdca26"
             ],
             [
              1,
              "#f0f921"
             ]
            ],
            "type": "surface"
           }
          ],
          "table": [
           {
            "cells": {
             "fill": {
              "color": "#EBF0F8"
             },
             "line": {
              "color": "white"
             }
            },
            "header": {
             "fill": {
              "color": "#C8D4E3"
             },
             "line": {
              "color": "white"
             }
            },
            "type": "table"
           }
          ]
         },
         "layout": {
          "annotationdefaults": {
           "arrowcolor": "#2a3f5f",
           "arrowhead": 0,
           "arrowwidth": 1
          },
          "autotypenumbers": "strict",
          "coloraxis": {
           "colorbar": {
            "outlinewidth": 0,
            "ticks": ""
           }
          },
          "colorscale": {
           "diverging": [
            [
             0,
             "#8e0152"
            ],
            [
             0.1,
             "#c51b7d"
            ],
            [
             0.2,
             "#de77ae"
            ],
            [
             0.3,
             "#f1b6da"
            ],
            [
             0.4,
             "#fde0ef"
            ],
            [
             0.5,
             "#f7f7f7"
            ],
            [
             0.6,
             "#e6f5d0"
            ],
            [
             0.7,
             "#b8e186"
            ],
            [
             0.8,
             "#7fbc41"
            ],
            [
             0.9,
             "#4d9221"
            ],
            [
             1,
             "#276419"
            ]
           ],
           "sequential": [
            [
             0,
             "#0d0887"
            ],
            [
             0.1111111111111111,
             "#46039f"
            ],
            [
             0.2222222222222222,
             "#7201a8"
            ],
            [
             0.3333333333333333,
             "#9c179e"
            ],
            [
             0.4444444444444444,
             "#bd3786"
            ],
            [
             0.5555555555555556,
             "#d8576b"
            ],
            [
             0.6666666666666666,
             "#ed7953"
            ],
            [
             0.7777777777777778,
             "#fb9f3a"
            ],
            [
             0.8888888888888888,
             "#fdca26"
            ],
            [
             1,
             "#f0f921"
            ]
           ],
           "sequentialminus": [
            [
             0,
             "#0d0887"
            ],
            [
             0.1111111111111111,
             "#46039f"
            ],
            [
             0.2222222222222222,
             "#7201a8"
            ],
            [
             0.3333333333333333,
             "#9c179e"
            ],
            [
             0.4444444444444444,
             "#bd3786"
            ],
            [
             0.5555555555555556,
             "#d8576b"
            ],
            [
             0.6666666666666666,
             "#ed7953"
            ],
            [
             0.7777777777777778,
             "#fb9f3a"
            ],
            [
             0.8888888888888888,
             "#fdca26"
            ],
            [
             1,
             "#f0f921"
            ]
           ]
          },
          "colorway": [
           "#636efa",
           "#EF553B",
           "#00cc96",
           "#ab63fa",
           "#FFA15A",
           "#19d3f3",
           "#FF6692",
           "#B6E880",
           "#FF97FF",
           "#FECB52"
          ],
          "font": {
           "color": "#2a3f5f"
          },
          "geo": {
           "bgcolor": "white",
           "lakecolor": "white",
           "landcolor": "#E5ECF6",
           "showlakes": true,
           "showland": true,
           "subunitcolor": "white"
          },
          "hoverlabel": {
           "align": "left"
          },
          "hovermode": "closest",
          "mapbox": {
           "style": "light"
          },
          "paper_bgcolor": "white",
          "plot_bgcolor": "#E5ECF6",
          "polar": {
           "angularaxis": {
            "gridcolor": "white",
            "linecolor": "white",
            "ticks": ""
           },
           "bgcolor": "#E5ECF6",
           "radialaxis": {
            "gridcolor": "white",
            "linecolor": "white",
            "ticks": ""
           }
          },
          "scene": {
           "xaxis": {
            "backgroundcolor": "#E5ECF6",
            "gridcolor": "white",
            "gridwidth": 2,
            "linecolor": "white",
            "showbackground": true,
            "ticks": "",
            "zerolinecolor": "white"
           },
           "yaxis": {
            "backgroundcolor": "#E5ECF6",
            "gridcolor": "white",
            "gridwidth": 2,
            "linecolor": "white",
            "showbackground": true,
            "ticks": "",
            "zerolinecolor": "white"
           },
           "zaxis": {
            "backgroundcolor": "#E5ECF6",
            "gridcolor": "white",
            "gridwidth": 2,
            "linecolor": "white",
            "showbackground": true,
            "ticks": "",
            "zerolinecolor": "white"
           }
          },
          "shapedefaults": {
           "line": {
            "color": "#2a3f5f"
           }
          },
          "ternary": {
           "aaxis": {
            "gridcolor": "white",
            "linecolor": "white",
            "ticks": ""
           },
           "baxis": {
            "gridcolor": "white",
            "linecolor": "white",
            "ticks": ""
           },
           "bgcolor": "#E5ECF6",
           "caxis": {
            "gridcolor": "white",
            "linecolor": "white",
            "ticks": ""
           }
          },
          "title": {
           "x": 0.05
          },
          "xaxis": {
           "automargin": true,
           "gridcolor": "white",
           "linecolor": "white",
           "ticks": "",
           "title": {
            "standoff": 15
           },
           "zerolinecolor": "white",
           "zerolinewidth": 2
          },
          "yaxis": {
           "automargin": true,
           "gridcolor": "white",
           "linecolor": "white",
           "ticks": "",
           "title": {
            "standoff": 15
           },
           "zerolinecolor": "white",
           "zerolinewidth": 2
          }
         }
        },
        "width": 550,
        "xaxis": {
         "anchor": "y",
         "domain": [
          0,
          1
         ],
         "range": [
          0.45,
          0.8
         ],
         "tickvals": [
          0.5,
          0.55,
          0.6,
          0.65,
          0.7,
          0.75,
          0.8
         ],
         "title": {
          "text": "baseline"
         }
        },
        "yaxis": {
         "anchor": "x",
         "domain": [
          0,
          1
         ],
         "range": [
          0.45,
          0.8
         ],
         "tickvals": [
          0.5,
          0.55,
          0.6,
          0.65,
          0.7,
          0.75,
          0.8
         ],
         "title": {
          "text": "LSTM_MLP_with_CD"
         }
        }
       }
      }
     },
     "metadata": {},
     "output_type": "display_data"
    }
   ],
   "source": [
    "fig = px.scatter(all_dfs, x='baseline', y='LSTM_MLP_with_CD', color='n_groups', size='amount')\n",
    "fig.update_layout(width = 550,\n",
    "                  height = 500,)\n",
    "fig.update_xaxes(range=[0.45, 0.8])\n",
    "fig.update_yaxes(range=[0.45, 0.8])\n",
    "fig.update_xaxes(tickvals=[0.5, 0.55, 0.6, 0.65, 0.7, 0.75, 0.8])\n",
    "fig.update_yaxes(tickvals=[0.5, 0.55, 0.6, 0.65, 0.7, 0.75, 0.8])\n",
    "fig.add_trace(go.Scatter(\n",
    "    x = [0.45,0.8],\n",
    "    y = [0.45,0.8]\n",
    "))\n",
    "fig.update_layout(showlegend=False)\n",
    "\n"
   ]
  }
 ],
 "metadata": {
  "interpreter": {
   "hash": "795fc83421f890307230ebafb8698fb30ecd32bfacddc0880c6541ea65902590"
  },
  "kernelspec": {
   "display_name": "Python 3.9.7 ('research')",
   "language": "python",
   "name": "python3"
  },
  "language_info": {
   "codemirror_mode": {
    "name": "ipython",
    "version": 3
   },
   "file_extension": ".py",
   "mimetype": "text/x-python",
   "name": "python",
   "nbconvert_exporter": "python",
   "pygments_lexer": "ipython3",
   "version": "3.9.7"
  },
  "orig_nbformat": 4
 },
 "nbformat": 4,
 "nbformat_minor": 2
}
