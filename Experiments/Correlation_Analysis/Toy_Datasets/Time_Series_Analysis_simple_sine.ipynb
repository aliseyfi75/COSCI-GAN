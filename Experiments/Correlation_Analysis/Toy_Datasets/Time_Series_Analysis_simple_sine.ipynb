{
 "cells": [
  {
   "cell_type": "markdown",
   "metadata": {},
   "source": [
    "# Loading libaries"
   ]
  },
  {
   "cell_type": "code",
   "execution_count": 1,
   "metadata": {},
   "outputs": [],
   "source": [
    "import numpy as np\n",
    "import pandas as pd\n",
    "from sklearn.manifold import TSNE\n",
    "import plotly.express as px\n",
    "from scipy import stats\n",
    "import matplotlib.pyplot as plt\n",
    "from copy import deepcopy\n",
    "from plotly.subplots import make_subplots"
   ]
  },
  {
   "cell_type": "markdown",
   "metadata": {},
   "source": [
    "# Simple Sine"
   ]
  },
  {
   "cell_type": "markdown",
   "metadata": {},
   "source": [
    "## Loading Data"
   ]
  },
  {
   "cell_type": "code",
   "execution_count": 4,
   "metadata": {},
   "outputs": [],
   "source": [
    "DIR = 'Results/Simple_Sine/Catch22/'"
   ]
  },
  {
   "cell_type": "code",
   "execution_count": 5,
   "metadata": {},
   "outputs": [
    {
     "data": {
      "text/html": [
       "<div>\n",
       "<style scoped>\n",
       "    .dataframe tbody tr th:only-of-type {\n",
       "        vertical-align: middle;\n",
       "    }\n",
       "\n",
       "    .dataframe tbody tr th {\n",
       "        vertical-align: top;\n",
       "    }\n",
       "\n",
       "    .dataframe thead th {\n",
       "        text-align: right;\n",
       "    }\n",
       "</style>\n",
       "<table border=\"1\" class=\"dataframe\">\n",
       "  <thead>\n",
       "    <tr style=\"text-align: right;\">\n",
       "      <th></th>\n",
       "      <th>real_1_DN_HistogramMode_5</th>\n",
       "      <th>real_1_DN_HistogramMode_10</th>\n",
       "      <th>real_1_CO_f1ecac</th>\n",
       "      <th>real_1_CO_FirstMin_ac</th>\n",
       "      <th>real_1_CO_HistogramAMI_even_2_5</th>\n",
       "      <th>real_1_CO_trev_1_num</th>\n",
       "      <th>real_1_MD_hrv_classic_pnn40</th>\n",
       "      <th>real_1_SB_BinaryStats_mean_longstretch1</th>\n",
       "      <th>real_1_SB_TransitionMatrix_3ac_sumdiagcov</th>\n",
       "      <th>real_1_PD_PeriodicityWang_th0_01</th>\n",
       "      <th>...</th>\n",
       "      <th>real_1_DN_OutlierInclude_p_001_mdrmd</th>\n",
       "      <th>real_1_DN_OutlierInclude_n_001_mdrmd</th>\n",
       "      <th>real_1_SP_Summaries_welch_rect_area_5_1</th>\n",
       "      <th>real_1_SB_BinaryStats_diff_longstretch0</th>\n",
       "      <th>real_1_SB_MotifThree_quantile_hh</th>\n",
       "      <th>real_1_SC_FluctAnal_2_rsrangefit_50_1_logi_prop_r1</th>\n",
       "      <th>real_1_SC_FluctAnal_2_dfa_50_1_2_logi_prop_r1</th>\n",
       "      <th>real_1_SP_Summaries_welch_rect_centroid</th>\n",
       "      <th>real_1_FC_LocalSimple_mean3_stderr</th>\n",
       "      <th>real_1_ID</th>\n",
       "    </tr>\n",
       "  </thead>\n",
       "  <tbody>\n",
       "    <tr>\n",
       "      <th>0</th>\n",
       "      <td>-0.835185</td>\n",
       "      <td>-1.032904</td>\n",
       "      <td>39.0</td>\n",
       "      <td>2.0</td>\n",
       "      <td>0.714902</td>\n",
       "      <td>-0.000612</td>\n",
       "      <td>0.904881</td>\n",
       "      <td>96.0</td>\n",
       "      <td>0.017778</td>\n",
       "      <td>192.0</td>\n",
       "      <td>...</td>\n",
       "      <td>0.046250</td>\n",
       "      <td>0.27000</td>\n",
       "      <td>0.956345</td>\n",
       "      <td>5.0</td>\n",
       "      <td>1.557714</td>\n",
       "      <td>0.829787</td>\n",
       "      <td>0.680851</td>\n",
       "      <td>0.03068</td>\n",
       "      <td>0.269528</td>\n",
       "      <td>1.0</td>\n",
       "    </tr>\n",
       "    <tr>\n",
       "      <th>1</th>\n",
       "      <td>1.429570</td>\n",
       "      <td>1.247639</td>\n",
       "      <td>39.0</td>\n",
       "      <td>100.0</td>\n",
       "      <td>0.896222</td>\n",
       "      <td>-0.000276</td>\n",
       "      <td>0.877347</td>\n",
       "      <td>98.0</td>\n",
       "      <td>0.017778</td>\n",
       "      <td>197.0</td>\n",
       "      <td>...</td>\n",
       "      <td>0.031250</td>\n",
       "      <td>0.26250</td>\n",
       "      <td>0.976847</td>\n",
       "      <td>5.0</td>\n",
       "      <td>1.476074</td>\n",
       "      <td>0.829787</td>\n",
       "      <td>0.680851</td>\n",
       "      <td>0.03068</td>\n",
       "      <td>0.198519</td>\n",
       "      <td>2.0</td>\n",
       "    </tr>\n",
       "    <tr>\n",
       "      <th>2</th>\n",
       "      <td>1.372831</td>\n",
       "      <td>1.199161</td>\n",
       "      <td>39.0</td>\n",
       "      <td>100.0</td>\n",
       "      <td>1.047874</td>\n",
       "      <td>-0.000164</td>\n",
       "      <td>0.857322</td>\n",
       "      <td>98.0</td>\n",
       "      <td>0.017778</td>\n",
       "      <td>197.0</td>\n",
       "      <td>...</td>\n",
       "      <td>0.037500</td>\n",
       "      <td>0.26000</td>\n",
       "      <td>0.984703</td>\n",
       "      <td>5.0</td>\n",
       "      <td>1.419796</td>\n",
       "      <td>0.829787</td>\n",
       "      <td>0.680851</td>\n",
       "      <td>0.03068</td>\n",
       "      <td>0.163329</td>\n",
       "      <td>2.0</td>\n",
       "    </tr>\n",
       "    <tr>\n",
       "      <th>3</th>\n",
       "      <td>-0.841501</td>\n",
       "      <td>-1.040435</td>\n",
       "      <td>39.0</td>\n",
       "      <td>2.0</td>\n",
       "      <td>0.701817</td>\n",
       "      <td>-0.000645</td>\n",
       "      <td>0.907384</td>\n",
       "      <td>96.0</td>\n",
       "      <td>0.017778</td>\n",
       "      <td>192.0</td>\n",
       "      <td>...</td>\n",
       "      <td>0.047500</td>\n",
       "      <td>0.26875</td>\n",
       "      <td>0.954449</td>\n",
       "      <td>5.0</td>\n",
       "      <td>1.557714</td>\n",
       "      <td>0.829787</td>\n",
       "      <td>0.680851</td>\n",
       "      <td>0.03068</td>\n",
       "      <td>0.275173</td>\n",
       "      <td>1.0</td>\n",
       "    </tr>\n",
       "    <tr>\n",
       "      <th>4</th>\n",
       "      <td>1.380746</td>\n",
       "      <td>-0.017821</td>\n",
       "      <td>39.0</td>\n",
       "      <td>100.0</td>\n",
       "      <td>1.005855</td>\n",
       "      <td>-0.000177</td>\n",
       "      <td>0.859825</td>\n",
       "      <td>98.0</td>\n",
       "      <td>0.017778</td>\n",
       "      <td>197.0</td>\n",
       "      <td>...</td>\n",
       "      <td>0.017500</td>\n",
       "      <td>0.26000</td>\n",
       "      <td>0.983721</td>\n",
       "      <td>5.0</td>\n",
       "      <td>1.419796</td>\n",
       "      <td>0.829787</td>\n",
       "      <td>0.680851</td>\n",
       "      <td>0.03068</td>\n",
       "      <td>0.168131</td>\n",
       "      <td>2.0</td>\n",
       "    </tr>\n",
       "    <tr>\n",
       "      <th>...</th>\n",
       "      <td>...</td>\n",
       "      <td>...</td>\n",
       "      <td>...</td>\n",
       "      <td>...</td>\n",
       "      <td>...</td>\n",
       "      <td>...</td>\n",
       "      <td>...</td>\n",
       "      <td>...</td>\n",
       "      <td>...</td>\n",
       "      <td>...</td>\n",
       "      <td>...</td>\n",
       "      <td>...</td>\n",
       "      <td>...</td>\n",
       "      <td>...</td>\n",
       "      <td>...</td>\n",
       "      <td>...</td>\n",
       "      <td>...</td>\n",
       "      <td>...</td>\n",
       "      <td>...</td>\n",
       "      <td>...</td>\n",
       "      <td>...</td>\n",
       "    </tr>\n",
       "    <tr>\n",
       "      <th>995</th>\n",
       "      <td>1.420302</td>\n",
       "      <td>1.239722</td>\n",
       "      <td>39.0</td>\n",
       "      <td>100.0</td>\n",
       "      <td>0.926884</td>\n",
       "      <td>-0.000255</td>\n",
       "      <td>0.874844</td>\n",
       "      <td>98.0</td>\n",
       "      <td>0.017778</td>\n",
       "      <td>197.0</td>\n",
       "      <td>...</td>\n",
       "      <td>0.037500</td>\n",
       "      <td>0.25500</td>\n",
       "      <td>0.978262</td>\n",
       "      <td>5.0</td>\n",
       "      <td>1.476074</td>\n",
       "      <td>0.829787</td>\n",
       "      <td>0.680851</td>\n",
       "      <td>0.03068</td>\n",
       "      <td>0.192657</td>\n",
       "      <td>2.0</td>\n",
       "    </tr>\n",
       "    <tr>\n",
       "      <th>996</th>\n",
       "      <td>-0.845074</td>\n",
       "      <td>-1.044695</td>\n",
       "      <td>38.0</td>\n",
       "      <td>2.0</td>\n",
       "      <td>0.695717</td>\n",
       "      <td>-0.000665</td>\n",
       "      <td>0.908636</td>\n",
       "      <td>96.0</td>\n",
       "      <td>0.017778</td>\n",
       "      <td>192.0</td>\n",
       "      <td>...</td>\n",
       "      <td>0.047500</td>\n",
       "      <td>0.27750</td>\n",
       "      <td>0.953355</td>\n",
       "      <td>5.0</td>\n",
       "      <td>1.567879</td>\n",
       "      <td>0.829787</td>\n",
       "      <td>0.680851</td>\n",
       "      <td>0.03068</td>\n",
       "      <td>0.278375</td>\n",
       "      <td>1.0</td>\n",
       "    </tr>\n",
       "    <tr>\n",
       "      <th>997</th>\n",
       "      <td>1.438361</td>\n",
       "      <td>1.255148</td>\n",
       "      <td>39.0</td>\n",
       "      <td>100.0</td>\n",
       "      <td>0.873401</td>\n",
       "      <td>-0.000297</td>\n",
       "      <td>0.878598</td>\n",
       "      <td>98.0</td>\n",
       "      <td>0.017778</td>\n",
       "      <td>197.0</td>\n",
       "      <td>...</td>\n",
       "      <td>0.040000</td>\n",
       "      <td>0.26500</td>\n",
       "      <td>0.975456</td>\n",
       "      <td>5.0</td>\n",
       "      <td>1.476074</td>\n",
       "      <td>0.829787</td>\n",
       "      <td>0.680851</td>\n",
       "      <td>0.03068</td>\n",
       "      <td>0.204117</td>\n",
       "      <td>1.0</td>\n",
       "    </tr>\n",
       "    <tr>\n",
       "      <th>998</th>\n",
       "      <td>1.364368</td>\n",
       "      <td>1.191927</td>\n",
       "      <td>39.0</td>\n",
       "      <td>100.0</td>\n",
       "      <td>1.062280</td>\n",
       "      <td>-0.000150</td>\n",
       "      <td>0.853567</td>\n",
       "      <td>98.0</td>\n",
       "      <td>0.017778</td>\n",
       "      <td>197.0</td>\n",
       "      <td>...</td>\n",
       "      <td>0.030000</td>\n",
       "      <td>0.26000</td>\n",
       "      <td>0.985714</td>\n",
       "      <td>5.0</td>\n",
       "      <td>1.399466</td>\n",
       "      <td>0.829787</td>\n",
       "      <td>0.680851</td>\n",
       "      <td>0.03068</td>\n",
       "      <td>0.158235</td>\n",
       "      <td>2.0</td>\n",
       "    </tr>\n",
       "    <tr>\n",
       "      <th>999</th>\n",
       "      <td>1.415401</td>\n",
       "      <td>1.235535</td>\n",
       "      <td>39.0</td>\n",
       "      <td>100.0</td>\n",
       "      <td>0.935685</td>\n",
       "      <td>-0.000244</td>\n",
       "      <td>0.874844</td>\n",
       "      <td>98.0</td>\n",
       "      <td>0.017778</td>\n",
       "      <td>197.0</td>\n",
       "      <td>...</td>\n",
       "      <td>0.019375</td>\n",
       "      <td>0.25750</td>\n",
       "      <td>0.978989</td>\n",
       "      <td>5.0</td>\n",
       "      <td>1.476074</td>\n",
       "      <td>0.829787</td>\n",
       "      <td>0.680851</td>\n",
       "      <td>0.03068</td>\n",
       "      <td>0.189574</td>\n",
       "      <td>2.0</td>\n",
       "    </tr>\n",
       "  </tbody>\n",
       "</table>\n",
       "<p>1000 rows × 23 columns</p>\n",
       "</div>"
      ],
      "text/plain": [
       "     real_1_DN_HistogramMode_5  real_1_DN_HistogramMode_10  real_1_CO_f1ecac  \\\n",
       "0                    -0.835185                   -1.032904              39.0   \n",
       "1                     1.429570                    1.247639              39.0   \n",
       "2                     1.372831                    1.199161              39.0   \n",
       "3                    -0.841501                   -1.040435              39.0   \n",
       "4                     1.380746                   -0.017821              39.0   \n",
       "..                         ...                         ...               ...   \n",
       "995                   1.420302                    1.239722              39.0   \n",
       "996                  -0.845074                   -1.044695              38.0   \n",
       "997                   1.438361                    1.255148              39.0   \n",
       "998                   1.364368                    1.191927              39.0   \n",
       "999                   1.415401                    1.235535              39.0   \n",
       "\n",
       "     real_1_CO_FirstMin_ac  real_1_CO_HistogramAMI_even_2_5  \\\n",
       "0                      2.0                         0.714902   \n",
       "1                    100.0                         0.896222   \n",
       "2                    100.0                         1.047874   \n",
       "3                      2.0                         0.701817   \n",
       "4                    100.0                         1.005855   \n",
       "..                     ...                              ...   \n",
       "995                  100.0                         0.926884   \n",
       "996                    2.0                         0.695717   \n",
       "997                  100.0                         0.873401   \n",
       "998                  100.0                         1.062280   \n",
       "999                  100.0                         0.935685   \n",
       "\n",
       "     real_1_CO_trev_1_num  real_1_MD_hrv_classic_pnn40  \\\n",
       "0               -0.000612                     0.904881   \n",
       "1               -0.000276                     0.877347   \n",
       "2               -0.000164                     0.857322   \n",
       "3               -0.000645                     0.907384   \n",
       "4               -0.000177                     0.859825   \n",
       "..                    ...                          ...   \n",
       "995             -0.000255                     0.874844   \n",
       "996             -0.000665                     0.908636   \n",
       "997             -0.000297                     0.878598   \n",
       "998             -0.000150                     0.853567   \n",
       "999             -0.000244                     0.874844   \n",
       "\n",
       "     real_1_SB_BinaryStats_mean_longstretch1  \\\n",
       "0                                       96.0   \n",
       "1                                       98.0   \n",
       "2                                       98.0   \n",
       "3                                       96.0   \n",
       "4                                       98.0   \n",
       "..                                       ...   \n",
       "995                                     98.0   \n",
       "996                                     96.0   \n",
       "997                                     98.0   \n",
       "998                                     98.0   \n",
       "999                                     98.0   \n",
       "\n",
       "     real_1_SB_TransitionMatrix_3ac_sumdiagcov  \\\n",
       "0                                     0.017778   \n",
       "1                                     0.017778   \n",
       "2                                     0.017778   \n",
       "3                                     0.017778   \n",
       "4                                     0.017778   \n",
       "..                                         ...   \n",
       "995                                   0.017778   \n",
       "996                                   0.017778   \n",
       "997                                   0.017778   \n",
       "998                                   0.017778   \n",
       "999                                   0.017778   \n",
       "\n",
       "     real_1_PD_PeriodicityWang_th0_01  ...  \\\n",
       "0                               192.0  ...   \n",
       "1                               197.0  ...   \n",
       "2                               197.0  ...   \n",
       "3                               192.0  ...   \n",
       "4                               197.0  ...   \n",
       "..                                ...  ...   \n",
       "995                             197.0  ...   \n",
       "996                             192.0  ...   \n",
       "997                             197.0  ...   \n",
       "998                             197.0  ...   \n",
       "999                             197.0  ...   \n",
       "\n",
       "     real_1_DN_OutlierInclude_p_001_mdrmd  \\\n",
       "0                                0.046250   \n",
       "1                                0.031250   \n",
       "2                                0.037500   \n",
       "3                                0.047500   \n",
       "4                                0.017500   \n",
       "..                                    ...   \n",
       "995                              0.037500   \n",
       "996                              0.047500   \n",
       "997                              0.040000   \n",
       "998                              0.030000   \n",
       "999                              0.019375   \n",
       "\n",
       "     real_1_DN_OutlierInclude_n_001_mdrmd  \\\n",
       "0                                 0.27000   \n",
       "1                                 0.26250   \n",
       "2                                 0.26000   \n",
       "3                                 0.26875   \n",
       "4                                 0.26000   \n",
       "..                                    ...   \n",
       "995                               0.25500   \n",
       "996                               0.27750   \n",
       "997                               0.26500   \n",
       "998                               0.26000   \n",
       "999                               0.25750   \n",
       "\n",
       "     real_1_SP_Summaries_welch_rect_area_5_1  \\\n",
       "0                                   0.956345   \n",
       "1                                   0.976847   \n",
       "2                                   0.984703   \n",
       "3                                   0.954449   \n",
       "4                                   0.983721   \n",
       "..                                       ...   \n",
       "995                                 0.978262   \n",
       "996                                 0.953355   \n",
       "997                                 0.975456   \n",
       "998                                 0.985714   \n",
       "999                                 0.978989   \n",
       "\n",
       "     real_1_SB_BinaryStats_diff_longstretch0  \\\n",
       "0                                        5.0   \n",
       "1                                        5.0   \n",
       "2                                        5.0   \n",
       "3                                        5.0   \n",
       "4                                        5.0   \n",
       "..                                       ...   \n",
       "995                                      5.0   \n",
       "996                                      5.0   \n",
       "997                                      5.0   \n",
       "998                                      5.0   \n",
       "999                                      5.0   \n",
       "\n",
       "     real_1_SB_MotifThree_quantile_hh  \\\n",
       "0                            1.557714   \n",
       "1                            1.476074   \n",
       "2                            1.419796   \n",
       "3                            1.557714   \n",
       "4                            1.419796   \n",
       "..                                ...   \n",
       "995                          1.476074   \n",
       "996                          1.567879   \n",
       "997                          1.476074   \n",
       "998                          1.399466   \n",
       "999                          1.476074   \n",
       "\n",
       "     real_1_SC_FluctAnal_2_rsrangefit_50_1_logi_prop_r1  \\\n",
       "0                                             0.829787    \n",
       "1                                             0.829787    \n",
       "2                                             0.829787    \n",
       "3                                             0.829787    \n",
       "4                                             0.829787    \n",
       "..                                                 ...    \n",
       "995                                           0.829787    \n",
       "996                                           0.829787    \n",
       "997                                           0.829787    \n",
       "998                                           0.829787    \n",
       "999                                           0.829787    \n",
       "\n",
       "     real_1_SC_FluctAnal_2_dfa_50_1_2_logi_prop_r1  \\\n",
       "0                                         0.680851   \n",
       "1                                         0.680851   \n",
       "2                                         0.680851   \n",
       "3                                         0.680851   \n",
       "4                                         0.680851   \n",
       "..                                             ...   \n",
       "995                                       0.680851   \n",
       "996                                       0.680851   \n",
       "997                                       0.680851   \n",
       "998                                       0.680851   \n",
       "999                                       0.680851   \n",
       "\n",
       "     real_1_SP_Summaries_welch_rect_centroid  \\\n",
       "0                                    0.03068   \n",
       "1                                    0.03068   \n",
       "2                                    0.03068   \n",
       "3                                    0.03068   \n",
       "4                                    0.03068   \n",
       "..                                       ...   \n",
       "995                                  0.03068   \n",
       "996                                  0.03068   \n",
       "997                                  0.03068   \n",
       "998                                  0.03068   \n",
       "999                                  0.03068   \n",
       "\n",
       "     real_1_FC_LocalSimple_mean3_stderr  real_1_ID  \n",
       "0                              0.269528        1.0  \n",
       "1                              0.198519        2.0  \n",
       "2                              0.163329        2.0  \n",
       "3                              0.275173        1.0  \n",
       "4                              0.168131        2.0  \n",
       "..                                  ...        ...  \n",
       "995                            0.192657        2.0  \n",
       "996                            0.278375        1.0  \n",
       "997                            0.204117        1.0  \n",
       "998                            0.158235        2.0  \n",
       "999                            0.189574        2.0  \n",
       "\n",
       "[1000 rows x 23 columns]"
      ]
     },
     "execution_count": 5,
     "metadata": {},
     "output_type": "execute_result"
    }
   ],
   "source": [
    "df_real_1 = pd.read_csv(DIR+'features_df_Sine_signal_1_real_21.csv', index_col=0).add_prefix('real_1_')\n",
    "df_real_2 = pd.read_csv(DIR+'features_df_Sine_signal_2_real_21.csv', index_col=0).add_prefix('real_2_')\n",
    "\n",
    "df_generated_without_CD_1 = pd.read_csv(DIR+'Without_CD/features_df_signal_1_generated_data_frame_21.csv', index_col=0).add_prefix('generated_without_CD_1_')\n",
    "df_generated_without_CD_2 = pd.read_csv(DIR+'Without_CD/features_df_signal_2_generated_data_frame_21.csv', index_col=0).add_prefix('generated_without_CD_2_')\n",
    "\n",
    "df_generated_with_CD_1 = pd.read_csv(DIR+'With_CD/features_df_signal_1_generated_data_frame_21.csv', index_col=0).add_prefix('generated_with_CD_1_')\n",
    "df_generated_with_CD_2 = pd.read_csv(DIR+'With_CD/features_df_signal_2_generated_data_frame_21.csv', index_col=0).add_prefix('generated_with_CD_2_')\n",
    "\n",
    "df_real_1"
   ]
  },
  {
   "cell_type": "markdown",
   "metadata": {},
   "source": [
    "## Correlation Analysis"
   ]
  },
  {
   "cell_type": "markdown",
   "metadata": {},
   "source": [
    "### Computing Correlation"
   ]
  },
  {
   "cell_type": "code",
   "execution_count": 6,
   "metadata": {},
   "outputs": [],
   "source": [
    "real_corr = pd.concat([df_real_1.drop(columns=[\"real_1_ID\"]), df_real_2.drop(columns=[\"real_2_ID\"])], axis=1).corr()\n",
    "real_corr = real_corr[list(df_real_2.columns)[:-1]].loc[list(df_real_1.columns)[:-1]]\n",
    "\n",
    "generated_without_CD = pd.concat([df_generated_without_CD_1, df_generated_without_CD_2], axis=1).corr()\n",
    "generated_without_CD = generated_without_CD[list(df_generated_without_CD_2.columns)].loc[list(df_generated_without_CD_1.columns)]\n",
    "\n",
    "generated_with_CD = pd.concat([df_generated_with_CD_1, df_generated_with_CD_2], axis=1).corr()\n",
    "generated_with_CD = generated_with_CD[list(df_generated_with_CD_2.columns)].loc[list(df_generated_with_CD_1.columns)]\n",
    "\n",
    "indices_real = real_corr.columns[real_corr.isna().all()].tolist()\n",
    "indices_generated_without_CD = generated_without_CD.columns[generated_without_CD.isna().all()].tolist()\n",
    "indices_generated_with_CD = generated_with_CD.columns[generated_with_CD.isna().all()].tolist()\n",
    "\n",
    "indices_total = indices_real + indices_generated_without_CD + indices_generated_with_CD\n",
    "\n",
    "features = list(set(['SB_BinaryStats_diff_longstretch0', 'FC_LocalSimple_mean1_tauresrat', 'SP_Summaries_welch_rect_centroid', 'SB_TransitionMatrix_3ac_sumdiagcov', 'PD_PeriodicityWang_th0_01', 'FC_LocalSimple_mean1_tauresrat', 'SC_FluctAnal_2_dfa_50_1_2_logi_prop_r1', 'SC_FluctAnal_2_dfa_50_1_2_logi_prop_r1', 'IN_AutoMutualInfoStats_40_gaussian_fmmi', 'SC_FluctAnal_2_dfa_50_1_2_logi_prop_r1', 'FC_LocalSimple_mean1_tauresrat', 'SB_TransitionMatrix_3ac_sumdiagcov']))\n",
    "\n",
    "real_features_2 = ['real_2_'+f for f in features]\n",
    "generated_without_CD_features_2 = ['generated_without_CD_2_'+f for f in features]\n",
    "generated_with_CD_features_2 = ['generated_with_CD_2_'+f for f in features]\n",
    "\n",
    "real_features_1 = ['real_1_'+f for f in features]\n",
    "generated_without_CD_features_1 = ['generated_without_CD_1_'+f for f in features]\n",
    "generated_with_CD_features_1 = ['generated_with_CD_1_'+f for f in features]\n",
    "\n",
    "real_not_nan = real_corr.drop(real_features_2, axis=1)\n",
    "generated_with_CD_not_nan = generated_with_CD.drop(generated_with_CD_features_2, axis=1)\n",
    "generated_without_CD_not_nan = generated_without_CD.drop(generated_without_CD_features_2, axis=1)\n",
    "\n",
    "real_not_nan = real_not_nan.drop(real_features_1, axis=0)\n",
    "generated_with_CD_not_nan = generated_with_CD_not_nan.drop(generated_with_CD_features_1, axis=0)\n",
    "generated_without_CD_not_nan = generated_without_CD_not_nan.drop(generated_without_CD_features_1, axis=0)"
   ]
  },
  {
   "cell_type": "code",
   "execution_count": 7,
   "metadata": {},
   "outputs": [
    {
     "data": {
      "text/html": [
       "<div>\n",
       "<style scoped>\n",
       "    .dataframe tbody tr th:only-of-type {\n",
       "        vertical-align: middle;\n",
       "    }\n",
       "\n",
       "    .dataframe tbody tr th {\n",
       "        vertical-align: top;\n",
       "    }\n",
       "\n",
       "    .dataframe thead th {\n",
       "        text-align: right;\n",
       "    }\n",
       "</style>\n",
       "<table border=\"1\" class=\"dataframe\">\n",
       "  <thead>\n",
       "    <tr style=\"text-align: right;\">\n",
       "      <th></th>\n",
       "      <th>real_2_DN_HistogramMode_5</th>\n",
       "      <th>real_2_DN_HistogramMode_10</th>\n",
       "      <th>real_2_CO_f1ecac</th>\n",
       "      <th>real_2_CO_FirstMin_ac</th>\n",
       "      <th>real_2_CO_HistogramAMI_even_2_5</th>\n",
       "      <th>real_2_CO_trev_1_num</th>\n",
       "      <th>real_2_MD_hrv_classic_pnn40</th>\n",
       "      <th>real_2_SB_BinaryStats_mean_longstretch1</th>\n",
       "      <th>real_2_CO_Embed2_Dist_tau_d_expfit_meandiff</th>\n",
       "      <th>real_2_DN_OutlierInclude_p_001_mdrmd</th>\n",
       "      <th>real_2_DN_OutlierInclude_n_001_mdrmd</th>\n",
       "      <th>real_2_SP_Summaries_welch_rect_area_5_1</th>\n",
       "      <th>real_2_SB_MotifThree_quantile_hh</th>\n",
       "      <th>real_2_SC_FluctAnal_2_rsrangefit_50_1_logi_prop_r1</th>\n",
       "      <th>real_2_FC_LocalSimple_mean3_stderr</th>\n",
       "    </tr>\n",
       "  </thead>\n",
       "  <tbody>\n",
       "    <tr>\n",
       "      <th>real_1_DN_HistogramMode_5</th>\n",
       "      <td>-0.830074</td>\n",
       "      <td>-0.134315</td>\n",
       "      <td>0.882545</td>\n",
       "      <td>-0.161514</td>\n",
       "      <td>0.913791</td>\n",
       "      <td>-0.701503</td>\n",
       "      <td>-0.892184</td>\n",
       "      <td>0.893731</td>\n",
       "      <td>0.901884</td>\n",
       "      <td>-0.701708</td>\n",
       "      <td>0.636069</td>\n",
       "      <td>0.792016</td>\n",
       "      <td>-0.826374</td>\n",
       "      <td>-0.582629</td>\n",
       "      <td>-0.844235</td>\n",
       "    </tr>\n",
       "    <tr>\n",
       "      <th>real_1_DN_HistogramMode_10</th>\n",
       "      <td>-0.580417</td>\n",
       "      <td>-0.493692</td>\n",
       "      <td>0.384342</td>\n",
       "      <td>-0.413392</td>\n",
       "      <td>0.564691</td>\n",
       "      <td>-0.476976</td>\n",
       "      <td>-0.532681</td>\n",
       "      <td>0.571779</td>\n",
       "      <td>0.523673</td>\n",
       "      <td>-0.325007</td>\n",
       "      <td>0.255372</td>\n",
       "      <td>0.527420</td>\n",
       "      <td>-0.557276</td>\n",
       "      <td>-0.681699</td>\n",
       "      <td>-0.549044</td>\n",
       "    </tr>\n",
       "    <tr>\n",
       "      <th>real_1_CO_f1ecac</th>\n",
       "      <td>-0.538498</td>\n",
       "      <td>-0.426538</td>\n",
       "      <td>0.445211</td>\n",
       "      <td>-0.209762</td>\n",
       "      <td>0.685198</td>\n",
       "      <td>-0.835942</td>\n",
       "      <td>-0.623100</td>\n",
       "      <td>0.567759</td>\n",
       "      <td>0.641707</td>\n",
       "      <td>-0.336883</td>\n",
       "      <td>-0.071063</td>\n",
       "      <td>0.810689</td>\n",
       "      <td>-0.773038</td>\n",
       "      <td>-0.808085</td>\n",
       "      <td>-0.773753</td>\n",
       "    </tr>\n",
       "    <tr>\n",
       "      <th>real_1_CO_FirstMin_ac</th>\n",
       "      <td>-0.842105</td>\n",
       "      <td>-0.489429</td>\n",
       "      <td>0.623988</td>\n",
       "      <td>-0.237939</td>\n",
       "      <td>0.846463</td>\n",
       "      <td>-0.763141</td>\n",
       "      <td>-0.798015</td>\n",
       "      <td>0.827957</td>\n",
       "      <td>0.802745</td>\n",
       "      <td>-0.516843</td>\n",
       "      <td>0.368715</td>\n",
       "      <td>0.817725</td>\n",
       "      <td>-0.844382</td>\n",
       "      <td>-0.806727</td>\n",
       "      <td>-0.837609</td>\n",
       "    </tr>\n",
       "    <tr>\n",
       "      <th>real_1_CO_HistogramAMI_even_2_5</th>\n",
       "      <td>-0.861923</td>\n",
       "      <td>-0.198754</td>\n",
       "      <td>0.883650</td>\n",
       "      <td>-0.139940</td>\n",
       "      <td>0.993394</td>\n",
       "      <td>-0.868100</td>\n",
       "      <td>-0.989212</td>\n",
       "      <td>0.949778</td>\n",
       "      <td>0.996747</td>\n",
       "      <td>-0.798197</td>\n",
       "      <td>0.537983</td>\n",
       "      <td>0.938081</td>\n",
       "      <td>-0.962921</td>\n",
       "      <td>-0.765799</td>\n",
       "      <td>-0.972713</td>\n",
       "    </tr>\n",
       "    <tr>\n",
       "      <th>real_1_CO_trev_1_num</th>\n",
       "      <td>-0.760631</td>\n",
       "      <td>-0.326313</td>\n",
       "      <td>0.720126</td>\n",
       "      <td>0.059799</td>\n",
       "      <td>0.920135</td>\n",
       "      <td>-0.996908</td>\n",
       "      <td>-0.858899</td>\n",
       "      <td>0.811664</td>\n",
       "      <td>0.886154</td>\n",
       "      <td>-0.576986</td>\n",
       "      <td>0.195983</td>\n",
       "      <td>0.995479</td>\n",
       "      <td>-0.974659</td>\n",
       "      <td>-0.862409</td>\n",
       "      <td>-0.976073</td>\n",
       "    </tr>\n",
       "    <tr>\n",
       "      <th>real_1_MD_hrv_classic_pnn40</th>\n",
       "      <td>0.848955</td>\n",
       "      <td>0.200140</td>\n",
       "      <td>-0.852922</td>\n",
       "      <td>0.152144</td>\n",
       "      <td>-0.985940</td>\n",
       "      <td>0.875502</td>\n",
       "      <td>0.988746</td>\n",
       "      <td>-0.933257</td>\n",
       "      <td>-0.993499</td>\n",
       "      <td>0.801912</td>\n",
       "      <td>-0.515900</td>\n",
       "      <td>-0.941851</td>\n",
       "      <td>0.962168</td>\n",
       "      <td>0.774487</td>\n",
       "      <td>0.973583</td>\n",
       "    </tr>\n",
       "    <tr>\n",
       "      <th>real_1_SB_BinaryStats_mean_longstretch1</th>\n",
       "      <td>-0.602459</td>\n",
       "      <td>-0.362870</td>\n",
       "      <td>0.518756</td>\n",
       "      <td>0.218395</td>\n",
       "      <td>0.763127</td>\n",
       "      <td>-0.941097</td>\n",
       "      <td>-0.677904</td>\n",
       "      <td>0.623538</td>\n",
       "      <td>0.714649</td>\n",
       "      <td>-0.393280</td>\n",
       "      <td>-0.038152</td>\n",
       "      <td>0.903477</td>\n",
       "      <td>-0.864750</td>\n",
       "      <td>-0.831291</td>\n",
       "      <td>-0.857697</td>\n",
       "    </tr>\n",
       "    <tr>\n",
       "      <th>real_1_CO_Embed2_Dist_tau_d_expfit_meandiff</th>\n",
       "      <td>-0.848911</td>\n",
       "      <td>-0.143855</td>\n",
       "      <td>0.887136</td>\n",
       "      <td>-0.144208</td>\n",
       "      <td>0.983353</td>\n",
       "      <td>-0.837818</td>\n",
       "      <td>-0.995292</td>\n",
       "      <td>0.943006</td>\n",
       "      <td>0.999277</td>\n",
       "      <td>-0.836754</td>\n",
       "      <td>0.582400</td>\n",
       "      <td>0.914923</td>\n",
       "      <td>-0.944809</td>\n",
       "      <td>-0.724107</td>\n",
       "      <td>-0.955848</td>\n",
       "    </tr>\n",
       "    <tr>\n",
       "      <th>real_1_DN_OutlierInclude_p_001_mdrmd</th>\n",
       "      <td>0.369884</td>\n",
       "      <td>-0.090223</td>\n",
       "      <td>-0.391234</td>\n",
       "      <td>0.069534</td>\n",
       "      <td>-0.480688</td>\n",
       "      <td>0.392713</td>\n",
       "      <td>0.552987</td>\n",
       "      <td>-0.384894</td>\n",
       "      <td>-0.537536</td>\n",
       "      <td>0.581178</td>\n",
       "      <td>-0.414634</td>\n",
       "      <td>-0.439549</td>\n",
       "      <td>0.462549</td>\n",
       "      <td>0.330419</td>\n",
       "      <td>0.469268</td>\n",
       "    </tr>\n",
       "    <tr>\n",
       "      <th>real_1_DN_OutlierInclude_n_001_mdrmd</th>\n",
       "      <td>0.145987</td>\n",
       "      <td>-0.139987</td>\n",
       "      <td>-0.118485</td>\n",
       "      <td>0.423669</td>\n",
       "      <td>0.027004</td>\n",
       "      <td>-0.412147</td>\n",
       "      <td>0.037284</td>\n",
       "      <td>-0.099684</td>\n",
       "      <td>-0.004546</td>\n",
       "      <td>0.148817</td>\n",
       "      <td>-0.530783</td>\n",
       "      <td>0.281643</td>\n",
       "      <td>-0.206978</td>\n",
       "      <td>-0.346132</td>\n",
       "      <td>-0.183873</td>\n",
       "    </tr>\n",
       "    <tr>\n",
       "      <th>real_1_SP_Summaries_welch_rect_area_5_1</th>\n",
       "      <td>-0.799456</td>\n",
       "      <td>-0.317501</td>\n",
       "      <td>0.759482</td>\n",
       "      <td>0.009290</td>\n",
       "      <td>0.950050</td>\n",
       "      <td>-0.986008</td>\n",
       "      <td>-0.897455</td>\n",
       "      <td>0.852362</td>\n",
       "      <td>0.921572</td>\n",
       "      <td>-0.625363</td>\n",
       "      <td>0.263143</td>\n",
       "      <td>0.999980</td>\n",
       "      <td>-0.988120</td>\n",
       "      <td>-0.860252</td>\n",
       "      <td>-0.991446</td>\n",
       "    </tr>\n",
       "    <tr>\n",
       "      <th>real_1_SB_MotifThree_quantile_hh</th>\n",
       "      <td>0.816192</td>\n",
       "      <td>0.232645</td>\n",
       "      <td>-0.805425</td>\n",
       "      <td>0.062529</td>\n",
       "      <td>-0.971096</td>\n",
       "      <td>0.929568</td>\n",
       "      <td>0.958074</td>\n",
       "      <td>-0.904246</td>\n",
       "      <td>-0.970821</td>\n",
       "      <td>0.752621</td>\n",
       "      <td>-0.404555</td>\n",
       "      <td>-0.973100</td>\n",
       "      <td>0.979690</td>\n",
       "      <td>0.808659</td>\n",
       "      <td>0.987198</td>\n",
       "    </tr>\n",
       "    <tr>\n",
       "      <th>real_1_SC_FluctAnal_2_rsrangefit_50_1_logi_prop_r1</th>\n",
       "      <td>0.071920</td>\n",
       "      <td>0.009911</td>\n",
       "      <td>-0.193687</td>\n",
       "      <td>-0.427240</td>\n",
       "      <td>-0.218415</td>\n",
       "      <td>0.474649</td>\n",
       "      <td>0.163780</td>\n",
       "      <td>-0.142375</td>\n",
       "      <td>-0.184864</td>\n",
       "      <td>0.010863</td>\n",
       "      <td>0.176967</td>\n",
       "      <td>-0.375661</td>\n",
       "      <td>0.323362</td>\n",
       "      <td>0.307189</td>\n",
       "      <td>0.305597</td>\n",
       "    </tr>\n",
       "    <tr>\n",
       "      <th>real_1_FC_LocalSimple_mean3_stderr</th>\n",
       "      <td>0.845592</td>\n",
       "      <td>0.282631</td>\n",
       "      <td>-0.818475</td>\n",
       "      <td>0.063428</td>\n",
       "      <td>-0.983957</td>\n",
       "      <td>0.951240</td>\n",
       "      <td>0.949175</td>\n",
       "      <td>-0.906523</td>\n",
       "      <td>-0.967172</td>\n",
       "      <td>0.703216</td>\n",
       "      <td>-0.378838</td>\n",
       "      <td>-0.990039</td>\n",
       "      <td>0.993396</td>\n",
       "      <td>0.835732</td>\n",
       "      <td>0.999847</td>\n",
       "    </tr>\n",
       "  </tbody>\n",
       "</table>\n",
       "</div>"
      ],
      "text/plain": [
       "                                                    real_2_DN_HistogramMode_5  \\\n",
       "real_1_DN_HistogramMode_5                                           -0.830074   \n",
       "real_1_DN_HistogramMode_10                                          -0.580417   \n",
       "real_1_CO_f1ecac                                                    -0.538498   \n",
       "real_1_CO_FirstMin_ac                                               -0.842105   \n",
       "real_1_CO_HistogramAMI_even_2_5                                     -0.861923   \n",
       "real_1_CO_trev_1_num                                                -0.760631   \n",
       "real_1_MD_hrv_classic_pnn40                                          0.848955   \n",
       "real_1_SB_BinaryStats_mean_longstretch1                             -0.602459   \n",
       "real_1_CO_Embed2_Dist_tau_d_expfit_meandiff                         -0.848911   \n",
       "real_1_DN_OutlierInclude_p_001_mdrmd                                 0.369884   \n",
       "real_1_DN_OutlierInclude_n_001_mdrmd                                 0.145987   \n",
       "real_1_SP_Summaries_welch_rect_area_5_1                             -0.799456   \n",
       "real_1_SB_MotifThree_quantile_hh                                     0.816192   \n",
       "real_1_SC_FluctAnal_2_rsrangefit_50_1_logi_prop_r1                   0.071920   \n",
       "real_1_FC_LocalSimple_mean3_stderr                                   0.845592   \n",
       "\n",
       "                                                    real_2_DN_HistogramMode_10  \\\n",
       "real_1_DN_HistogramMode_5                                            -0.134315   \n",
       "real_1_DN_HistogramMode_10                                           -0.493692   \n",
       "real_1_CO_f1ecac                                                     -0.426538   \n",
       "real_1_CO_FirstMin_ac                                                -0.489429   \n",
       "real_1_CO_HistogramAMI_even_2_5                                      -0.198754   \n",
       "real_1_CO_trev_1_num                                                 -0.326313   \n",
       "real_1_MD_hrv_classic_pnn40                                           0.200140   \n",
       "real_1_SB_BinaryStats_mean_longstretch1                              -0.362870   \n",
       "real_1_CO_Embed2_Dist_tau_d_expfit_meandiff                          -0.143855   \n",
       "real_1_DN_OutlierInclude_p_001_mdrmd                                 -0.090223   \n",
       "real_1_DN_OutlierInclude_n_001_mdrmd                                 -0.139987   \n",
       "real_1_SP_Summaries_welch_rect_area_5_1                              -0.317501   \n",
       "real_1_SB_MotifThree_quantile_hh                                      0.232645   \n",
       "real_1_SC_FluctAnal_2_rsrangefit_50_1_logi_prop_r1                    0.009911   \n",
       "real_1_FC_LocalSimple_mean3_stderr                                    0.282631   \n",
       "\n",
       "                                                    real_2_CO_f1ecac  \\\n",
       "real_1_DN_HistogramMode_5                                   0.882545   \n",
       "real_1_DN_HistogramMode_10                                  0.384342   \n",
       "real_1_CO_f1ecac                                            0.445211   \n",
       "real_1_CO_FirstMin_ac                                       0.623988   \n",
       "real_1_CO_HistogramAMI_even_2_5                             0.883650   \n",
       "real_1_CO_trev_1_num                                        0.720126   \n",
       "real_1_MD_hrv_classic_pnn40                                -0.852922   \n",
       "real_1_SB_BinaryStats_mean_longstretch1                     0.518756   \n",
       "real_1_CO_Embed2_Dist_tau_d_expfit_meandiff                 0.887136   \n",
       "real_1_DN_OutlierInclude_p_001_mdrmd                       -0.391234   \n",
       "real_1_DN_OutlierInclude_n_001_mdrmd                       -0.118485   \n",
       "real_1_SP_Summaries_welch_rect_area_5_1                     0.759482   \n",
       "real_1_SB_MotifThree_quantile_hh                           -0.805425   \n",
       "real_1_SC_FluctAnal_2_rsrangefit_50_1_logi_prop_r1         -0.193687   \n",
       "real_1_FC_LocalSimple_mean3_stderr                         -0.818475   \n",
       "\n",
       "                                                    real_2_CO_FirstMin_ac  \\\n",
       "real_1_DN_HistogramMode_5                                       -0.161514   \n",
       "real_1_DN_HistogramMode_10                                      -0.413392   \n",
       "real_1_CO_f1ecac                                                -0.209762   \n",
       "real_1_CO_FirstMin_ac                                           -0.237939   \n",
       "real_1_CO_HistogramAMI_even_2_5                                 -0.139940   \n",
       "real_1_CO_trev_1_num                                             0.059799   \n",
       "real_1_MD_hrv_classic_pnn40                                      0.152144   \n",
       "real_1_SB_BinaryStats_mean_longstretch1                          0.218395   \n",
       "real_1_CO_Embed2_Dist_tau_d_expfit_meandiff                     -0.144208   \n",
       "real_1_DN_OutlierInclude_p_001_mdrmd                             0.069534   \n",
       "real_1_DN_OutlierInclude_n_001_mdrmd                             0.423669   \n",
       "real_1_SP_Summaries_welch_rect_area_5_1                          0.009290   \n",
       "real_1_SB_MotifThree_quantile_hh                                 0.062529   \n",
       "real_1_SC_FluctAnal_2_rsrangefit_50_1_logi_prop_r1              -0.427240   \n",
       "real_1_FC_LocalSimple_mean3_stderr                               0.063428   \n",
       "\n",
       "                                                    real_2_CO_HistogramAMI_even_2_5  \\\n",
       "real_1_DN_HistogramMode_5                                                  0.913791   \n",
       "real_1_DN_HistogramMode_10                                                 0.564691   \n",
       "real_1_CO_f1ecac                                                           0.685198   \n",
       "real_1_CO_FirstMin_ac                                                      0.846463   \n",
       "real_1_CO_HistogramAMI_even_2_5                                            0.993394   \n",
       "real_1_CO_trev_1_num                                                       0.920135   \n",
       "real_1_MD_hrv_classic_pnn40                                               -0.985940   \n",
       "real_1_SB_BinaryStats_mean_longstretch1                                    0.763127   \n",
       "real_1_CO_Embed2_Dist_tau_d_expfit_meandiff                                0.983353   \n",
       "real_1_DN_OutlierInclude_p_001_mdrmd                                      -0.480688   \n",
       "real_1_DN_OutlierInclude_n_001_mdrmd                                       0.027004   \n",
       "real_1_SP_Summaries_welch_rect_area_5_1                                    0.950050   \n",
       "real_1_SB_MotifThree_quantile_hh                                          -0.971096   \n",
       "real_1_SC_FluctAnal_2_rsrangefit_50_1_logi_prop_r1                        -0.218415   \n",
       "real_1_FC_LocalSimple_mean3_stderr                                        -0.983957   \n",
       "\n",
       "                                                    real_2_CO_trev_1_num  \\\n",
       "real_1_DN_HistogramMode_5                                      -0.701503   \n",
       "real_1_DN_HistogramMode_10                                     -0.476976   \n",
       "real_1_CO_f1ecac                                               -0.835942   \n",
       "real_1_CO_FirstMin_ac                                          -0.763141   \n",
       "real_1_CO_HistogramAMI_even_2_5                                -0.868100   \n",
       "real_1_CO_trev_1_num                                           -0.996908   \n",
       "real_1_MD_hrv_classic_pnn40                                     0.875502   \n",
       "real_1_SB_BinaryStats_mean_longstretch1                        -0.941097   \n",
       "real_1_CO_Embed2_Dist_tau_d_expfit_meandiff                    -0.837818   \n",
       "real_1_DN_OutlierInclude_p_001_mdrmd                            0.392713   \n",
       "real_1_DN_OutlierInclude_n_001_mdrmd                           -0.412147   \n",
       "real_1_SP_Summaries_welch_rect_area_5_1                        -0.986008   \n",
       "real_1_SB_MotifThree_quantile_hh                                0.929568   \n",
       "real_1_SC_FluctAnal_2_rsrangefit_50_1_logi_prop_r1              0.474649   \n",
       "real_1_FC_LocalSimple_mean3_stderr                              0.951240   \n",
       "\n",
       "                                                    real_2_MD_hrv_classic_pnn40  \\\n",
       "real_1_DN_HistogramMode_5                                             -0.892184   \n",
       "real_1_DN_HistogramMode_10                                            -0.532681   \n",
       "real_1_CO_f1ecac                                                      -0.623100   \n",
       "real_1_CO_FirstMin_ac                                                 -0.798015   \n",
       "real_1_CO_HistogramAMI_even_2_5                                       -0.989212   \n",
       "real_1_CO_trev_1_num                                                  -0.858899   \n",
       "real_1_MD_hrv_classic_pnn40                                            0.988746   \n",
       "real_1_SB_BinaryStats_mean_longstretch1                               -0.677904   \n",
       "real_1_CO_Embed2_Dist_tau_d_expfit_meandiff                           -0.995292   \n",
       "real_1_DN_OutlierInclude_p_001_mdrmd                                   0.552987   \n",
       "real_1_DN_OutlierInclude_n_001_mdrmd                                   0.037284   \n",
       "real_1_SP_Summaries_welch_rect_area_5_1                               -0.897455   \n",
       "real_1_SB_MotifThree_quantile_hh                                       0.958074   \n",
       "real_1_SC_FluctAnal_2_rsrangefit_50_1_logi_prop_r1                     0.163780   \n",
       "real_1_FC_LocalSimple_mean3_stderr                                     0.949175   \n",
       "\n",
       "                                                    real_2_SB_BinaryStats_mean_longstretch1  \\\n",
       "real_1_DN_HistogramMode_5                                                          0.893731   \n",
       "real_1_DN_HistogramMode_10                                                         0.571779   \n",
       "real_1_CO_f1ecac                                                                   0.567759   \n",
       "real_1_CO_FirstMin_ac                                                              0.827957   \n",
       "real_1_CO_HistogramAMI_even_2_5                                                    0.949778   \n",
       "real_1_CO_trev_1_num                                                               0.811664   \n",
       "real_1_MD_hrv_classic_pnn40                                                       -0.933257   \n",
       "real_1_SB_BinaryStats_mean_longstretch1                                            0.623538   \n",
       "real_1_CO_Embed2_Dist_tau_d_expfit_meandiff                                        0.943006   \n",
       "real_1_DN_OutlierInclude_p_001_mdrmd                                              -0.384894   \n",
       "real_1_DN_OutlierInclude_n_001_mdrmd                                              -0.099684   \n",
       "real_1_SP_Summaries_welch_rect_area_5_1                                            0.852362   \n",
       "real_1_SB_MotifThree_quantile_hh                                                  -0.904246   \n",
       "real_1_SC_FluctAnal_2_rsrangefit_50_1_logi_prop_r1                                -0.142375   \n",
       "real_1_FC_LocalSimple_mean3_stderr                                                -0.906523   \n",
       "\n",
       "                                                    real_2_CO_Embed2_Dist_tau_d_expfit_meandiff  \\\n",
       "real_1_DN_HistogramMode_5                                                              0.901884   \n",
       "real_1_DN_HistogramMode_10                                                             0.523673   \n",
       "real_1_CO_f1ecac                                                                       0.641707   \n",
       "real_1_CO_FirstMin_ac                                                                  0.802745   \n",
       "real_1_CO_HistogramAMI_even_2_5                                                        0.996747   \n",
       "real_1_CO_trev_1_num                                                                   0.886154   \n",
       "real_1_MD_hrv_classic_pnn40                                                           -0.993499   \n",
       "real_1_SB_BinaryStats_mean_longstretch1                                                0.714649   \n",
       "real_1_CO_Embed2_Dist_tau_d_expfit_meandiff                                            0.999277   \n",
       "real_1_DN_OutlierInclude_p_001_mdrmd                                                  -0.537536   \n",
       "real_1_DN_OutlierInclude_n_001_mdrmd                                                  -0.004546   \n",
       "real_1_SP_Summaries_welch_rect_area_5_1                                                0.921572   \n",
       "real_1_SB_MotifThree_quantile_hh                                                      -0.970821   \n",
       "real_1_SC_FluctAnal_2_rsrangefit_50_1_logi_prop_r1                                    -0.184864   \n",
       "real_1_FC_LocalSimple_mean3_stderr                                                    -0.967172   \n",
       "\n",
       "                                                    real_2_DN_OutlierInclude_p_001_mdrmd  \\\n",
       "real_1_DN_HistogramMode_5                                                      -0.701708   \n",
       "real_1_DN_HistogramMode_10                                                     -0.325007   \n",
       "real_1_CO_f1ecac                                                               -0.336883   \n",
       "real_1_CO_FirstMin_ac                                                          -0.516843   \n",
       "real_1_CO_HistogramAMI_even_2_5                                                -0.798197   \n",
       "real_1_CO_trev_1_num                                                           -0.576986   \n",
       "real_1_MD_hrv_classic_pnn40                                                     0.801912   \n",
       "real_1_SB_BinaryStats_mean_longstretch1                                        -0.393280   \n",
       "real_1_CO_Embed2_Dist_tau_d_expfit_meandiff                                    -0.836754   \n",
       "real_1_DN_OutlierInclude_p_001_mdrmd                                            0.581178   \n",
       "real_1_DN_OutlierInclude_n_001_mdrmd                                            0.148817   \n",
       "real_1_SP_Summaries_welch_rect_area_5_1                                        -0.625363   \n",
       "real_1_SB_MotifThree_quantile_hh                                                0.752621   \n",
       "real_1_SC_FluctAnal_2_rsrangefit_50_1_logi_prop_r1                              0.010863   \n",
       "real_1_FC_LocalSimple_mean3_stderr                                              0.703216   \n",
       "\n",
       "                                                    real_2_DN_OutlierInclude_n_001_mdrmd  \\\n",
       "real_1_DN_HistogramMode_5                                                       0.636069   \n",
       "real_1_DN_HistogramMode_10                                                      0.255372   \n",
       "real_1_CO_f1ecac                                                               -0.071063   \n",
       "real_1_CO_FirstMin_ac                                                           0.368715   \n",
       "real_1_CO_HistogramAMI_even_2_5                                                 0.537983   \n",
       "real_1_CO_trev_1_num                                                            0.195983   \n",
       "real_1_MD_hrv_classic_pnn40                                                    -0.515900   \n",
       "real_1_SB_BinaryStats_mean_longstretch1                                        -0.038152   \n",
       "real_1_CO_Embed2_Dist_tau_d_expfit_meandiff                                     0.582400   \n",
       "real_1_DN_OutlierInclude_p_001_mdrmd                                           -0.414634   \n",
       "real_1_DN_OutlierInclude_n_001_mdrmd                                           -0.530783   \n",
       "real_1_SP_Summaries_welch_rect_area_5_1                                         0.263143   \n",
       "real_1_SB_MotifThree_quantile_hh                                               -0.404555   \n",
       "real_1_SC_FluctAnal_2_rsrangefit_50_1_logi_prop_r1                              0.176967   \n",
       "real_1_FC_LocalSimple_mean3_stderr                                             -0.378838   \n",
       "\n",
       "                                                    real_2_SP_Summaries_welch_rect_area_5_1  \\\n",
       "real_1_DN_HistogramMode_5                                                          0.792016   \n",
       "real_1_DN_HistogramMode_10                                                         0.527420   \n",
       "real_1_CO_f1ecac                                                                   0.810689   \n",
       "real_1_CO_FirstMin_ac                                                              0.817725   \n",
       "real_1_CO_HistogramAMI_even_2_5                                                    0.938081   \n",
       "real_1_CO_trev_1_num                                                               0.995479   \n",
       "real_1_MD_hrv_classic_pnn40                                                       -0.941851   \n",
       "real_1_SB_BinaryStats_mean_longstretch1                                            0.903477   \n",
       "real_1_CO_Embed2_Dist_tau_d_expfit_meandiff                                        0.914923   \n",
       "real_1_DN_OutlierInclude_p_001_mdrmd                                              -0.439549   \n",
       "real_1_DN_OutlierInclude_n_001_mdrmd                                               0.281643   \n",
       "real_1_SP_Summaries_welch_rect_area_5_1                                            0.999980   \n",
       "real_1_SB_MotifThree_quantile_hh                                                  -0.973100   \n",
       "real_1_SC_FluctAnal_2_rsrangefit_50_1_logi_prop_r1                                -0.375661   \n",
       "real_1_FC_LocalSimple_mean3_stderr                                                -0.990039   \n",
       "\n",
       "                                                    real_2_SB_MotifThree_quantile_hh  \\\n",
       "real_1_DN_HistogramMode_5                                                  -0.826374   \n",
       "real_1_DN_HistogramMode_10                                                 -0.557276   \n",
       "real_1_CO_f1ecac                                                           -0.773038   \n",
       "real_1_CO_FirstMin_ac                                                      -0.844382   \n",
       "real_1_CO_HistogramAMI_even_2_5                                            -0.962921   \n",
       "real_1_CO_trev_1_num                                                       -0.974659   \n",
       "real_1_MD_hrv_classic_pnn40                                                 0.962168   \n",
       "real_1_SB_BinaryStats_mean_longstretch1                                    -0.864750   \n",
       "real_1_CO_Embed2_Dist_tau_d_expfit_meandiff                                -0.944809   \n",
       "real_1_DN_OutlierInclude_p_001_mdrmd                                        0.462549   \n",
       "real_1_DN_OutlierInclude_n_001_mdrmd                                       -0.206978   \n",
       "real_1_SP_Summaries_welch_rect_area_5_1                                    -0.988120   \n",
       "real_1_SB_MotifThree_quantile_hh                                            0.979690   \n",
       "real_1_SC_FluctAnal_2_rsrangefit_50_1_logi_prop_r1                          0.323362   \n",
       "real_1_FC_LocalSimple_mean3_stderr                                          0.993396   \n",
       "\n",
       "                                                    real_2_SC_FluctAnal_2_rsrangefit_50_1_logi_prop_r1  \\\n",
       "real_1_DN_HistogramMode_5                                                                   -0.582629    \n",
       "real_1_DN_HistogramMode_10                                                                  -0.681699    \n",
       "real_1_CO_f1ecac                                                                            -0.808085    \n",
       "real_1_CO_FirstMin_ac                                                                       -0.806727    \n",
       "real_1_CO_HistogramAMI_even_2_5                                                             -0.765799    \n",
       "real_1_CO_trev_1_num                                                                        -0.862409    \n",
       "real_1_MD_hrv_classic_pnn40                                                                  0.774487    \n",
       "real_1_SB_BinaryStats_mean_longstretch1                                                     -0.831291    \n",
       "real_1_CO_Embed2_Dist_tau_d_expfit_meandiff                                                 -0.724107    \n",
       "real_1_DN_OutlierInclude_p_001_mdrmd                                                         0.330419    \n",
       "real_1_DN_OutlierInclude_n_001_mdrmd                                                        -0.346132    \n",
       "real_1_SP_Summaries_welch_rect_area_5_1                                                     -0.860252    \n",
       "real_1_SB_MotifThree_quantile_hh                                                             0.808659    \n",
       "real_1_SC_FluctAnal_2_rsrangefit_50_1_logi_prop_r1                                           0.307189    \n",
       "real_1_FC_LocalSimple_mean3_stderr                                                           0.835732    \n",
       "\n",
       "                                                    real_2_FC_LocalSimple_mean3_stderr  \n",
       "real_1_DN_HistogramMode_5                                                    -0.844235  \n",
       "real_1_DN_HistogramMode_10                                                   -0.549044  \n",
       "real_1_CO_f1ecac                                                             -0.773753  \n",
       "real_1_CO_FirstMin_ac                                                        -0.837609  \n",
       "real_1_CO_HistogramAMI_even_2_5                                              -0.972713  \n",
       "real_1_CO_trev_1_num                                                         -0.976073  \n",
       "real_1_MD_hrv_classic_pnn40                                                   0.973583  \n",
       "real_1_SB_BinaryStats_mean_longstretch1                                      -0.857697  \n",
       "real_1_CO_Embed2_Dist_tau_d_expfit_meandiff                                  -0.955848  \n",
       "real_1_DN_OutlierInclude_p_001_mdrmd                                          0.469268  \n",
       "real_1_DN_OutlierInclude_n_001_mdrmd                                         -0.183873  \n",
       "real_1_SP_Summaries_welch_rect_area_5_1                                      -0.991446  \n",
       "real_1_SB_MotifThree_quantile_hh                                              0.987198  \n",
       "real_1_SC_FluctAnal_2_rsrangefit_50_1_logi_prop_r1                            0.305597  \n",
       "real_1_FC_LocalSimple_mean3_stderr                                            0.999847  "
      ]
     },
     "execution_count": 7,
     "metadata": {},
     "output_type": "execute_result"
    }
   ],
   "source": [
    "real_not_nan"
   ]
  },
  {
   "cell_type": "markdown",
   "metadata": {},
   "source": [
    "### Plotting Correlation"
   ]
  },
  {
   "cell_type": "code",
   "execution_count": 8,
   "metadata": {},
   "outputs": [
    {
     "data": {
      "application/vnd.plotly.v1+json": {
       "config": {
        "plotlyServerURL": "https://plot.ly"
       },
       "data": [
        {
         "coloraxis": "coloraxis",
         "hovertemplate": "Channel 1: %{x}<br>Channel 2: %{y}<br>Correlation: %{z}<extra></extra>",
         "name": "0",
         "type": "heatmap",
         "x": [
          "real_2_DN_HistogramMode_5",
          "real_2_DN_HistogramMode_10",
          "real_2_CO_f1ecac",
          "real_2_CO_FirstMin_ac",
          "real_2_CO_HistogramAMI_even_2_5",
          "real_2_CO_trev_1_num",
          "real_2_MD_hrv_classic_pnn40",
          "real_2_SB_BinaryStats_mean_longstretch1",
          "real_2_CO_Embed2_Dist_tau_d_expfit_meandiff",
          "real_2_DN_OutlierInclude_p_001_mdrmd",
          "real_2_DN_OutlierInclude_n_001_mdrmd",
          "real_2_SP_Summaries_welch_rect_area_5_1",
          "real_2_SB_MotifThree_quantile_hh",
          "real_2_SC_FluctAnal_2_rsrangefit_50_1_logi_prop_r1",
          "real_2_FC_LocalSimple_mean3_stderr"
         ],
         "xaxis": "x",
         "y": [
          "real_1_DN_HistogramMode_5",
          "real_1_DN_HistogramMode_10",
          "real_1_CO_f1ecac",
          "real_1_CO_FirstMin_ac",
          "real_1_CO_HistogramAMI_even_2_5",
          "real_1_CO_trev_1_num",
          "real_1_MD_hrv_classic_pnn40",
          "real_1_SB_BinaryStats_mean_longstretch1",
          "real_1_CO_Embed2_Dist_tau_d_expfit_meandiff",
          "real_1_DN_OutlierInclude_p_001_mdrmd",
          "real_1_DN_OutlierInclude_n_001_mdrmd",
          "real_1_SP_Summaries_welch_rect_area_5_1",
          "real_1_SB_MotifThree_quantile_hh",
          "real_1_SC_FluctAnal_2_rsrangefit_50_1_logi_prop_r1",
          "real_1_FC_LocalSimple_mean3_stderr"
         ],
         "yaxis": "y",
         "z": [
          [
           -0.8300742484038887,
           -0.13431464605602156,
           0.8825453532975638,
           -0.16151440723974478,
           0.9137907116836271,
           -0.701503325157948,
           -0.8921836258888606,
           0.8937309534085202,
           0.9018843334763798,
           -0.7017075229110417,
           0.6360688097597171,
           0.7920160362043185,
           -0.8263743775875185,
           -0.5826288944907259,
           -0.8442346535019515
          ],
          [
           -0.58041728777237,
           -0.4936922288580775,
           0.3843422332725047,
           -0.4133915232382141,
           0.5646905676965941,
           -0.4769759284375203,
           -0.5326812164093703,
           0.571778869931364,
           0.5236732931538431,
           -0.32500730702932806,
           0.2553718009374906,
           0.527419505419468,
           -0.5572763386345392,
           -0.6816985656821922,
           -0.5490439267335857
          ],
          [
           -0.5384978504603127,
           -0.4265384755627947,
           0.4452114356856445,
           -0.2097616732763949,
           0.6851980447336021,
           -0.8359423429253201,
           -0.6230999676692169,
           0.5677589836572983,
           0.6417071056487516,
           -0.33688291639905776,
           -0.07106257889840578,
           0.8106889078890072,
           -0.773037955206312,
           -0.8080851980629322,
           -0.7737528201607424
          ],
          [
           -0.8421054750542005,
           -0.48942932800932043,
           0.6239879193864272,
           -0.23793855904716754,
           0.8464626545734819,
           -0.7631406429365846,
           -0.7980145556844511,
           0.8279567733113614,
           0.8027448149877082,
           -0.516842593514295,
           0.36871511147539826,
           0.8177247142215261,
           -0.8443816584132361,
           -0.8067274914358569,
           -0.8376086164950897
          ],
          [
           -0.8619230939015766,
           -0.19875397027076547,
           0.8836502853310282,
           -0.1399403185261062,
           0.9933941576362563,
           -0.8680996223805452,
           -0.9892124622053597,
           0.9497780296156875,
           0.9967465953392896,
           -0.7981967815086167,
           0.5379830675780324,
           0.9380805544049339,
           -0.9629211552346113,
           -0.7657986648283286,
           -0.9727134534244534
          ],
          [
           -0.7606307316844685,
           -0.3263126228336897,
           0.7201263789788679,
           0.05979905162410306,
           0.9201348312227488,
           -0.9969083406298087,
           -0.8588989709416042,
           0.8116640191792424,
           0.8861537934105895,
           -0.5769864612183693,
           0.19598311066173874,
           0.9954793129254272,
           -0.9746589079784316,
           -0.8624094216106865,
           -0.9760725592064275
          ],
          [
           0.8489551520560814,
           0.2001397510527698,
           -0.852922275031108,
           0.15214378489590744,
           -0.9859399086942725,
           0.8755016657081809,
           0.9887455161354091,
           -0.9332566599777397,
           -0.9934994112379466,
           0.8019124139053607,
           -0.5158999485040622,
           -0.9418509076059493,
           0.9621680300117229,
           0.7744865963388181,
           0.9735833216161589
          ],
          [
           -0.6024588406950844,
           -0.36287006812224304,
           0.5187564097047854,
           0.21839502201052324,
           0.7631272325466875,
           -0.9410965148355529,
           -0.6779039957344908,
           0.6235376328592486,
           0.7146493795092791,
           -0.3932802211092379,
           -0.03815231540528006,
           0.9034769241835063,
           -0.8647498913806082,
           -0.8312908308492506,
           -0.8576972025435918
          ],
          [
           -0.8489109551227978,
           -0.14385530139494657,
           0.887135680454045,
           -0.14420811246602439,
           0.9833533099148397,
           -0.8378175997177555,
           -0.9952922716858008,
           0.943006253731493,
           0.9992768947421617,
           -0.8367543277466338,
           0.5824003468879095,
           0.9149229566070661,
           -0.9448085438887898,
           -0.7241074279220368,
           -0.9558482023360336
          ],
          [
           0.3698836352317246,
           -0.0902229444546094,
           -0.39123416505006536,
           0.06953421529585466,
           -0.480687596493635,
           0.3927133304168238,
           0.5529865831858196,
           -0.3848942860183914,
           -0.5375364649550034,
           0.5811782046545289,
           -0.4146339870856275,
           -0.43954890279127884,
           0.4625490905284461,
           0.33041941231793914,
           0.4692679140539145
          ],
          [
           0.14598741664169204,
           -0.13998677691897468,
           -0.11848488088824914,
           0.4236694762863375,
           0.027003670231500666,
           -0.4121470247843866,
           0.03728409789314959,
           -0.09968437019293405,
           -0.004546339128685288,
           0.14881724451373543,
           -0.530783390103624,
           0.28164278276557503,
           -0.20697756294597966,
           -0.3461323824936836,
           -0.1838731450940676
          ],
          [
           -0.7994561380580694,
           -0.3175005787069337,
           0.7594822980528614,
           0.00928985777554462,
           0.950050058404434,
           -0.9860083638052163,
           -0.8974552275003076,
           0.8523618950108517,
           0.9215720682593039,
           -0.6253629422394618,
           0.26314269789510675,
           0.9999800586695973,
           -0.9881203444760862,
           -0.8602517296065463,
           -0.9914457335166323
          ],
          [
           0.8161917668990539,
           0.2326450253518605,
           -0.8054252371237766,
           0.06252894763488225,
           -0.9710957445640215,
           0.9295684162371443,
           0.9580740779882051,
           -0.9042464440968563,
           -0.9708208278571719,
           0.7526205447541475,
           -0.40455501098741387,
           -0.9731004964284915,
           0.9796900361660605,
           0.8086585352664097,
           0.9871976241859194
          ],
          [
           0.07192009846854569,
           0.009910629189689489,
           -0.19368655532013965,
           -0.427240475650454,
           -0.21841452108507314,
           0.4746491740330504,
           0.16378002406515538,
           -0.1423748130386173,
           -0.1848636788752777,
           0.010863471197230351,
           0.17696664446255153,
           -0.3756612043835178,
           0.32336176258210125,
           0.30718905117786743,
           0.3055974450306813
          ],
          [
           0.8455922607610357,
           0.28263097547478316,
           -0.8184753681327017,
           0.06342769358083737,
           -0.9839566192236898,
           0.9512395777572193,
           0.9491752088922731,
           -0.9065230569402467,
           -0.9671718127888901,
           0.7032156880843056,
           -0.37883787503945043,
           -0.9900394980592856,
           0.9933963563489641,
           0.8357319798298738,
           0.9998471042317235
          ]
         ]
        },
        {
         "coloraxis": "coloraxis",
         "hovertemplate": "Channel 1: %{x}<br>Channel 2: %{y}<br>Correlation: %{z}<extra></extra>",
         "name": "0",
         "type": "heatmap",
         "x": [
          "generated_without_CD_2_DN_HistogramMode_5",
          "generated_without_CD_2_DN_HistogramMode_10",
          "generated_without_CD_2_CO_f1ecac",
          "generated_without_CD_2_CO_FirstMin_ac",
          "generated_without_CD_2_CO_HistogramAMI_even_2_5",
          "generated_without_CD_2_CO_trev_1_num",
          "generated_without_CD_2_MD_hrv_classic_pnn40",
          "generated_without_CD_2_SB_BinaryStats_mean_longstretch1",
          "generated_without_CD_2_CO_Embed2_Dist_tau_d_expfit_meandiff",
          "generated_without_CD_2_DN_OutlierInclude_p_001_mdrmd",
          "generated_without_CD_2_DN_OutlierInclude_n_001_mdrmd",
          "generated_without_CD_2_SP_Summaries_welch_rect_area_5_1",
          "generated_without_CD_2_SB_MotifThree_quantile_hh",
          "generated_without_CD_2_SC_FluctAnal_2_rsrangefit_50_1_logi_prop_r1",
          "generated_without_CD_2_FC_LocalSimple_mean3_stderr"
         ],
         "xaxis": "x2",
         "y": [
          "generated_without_CD_1_DN_HistogramMode_5",
          "generated_without_CD_1_DN_HistogramMode_10",
          "generated_without_CD_1_CO_f1ecac",
          "generated_without_CD_1_CO_FirstMin_ac",
          "generated_without_CD_1_CO_HistogramAMI_even_2_5",
          "generated_without_CD_1_CO_trev_1_num",
          "generated_without_CD_1_MD_hrv_classic_pnn40",
          "generated_without_CD_1_SB_BinaryStats_mean_longstretch1",
          "generated_without_CD_1_CO_Embed2_Dist_tau_d_expfit_meandiff",
          "generated_without_CD_1_DN_OutlierInclude_p_001_mdrmd",
          "generated_without_CD_1_DN_OutlierInclude_n_001_mdrmd",
          "generated_without_CD_1_SP_Summaries_welch_rect_area_5_1",
          "generated_without_CD_1_SB_MotifThree_quantile_hh",
          "generated_without_CD_1_SC_FluctAnal_2_rsrangefit_50_1_logi_prop_r1",
          "generated_without_CD_1_FC_LocalSimple_mean3_stderr"
         ],
         "yaxis": "y2",
         "z": [
          [
           0.03904683223390554,
           -0.09768421402728175,
           -0.0683729711200443,
           0.03577033693164212,
           -0.06506356412822184,
           0.029719128346195632,
           0.10084605375636932,
           -0.07536923099095102,
           -0.07183190731436238,
           0.10804457964524289,
           0.06231959200481253,
           -0.06398583687577417,
           0.07782153949269706,
           -0.0078966876921246,
           0.06814164666927058
          ],
          [
           -0.0015402683312671515,
           -0.0017301312577722582,
           0.020079978606850544,
           -0.03059513502738857,
           0.011822923249840295,
           0.005693269557704758,
           -0.021045929155638042,
           0.010125640886618721,
           0.015861428474340005,
           -0.005817994954460061,
           -0.03585046068467968,
           0.0062635200243340745,
           -0.010230668225652132,
           0.002212030475985321,
           -0.008695229654963546
          ],
          [
           0.04956139862276675,
           -0.016432789544985858,
           -0.03768796987426666,
           0.03609181866908413,
           -0.04309980488904512,
           0.06734832528600472,
           0.05145686680868447,
           -0.033849460655763705,
           -0.038282971263088904,
           0.0657205231370525,
           0.040163747658190044,
           -0.04812853410628994,
           0.055542135532493986,
           0.010610061106621866,
           0.047994751484249094
          ],
          [
           0.035573776375589804,
           -0.03670224131598173,
           -0.01323381368746803,
           0.03096619424375966,
           -0.028554053181043405,
           0.04916142121012524,
           0.04211587955322709,
           -0.02832759669802861,
           -0.028328632299979957,
           0.08744166490143436,
           0.03229284290638934,
           -0.03438615298521953,
           0.03850134205283938,
           -0.014410437269827886,
           0.03406642907050191
          ],
          [
           0.11809681667807233,
           -0.08558665401457059,
           -0.08710314252345948,
           0.07011693322246769,
           -0.12176866690134969,
           0.09116714580964584,
           0.14518894672293314,
           -0.12409486258455131,
           -0.12184039348359575,
           0.16224730609868757,
           0.06567929963781582,
           -0.12408956416515178,
           0.1366423476105866,
           0.05167665780008283,
           0.12744106158200397
          ],
          [
           -0.021887516911534538,
           -0.027108267928656393,
           0.01822806797053602,
           -0.0290680398527945,
           0.022993490976355165,
           0.009352694929047589,
           0.003062553564227337,
           0.008579276691075428,
           0.02035535274433401,
           0.011261404371033306,
           0.03841766147517231,
           0.023563563801017994,
           -0.02059697136866782,
           -0.04045695372460011,
           -0.022322102047453784
          ],
          [
           -0.13290490401119107,
           0.08092463291403637,
           0.08614514119087793,
           -0.06991244236354764,
           0.12606263487293654,
           -0.089019918877508,
           -0.14658840741267987,
           0.12569842420050809,
           0.12298243256800412,
           -0.15143439105905446,
           -0.058319032016020234,
           0.12531319012367953,
           -0.13814649432959356,
           -0.04769768496088138,
           -0.12875425604242757
          ],
          [
           0.06546066811299547,
           -0.03942481781291586,
           -0.06586893449120071,
           0.04102409817422751,
           -0.06904603854854348,
           0.06456576074858503,
           0.08190563870179329,
           -0.07402540900379495,
           -0.07405875920316307,
           0.10897008860030508,
           0.06392718617207459,
           -0.07453438371691684,
           0.0801357732931884,
           0.026076110444854157,
           0.07605365672360792
          ],
          [
           0.11195184273054858,
           -0.0830518692064678,
           -0.08356259757300309,
           0.06311040135715067,
           -0.11311623526048988,
           0.08091220421623065,
           0.13676237964285737,
           -0.11681419811134895,
           -0.11162868027688239,
           0.15333519139053364,
           0.0716113994446162,
           -0.11461637544380206,
           0.12886044583246692,
           0.04229962956363379,
           0.11765561137026005
          ],
          [
           -0.12281282800646894,
           0.021424602131823536,
           0.04165037085930071,
           -0.045973175263405455,
           0.10800248537480686,
           -0.07674646957134215,
           -0.10566709447378161,
           0.10584598432442859,
           0.1054003246967782,
           -0.1061719686674227,
           0.0085916627595586,
           0.10924549661663223,
           -0.11150886863290824,
           -0.09485295908977395,
           -0.11116663135702794
          ],
          [
           0.01352461363071681,
           0.07221646817912811,
           0.009162281112719066,
           0.020334414074187825,
           0.019770959590081898,
           0.0040444908886484165,
           -0.03340515052679012,
           0.035128407059632674,
           0.017018750499274413,
           -0.04014243242860675,
           0.014919238785207579,
           0.009961236957156882,
           -0.02192431114734415,
           -0.017429843484090157,
           -0.012983430595115312
          ],
          [
           0.0905254373053713,
           -0.060868134910782835,
           -0.07559336216769295,
           0.05991627202422329,
           -0.0932490167466207,
           0.08262713117335306,
           0.11362136037647758,
           -0.09882193457846333,
           -0.09426045309168878,
           0.13611452689803671,
           0.07449391800766506,
           -0.09888969220814871,
           0.1080695906578854,
           0.037439711371767735,
           0.10101862397627548
          ],
          [
           -0.12529356300834055,
           0.06692622357549734,
           0.08602765610918224,
           -0.06319533466490275,
           0.11932166477779285,
           -0.09147618305604359,
           -0.13522060708029912,
           0.11891178469368859,
           0.11655071462327869,
           -0.15186095207639222,
           -0.059124917447696365,
           0.12109933899242453,
           -0.1319393180589736,
           -0.0494741146465097,
           -0.1239927006643937
          ],
          [
           -0.022537251624735032,
           0.018128249166966683,
           0.03922573250017071,
           -0.01558051855632293,
           0.023624793037247,
           -0.019908462251324116,
           -0.03206703795744954,
           0.034769305158937246,
           0.018459145253458778,
           -0.08916693524762916,
           -0.04923388000001734,
           0.02684265262185996,
           -0.023919693699849674,
           -0.013915699918326438,
           -0.02689969226651764
          ],
          [
           -0.10352203654337137,
           0.07214835229142096,
           0.08090765962779028,
           -0.06521160450361237,
           0.1064624425237879,
           -0.08716969667836325,
           -0.1290294239740174,
           0.11162911358026902,
           0.10763563771772376,
           -0.1487944742908853,
           -0.07141847764410966,
           0.11077542759977402,
           -0.12164216312344986,
           -0.042404178815099336,
           -0.11348499920422127
          ]
         ]
        },
        {
         "coloraxis": "coloraxis",
         "hovertemplate": "Channel 1: %{x}<br>Channel 2: %{y}<br>Correlation: %{z}<extra></extra>",
         "name": "0",
         "type": "heatmap",
         "x": [
          "generated_with_CD_2_DN_HistogramMode_5",
          "generated_with_CD_2_DN_HistogramMode_10",
          "generated_with_CD_2_CO_f1ecac",
          "generated_with_CD_2_CO_FirstMin_ac",
          "generated_with_CD_2_CO_HistogramAMI_even_2_5",
          "generated_with_CD_2_CO_trev_1_num",
          "generated_with_CD_2_MD_hrv_classic_pnn40",
          "generated_with_CD_2_SB_BinaryStats_mean_longstretch1",
          "generated_with_CD_2_CO_Embed2_Dist_tau_d_expfit_meandiff",
          "generated_with_CD_2_DN_OutlierInclude_p_001_mdrmd",
          "generated_with_CD_2_DN_OutlierInclude_n_001_mdrmd",
          "generated_with_CD_2_SP_Summaries_welch_rect_area_5_1",
          "generated_with_CD_2_SB_MotifThree_quantile_hh",
          "generated_with_CD_2_SC_FluctAnal_2_rsrangefit_50_1_logi_prop_r1",
          "generated_with_CD_2_FC_LocalSimple_mean3_stderr"
         ],
         "xaxis": "x3",
         "y": [
          "generated_with_CD_1_DN_HistogramMode_5",
          "generated_with_CD_1_DN_HistogramMode_10",
          "generated_with_CD_1_CO_f1ecac",
          "generated_with_CD_1_CO_FirstMin_ac",
          "generated_with_CD_1_CO_HistogramAMI_even_2_5",
          "generated_with_CD_1_CO_trev_1_num",
          "generated_with_CD_1_MD_hrv_classic_pnn40",
          "generated_with_CD_1_SB_BinaryStats_mean_longstretch1",
          "generated_with_CD_1_CO_Embed2_Dist_tau_d_expfit_meandiff",
          "generated_with_CD_1_DN_OutlierInclude_p_001_mdrmd",
          "generated_with_CD_1_DN_OutlierInclude_n_001_mdrmd",
          "generated_with_CD_1_SP_Summaries_welch_rect_area_5_1",
          "generated_with_CD_1_SB_MotifThree_quantile_hh",
          "generated_with_CD_1_SC_FluctAnal_2_rsrangefit_50_1_logi_prop_r1",
          "generated_with_CD_1_FC_LocalSimple_mean3_stderr"
         ],
         "yaxis": "y3",
         "z": [
          [
           -0.5790929398593523,
           0.09492503617054279,
           0.5361493988183831,
           -0.305604346160425,
           0.7395223556303392,
           -0.5288762469120956,
           -0.6188654846040719,
           0.6370514141858411,
           0.6786357740961731,
           -0.2119394867302277,
           0.2938792150259105,
           0.711035160883923,
           -0.7146268697875346,
           -0.45475944170410193,
           -0.7170797354068235
          ],
          [
           0.037413172318576854,
           -0.2092296818863837,
           -0.3139530761418183,
           -0.020969973247366533,
           -0.20247629179547766,
           0.06778528227658931,
           0.19876909362692674,
           -0.2576815014763459,
           -0.2212137871646186,
           0.15964957715268355,
           -0.13507086054544384,
           -0.15760919492313502,
           0.14255338546920948,
           0.0022343874178373624,
           0.18070218862082987
          ],
          [
           -0.1634593505965803,
           -0.024154549278995272,
           0.10390908852497166,
           -0.10175759144265323,
           0.22964396895669192,
           -0.33315216231154215,
           -0.16828754291895162,
           0.1966752324188671,
           0.22070927418488587,
           -0.04537068011614019,
           0.017445821720426753,
           0.29215515049569735,
           -0.2656607197038655,
           -0.3143216068698437,
           -0.2687598242694165
          ],
          [
           -0.33790787957290347,
           -0.0234008971322339,
           0.22990804821567845,
           -0.23944943565057938,
           0.42432533815753976,
           -0.49698567162234325,
           -0.32360298098190354,
           0.3475242595411249,
           0.3972786617741399,
           -0.09465749189763299,
           0.06232808045920213,
           0.4768711642079401,
           -0.4574493320908811,
           -0.4517259863639124,
           -0.45326223713899244
          ],
          [
           -0.5406157884649464,
           0.3432927759873777,
           0.8205006945410593,
           -0.2872800821316725,
           0.8954857373661982,
           -0.6483766974040835,
           -0.813944538809178,
           0.8138314955990322,
           0.8829044847843148,
           -0.41616861578310427,
           0.4460739564923071,
           0.8494489824190944,
           -0.8278897839382974,
           -0.47331669336911947,
           -0.87253504932026
          ],
          [
           0.02044878558416767,
           0.0018777867294800237,
           0.12650611595451583,
           0.14186637260127422,
           -0.023004112104294785,
           0.2577778918768816,
           0.036881706447268806,
           0.019468684697478467,
           -0.06821459274645898,
           0.0452466480320021,
           0.05695572883807541,
           -0.10787826918006878,
           0.09376357902420415,
           0.219481315195144,
           0.08446927147677127
          ],
          [
           0.46091571528016667,
           -0.39146579458632963,
           -0.8328549273908665,
           0.24285178045445865,
           -0.8509992654183672,
           0.6063268129965484,
           0.8012094191836953,
           -0.7797652485799941,
           -0.8575012391800629,
           0.4373420426658659,
           -0.47085965347211833,
           -0.7968400120238273,
           0.7747353530018272,
           0.4056385887203863,
           0.8266854905431522
          ],
          [
           -0.38390261520858476,
           0.005180627340279255,
           0.27645928016912225,
           -0.34700551444689215,
           0.4902827660196568,
           -0.5387522911985608,
           -0.401087962579194,
           0.41193677999004674,
           0.4662953071570795,
           -0.13842211777302663,
           0.11587469373704842,
           0.546302462708053,
           -0.5296163627030555,
           -0.5245933415518294,
           -0.5248684992972023
          ],
          [
           -0.5009645576083477,
           0.39287080834972976,
           0.8051572388747948,
           -0.259844911810325,
           0.870914780943555,
           -0.6302420170353046,
           -0.8142126696018664,
           0.7888265523129946,
           0.8810679200979659,
           -0.4553650951177228,
           0.45967069300787144,
           0.824868182946384,
           -0.8038268527443471,
           -0.44327706010323303,
           -0.8520348340148558
          ],
          [
           0.16424288521346495,
           -0.009625405170589022,
           -0.35327785098872744,
           0.07142111039193318,
           -0.28992497298121445,
           0.17992901994746271,
           0.21786671048376752,
           -0.2622259722801526,
           -0.2417277185287223,
           0.039144735826093555,
           -0.13930857748028133,
           -0.25139575802826397,
           0.24539702684292822,
           0.12168579816641568,
           0.2575351399479195
          ],
          [
           -0.13851381636014204,
           -0.24153009985653714,
           -0.02623763981701162,
           -0.09108324056421323,
           0.07872920866924353,
           -0.16212482142868892,
           0.05027933923446683,
           0.07474665854446225,
           0.0048619336333669575,
           0.17543030115351896,
           -0.14572432252459633,
           0.13979897321322007,
           -0.11385351070602089,
           -0.25867181488689245,
           -0.09981136158891975
          ],
          [
           -0.5559230432883128,
           0.2255894551524433,
           0.7111560458438145,
           -0.3284142594447799,
           0.8516319011936987,
           -0.6761106029378091,
           -0.746316565685807,
           0.7579682035350083,
           0.8239751119075288,
           -0.33702828536958696,
           0.3625104332004961,
           0.8404129482224095,
           -0.816513818585846,
           -0.5574808162364782,
           -0.8468612554315499
          ],
          [
           0.4485544820404196,
           -0.3902623563044109,
           -0.8072472973532611,
           0.24222057163195665,
           -0.8273032666525121,
           0.618359934529865,
           0.7820776852065948,
           -0.7560651452268798,
           -0.8430119792172529,
           0.44107812329553275,
           -0.45652621589955683,
           -0.7852038612228882,
           0.7573610213890467,
           0.42675338277953145,
           0.8115426240369512
          ],
          [
           0.0962581768394901,
           0.006871974482445562,
           -0.03915582649324716,
           -0.004166095461854685,
           -0.0793236850243433,
           -0.005460113418898447,
           0.061402460233660874,
           -0.07411268239793722,
           -0.0751213861826396,
           0.019312375726079137,
           -0.00595736503249951,
           -0.0899458961290871,
           0.08628931803007313,
           0.13938289298246406,
           0.08664330565262963
          ],
          [
           0.5595400660172287,
           -0.26961108312773535,
           -0.7655022724992513,
           0.3163319487790927,
           -0.8823502861558313,
           0.6766506219907089,
           0.7830477298981203,
           -0.7902423594135581,
           -0.8589339166641958,
           0.37023891988646995,
           -0.4012081884510808,
           -0.8574678759345706,
           0.8342663889282468,
           0.5330827527844457,
           0.8701869915808107
          ]
         ]
        }
       ],
       "layout": {
        "annotations": [
         {
          "font": {
           "size": 16
          },
          "showarrow": false,
          "text": "Real Data",
          "x": 0.14444444444444446,
          "xanchor": "center",
          "xref": "paper",
          "y": 1,
          "yanchor": "bottom",
          "yref": "paper"
         },
         {
          "font": {
           "size": 16
          },
          "showarrow": false,
          "text": "Without CD",
          "x": 0.5,
          "xanchor": "center",
          "xref": "paper",
          "y": 1,
          "yanchor": "bottom",
          "yref": "paper"
         },
         {
          "font": {
           "size": 16
          },
          "showarrow": false,
          "text": "With CD",
          "x": 0.8555555555555556,
          "xanchor": "center",
          "xref": "paper",
          "y": 1,
          "yanchor": "bottom",
          "yref": "paper"
         }
        ],
        "height": 240,
        "margin": {
         "b": 0,
         "l": 0,
         "r": 0,
         "t": 23
        },
        "template": {
         "data": {
          "bar": [
           {
            "error_x": {
             "color": "#2a3f5f"
            },
            "error_y": {
             "color": "#2a3f5f"
            },
            "marker": {
             "line": {
              "color": "#E5ECF6",
              "width": 0.5
             },
             "pattern": {
              "fillmode": "overlay",
              "size": 10,
              "solidity": 0.2
             }
            },
            "type": "bar"
           }
          ],
          "barpolar": [
           {
            "marker": {
             "line": {
              "color": "#E5ECF6",
              "width": 0.5
             },
             "pattern": {
              "fillmode": "overlay",
              "size": 10,
              "solidity": 0.2
             }
            },
            "type": "barpolar"
           }
          ],
          "carpet": [
           {
            "aaxis": {
             "endlinecolor": "#2a3f5f",
             "gridcolor": "white",
             "linecolor": "white",
             "minorgridcolor": "white",
             "startlinecolor": "#2a3f5f"
            },
            "baxis": {
             "endlinecolor": "#2a3f5f",
             "gridcolor": "white",
             "linecolor": "white",
             "minorgridcolor": "white",
             "startlinecolor": "#2a3f5f"
            },
            "type": "carpet"
           }
          ],
          "choropleth": [
           {
            "colorbar": {
             "outlinewidth": 0,
             "ticks": ""
            },
            "type": "choropleth"
           }
          ],
          "contour": [
           {
            "colorbar": {
             "outlinewidth": 0,
             "ticks": ""
            },
            "colorscale": [
             [
              0,
              "#0d0887"
             ],
             [
              0.1111111111111111,
              "#46039f"
             ],
             [
              0.2222222222222222,
              "#7201a8"
             ],
             [
              0.3333333333333333,
              "#9c179e"
             ],
             [
              0.4444444444444444,
              "#bd3786"
             ],
             [
              0.5555555555555556,
              "#d8576b"
             ],
             [
              0.6666666666666666,
              "#ed7953"
             ],
             [
              0.7777777777777778,
              "#fb9f3a"
             ],
             [
              0.8888888888888888,
              "#fdca26"
             ],
             [
              1,
              "#f0f921"
             ]
            ],
            "type": "contour"
           }
          ],
          "contourcarpet": [
           {
            "colorbar": {
             "outlinewidth": 0,
             "ticks": ""
            },
            "type": "contourcarpet"
           }
          ],
          "heatmap": [
           {
            "colorbar": {
             "outlinewidth": 0,
             "ticks": ""
            },
            "colorscale": [
             [
              0,
              "#0d0887"
             ],
             [
              0.1111111111111111,
              "#46039f"
             ],
             [
              0.2222222222222222,
              "#7201a8"
             ],
             [
              0.3333333333333333,
              "#9c179e"
             ],
             [
              0.4444444444444444,
              "#bd3786"
             ],
             [
              0.5555555555555556,
              "#d8576b"
             ],
             [
              0.6666666666666666,
              "#ed7953"
             ],
             [
              0.7777777777777778,
              "#fb9f3a"
             ],
             [
              0.8888888888888888,
              "#fdca26"
             ],
             [
              1,
              "#f0f921"
             ]
            ],
            "type": "heatmap"
           }
          ],
          "heatmapgl": [
           {
            "colorbar": {
             "outlinewidth": 0,
             "ticks": ""
            },
            "colorscale": [
             [
              0,
              "#0d0887"
             ],
             [
              0.1111111111111111,
              "#46039f"
             ],
             [
              0.2222222222222222,
              "#7201a8"
             ],
             [
              0.3333333333333333,
              "#9c179e"
             ],
             [
              0.4444444444444444,
              "#bd3786"
             ],
             [
              0.5555555555555556,
              "#d8576b"
             ],
             [
              0.6666666666666666,
              "#ed7953"
             ],
             [
              0.7777777777777778,
              "#fb9f3a"
             ],
             [
              0.8888888888888888,
              "#fdca26"
             ],
             [
              1,
              "#f0f921"
             ]
            ],
            "type": "heatmapgl"
           }
          ],
          "histogram": [
           {
            "marker": {
             "pattern": {
              "fillmode": "overlay",
              "size": 10,
              "solidity": 0.2
             }
            },
            "type": "histogram"
           }
          ],
          "histogram2d": [
           {
            "colorbar": {
             "outlinewidth": 0,
             "ticks": ""
            },
            "colorscale": [
             [
              0,
              "#0d0887"
             ],
             [
              0.1111111111111111,
              "#46039f"
             ],
             [
              0.2222222222222222,
              "#7201a8"
             ],
             [
              0.3333333333333333,
              "#9c179e"
             ],
             [
              0.4444444444444444,
              "#bd3786"
             ],
             [
              0.5555555555555556,
              "#d8576b"
             ],
             [
              0.6666666666666666,
              "#ed7953"
             ],
             [
              0.7777777777777778,
              "#fb9f3a"
             ],
             [
              0.8888888888888888,
              "#fdca26"
             ],
             [
              1,
              "#f0f921"
             ]
            ],
            "type": "histogram2d"
           }
          ],
          "histogram2dcontour": [
           {
            "colorbar": {
             "outlinewidth": 0,
             "ticks": ""
            },
            "colorscale": [
             [
              0,
              "#0d0887"
             ],
             [
              0.1111111111111111,
              "#46039f"
             ],
             [
              0.2222222222222222,
              "#7201a8"
             ],
             [
              0.3333333333333333,
              "#9c179e"
             ],
             [
              0.4444444444444444,
              "#bd3786"
             ],
             [
              0.5555555555555556,
              "#d8576b"
             ],
             [
              0.6666666666666666,
              "#ed7953"
             ],
             [
              0.7777777777777778,
              "#fb9f3a"
             ],
             [
              0.8888888888888888,
              "#fdca26"
             ],
             [
              1,
              "#f0f921"
             ]
            ],
            "type": "histogram2dcontour"
           }
          ],
          "mesh3d": [
           {
            "colorbar": {
             "outlinewidth": 0,
             "ticks": ""
            },
            "type": "mesh3d"
           }
          ],
          "parcoords": [
           {
            "line": {
             "colorbar": {
              "outlinewidth": 0,
              "ticks": ""
             }
            },
            "type": "parcoords"
           }
          ],
          "pie": [
           {
            "automargin": true,
            "type": "pie"
           }
          ],
          "scatter": [
           {
            "marker": {
             "colorbar": {
              "outlinewidth": 0,
              "ticks": ""
             }
            },
            "type": "scatter"
           }
          ],
          "scatter3d": [
           {
            "line": {
             "colorbar": {
              "outlinewidth": 0,
              "ticks": ""
             }
            },
            "marker": {
             "colorbar": {
              "outlinewidth": 0,
              "ticks": ""
             }
            },
            "type": "scatter3d"
           }
          ],
          "scattercarpet": [
           {
            "marker": {
             "colorbar": {
              "outlinewidth": 0,
              "ticks": ""
             }
            },
            "type": "scattercarpet"
           }
          ],
          "scattergeo": [
           {
            "marker": {
             "colorbar": {
              "outlinewidth": 0,
              "ticks": ""
             }
            },
            "type": "scattergeo"
           }
          ],
          "scattergl": [
           {
            "marker": {
             "colorbar": {
              "outlinewidth": 0,
              "ticks": ""
             }
            },
            "type": "scattergl"
           }
          ],
          "scattermapbox": [
           {
            "marker": {
             "colorbar": {
              "outlinewidth": 0,
              "ticks": ""
             }
            },
            "type": "scattermapbox"
           }
          ],
          "scatterpolar": [
           {
            "marker": {
             "colorbar": {
              "outlinewidth": 0,
              "ticks": ""
             }
            },
            "type": "scatterpolar"
           }
          ],
          "scatterpolargl": [
           {
            "marker": {
             "colorbar": {
              "outlinewidth": 0,
              "ticks": ""
             }
            },
            "type": "scatterpolargl"
           }
          ],
          "scatterternary": [
           {
            "marker": {
             "colorbar": {
              "outlinewidth": 0,
              "ticks": ""
             }
            },
            "type": "scatterternary"
           }
          ],
          "surface": [
           {
            "colorbar": {
             "outlinewidth": 0,
             "ticks": ""
            },
            "colorscale": [
             [
              0,
              "#0d0887"
             ],
             [
              0.1111111111111111,
              "#46039f"
             ],
             [
              0.2222222222222222,
              "#7201a8"
             ],
             [
              0.3333333333333333,
              "#9c179e"
             ],
             [
              0.4444444444444444,
              "#bd3786"
             ],
             [
              0.5555555555555556,
              "#d8576b"
             ],
             [
              0.6666666666666666,
              "#ed7953"
             ],
             [
              0.7777777777777778,
              "#fb9f3a"
             ],
             [
              0.8888888888888888,
              "#fdca26"
             ],
             [
              1,
              "#f0f921"
             ]
            ],
            "type": "surface"
           }
          ],
          "table": [
           {
            "cells": {
             "fill": {
              "color": "#EBF0F8"
             },
             "line": {
              "color": "white"
             }
            },
            "header": {
             "fill": {
              "color": "#C8D4E3"
             },
             "line": {
              "color": "white"
             }
            },
            "type": "table"
           }
          ]
         },
         "layout": {
          "annotationdefaults": {
           "arrowcolor": "#2a3f5f",
           "arrowhead": 0,
           "arrowwidth": 1
          },
          "autotypenumbers": "strict",
          "coloraxis": {
           "colorbar": {
            "outlinewidth": 0,
            "ticks": ""
           }
          },
          "colorscale": {
           "diverging": [
            [
             0,
             "#8e0152"
            ],
            [
             0.1,
             "#c51b7d"
            ],
            [
             0.2,
             "#de77ae"
            ],
            [
             0.3,
             "#f1b6da"
            ],
            [
             0.4,
             "#fde0ef"
            ],
            [
             0.5,
             "#f7f7f7"
            ],
            [
             0.6,
             "#e6f5d0"
            ],
            [
             0.7,
             "#b8e186"
            ],
            [
             0.8,
             "#7fbc41"
            ],
            [
             0.9,
             "#4d9221"
            ],
            [
             1,
             "#276419"
            ]
           ],
           "sequential": [
            [
             0,
             "#0d0887"
            ],
            [
             0.1111111111111111,
             "#46039f"
            ],
            [
             0.2222222222222222,
             "#7201a8"
            ],
            [
             0.3333333333333333,
             "#9c179e"
            ],
            [
             0.4444444444444444,
             "#bd3786"
            ],
            [
             0.5555555555555556,
             "#d8576b"
            ],
            [
             0.6666666666666666,
             "#ed7953"
            ],
            [
             0.7777777777777778,
             "#fb9f3a"
            ],
            [
             0.8888888888888888,
             "#fdca26"
            ],
            [
             1,
             "#f0f921"
            ]
           ],
           "sequentialminus": [
            [
             0,
             "#0d0887"
            ],
            [
             0.1111111111111111,
             "#46039f"
            ],
            [
             0.2222222222222222,
             "#7201a8"
            ],
            [
             0.3333333333333333,
             "#9c179e"
            ],
            [
             0.4444444444444444,
             "#bd3786"
            ],
            [
             0.5555555555555556,
             "#d8576b"
            ],
            [
             0.6666666666666666,
             "#ed7953"
            ],
            [
             0.7777777777777778,
             "#fb9f3a"
            ],
            [
             0.8888888888888888,
             "#fdca26"
            ],
            [
             1,
             "#f0f921"
            ]
           ]
          },
          "colorway": [
           "#636efa",
           "#EF553B",
           "#00cc96",
           "#ab63fa",
           "#FFA15A",
           "#19d3f3",
           "#FF6692",
           "#B6E880",
           "#FF97FF",
           "#FECB52"
          ],
          "font": {
           "color": "#2a3f5f"
          },
          "geo": {
           "bgcolor": "white",
           "lakecolor": "white",
           "landcolor": "#E5ECF6",
           "showlakes": true,
           "showland": true,
           "subunitcolor": "white"
          },
          "hoverlabel": {
           "align": "left"
          },
          "hovermode": "closest",
          "mapbox": {
           "style": "light"
          },
          "paper_bgcolor": "white",
          "plot_bgcolor": "#E5ECF6",
          "polar": {
           "angularaxis": {
            "gridcolor": "white",
            "linecolor": "white",
            "ticks": ""
           },
           "bgcolor": "#E5ECF6",
           "radialaxis": {
            "gridcolor": "white",
            "linecolor": "white",
            "ticks": ""
           }
          },
          "scene": {
           "xaxis": {
            "backgroundcolor": "#E5ECF6",
            "gridcolor": "white",
            "gridwidth": 2,
            "linecolor": "white",
            "showbackground": true,
            "ticks": "",
            "zerolinecolor": "white"
           },
           "yaxis": {
            "backgroundcolor": "#E5ECF6",
            "gridcolor": "white",
            "gridwidth": 2,
            "linecolor": "white",
            "showbackground": true,
            "ticks": "",
            "zerolinecolor": "white"
           },
           "zaxis": {
            "backgroundcolor": "#E5ECF6",
            "gridcolor": "white",
            "gridwidth": 2,
            "linecolor": "white",
            "showbackground": true,
            "ticks": "",
            "zerolinecolor": "white"
           }
          },
          "shapedefaults": {
           "line": {
            "color": "#2a3f5f"
           }
          },
          "ternary": {
           "aaxis": {
            "gridcolor": "white",
            "linecolor": "white",
            "ticks": ""
           },
           "baxis": {
            "gridcolor": "white",
            "linecolor": "white",
            "ticks": ""
           },
           "bgcolor": "#E5ECF6",
           "caxis": {
            "gridcolor": "white",
            "linecolor": "white",
            "ticks": ""
           }
          },
          "title": {
           "x": 0.05
          },
          "xaxis": {
           "automargin": true,
           "gridcolor": "white",
           "linecolor": "white",
           "ticks": "",
           "title": {
            "standoff": 15
           },
           "zerolinecolor": "white",
           "zerolinewidth": 2
          },
          "yaxis": {
           "automargin": true,
           "gridcolor": "white",
           "linecolor": "white",
           "ticks": "",
           "title": {
            "standoff": 15
           },
           "zerolinecolor": "white",
           "zerolinewidth": 2
          }
         }
        },
        "width": 800,
        "xaxis": {
         "anchor": "y",
         "domain": [
          0,
          0.2888888888888889
         ],
         "showticklabels": false,
         "title": {
          "text": "Feature Channel 1"
         }
        },
        "xaxis2": {
         "anchor": "y2",
         "domain": [
          0.35555555555555557,
          0.6444444444444445
         ],
         "showticklabels": false,
         "title": {
          "text": "Feature Channel 1"
         }
        },
        "xaxis3": {
         "anchor": "y3",
         "domain": [
          0.7111111111111111,
          1
         ],
         "showticklabels": false,
         "title": {
          "text": "Feature Channel 1"
         }
        },
        "yaxis": {
         "anchor": "x",
         "domain": [
          0,
          1
         ],
         "showticklabels": false,
         "title": {
          "text": "Feature Channel 2"
         }
        },
        "yaxis2": {
         "anchor": "x2",
         "domain": [
          0,
          1
         ],
         "showticklabels": false
        },
        "yaxis3": {
         "anchor": "x3",
         "domain": [
          0,
          1
         ],
         "showticklabels": false
        }
       }
      }
     },
     "metadata": {},
     "output_type": "display_data"
    }
   ],
   "source": [
    "fig = make_subplots(rows=1, cols=3, subplot_titles=('Real Data',\n",
    "                                    'Without CD', 'With CD'))\n",
    "\n",
    "fig.add_trace(\n",
    "    px.imshow(real_not_nan, \n",
    "                labels=dict(x=\"Channel 1\", y=\"Channel 2\", color=\"Correlation\"),\n",
    "                color_continuous_scale=px.colors.diverging.RdBu, \n",
    "                range_color=(-1, 1)).data[0], row=1, col=1\n",
    ")\n",
    "# fig.update_layout(\n",
    "#     yaxis_title = 'Channel 2',\n",
    "#     xaxis_title = 'Channel 1',\n",
    "#     )\n",
    "fig.add_trace(\n",
    "    px.imshow(generated_without_CD_not_nan, \n",
    "                labels=dict(x=\"Channel 1\", y=\"Channel 2\", color=\"Correlation\"),\n",
    "                color_continuous_scale=px.colors.diverging.RdBu, \n",
    "                range_color=(-1, 1)).data[0], row=1, col=2\n",
    ")\n",
    "\n",
    "fig.add_trace(\n",
    "    px.imshow(generated_with_CD_not_nan, \n",
    "                labels=dict(x=\"Channel 1\", y=\"Channel 2\", color=\"Correlation\"),\n",
    "                color_continuous_scale=px.colors.diverging.RdBu, \n",
    "                range_color=(-1, 1)).data[0], row=1, col=3\n",
    ")\n",
    "fig.update_xaxes(showticklabels=False) \n",
    "fig.update_yaxes(showticklabels=False) \n",
    "fig.update_xaxes(title_text=\"Feature Channel 1\", row = 1, col = 1)\n",
    "fig.update_yaxes(title_text=\"Feature Channel 2\", row = 1, col = 1)\n",
    "fig.update_xaxes(title_text=\"Feature Channel 1\", row = 1, col = 2)\n",
    "fig.update_xaxes(title_text=\"Feature Channel 1\", row = 1, col = 3)\n",
    "\n",
    "fig.update_layout(height=240, width=800, margin = {'l':0,'r':0,'t':23,'b':0},)\n",
    "fig.show()"
   ]
  },
  {
   "cell_type": "code",
   "execution_count": 9,
   "metadata": {},
   "outputs": [],
   "source": [
    "fig.write_image(\"Simple_Sine_correlation.pdf\")"
   ]
  },
  {
   "cell_type": "markdown",
   "metadata": {},
   "source": [
    "### Spearman's rho"
   ]
  },
  {
   "cell_type": "code",
   "execution_count": 10,
   "metadata": {},
   "outputs": [
    {
     "name": "stdout",
     "output_type": "stream",
     "text": [
      "SPR for Signal 1 without CD:  SpearmanrResult(correlation=-0.7614485882848716, pvalue=7.230463684131775e-44)\n",
      "SPR for Signal 1 with CD:  SpearmanrResult(correlation=0.8475769068689424, pvalue=2.720888255368768e-63)\n"
     ]
    }
   ],
   "source": [
    "SPR_without_CD_1 = stats.spearmanr(np.array(real_not_nan).flatten(), np.array(generated_without_CD_not_nan).flatten())\n",
    "SPR_with_CD_1 = stats.spearmanr(np.array(real_not_nan).flatten(), np.array(generated_with_CD_not_nan).flatten())\n",
    "\n",
    "print(\"SPR for Signal 1 without CD: \", SPR_without_CD_1)\n",
    "print(\"SPR for Signal 1 with CD: \", SPR_with_CD_1)"
   ]
  },
  {
   "cell_type": "markdown",
   "metadata": {},
   "source": [
    "### Kendall's Tau"
   ]
  },
  {
   "cell_type": "code",
   "execution_count": 11,
   "metadata": {},
   "outputs": [
    {
     "name": "stdout",
     "output_type": "stream",
     "text": [
      "KT for Signal 1 without CD: :  KendalltauResult(correlation=-0.5694444444444444, pvalue=4.971821795512218e-37)\n",
      "KT for Signal 1 with CD: :  KendalltauResult(correlation=0.7003174603174603, pvalue=4.174214921324681e-55)\n"
     ]
    }
   ],
   "source": [
    "KT_without_CD_1 = stats.kendalltau(np.array(real_not_nan).flatten(), np.array(generated_without_CD_not_nan).flatten())\n",
    "KT_with_CD_1 = stats.kendalltau(np.array(real_not_nan).flatten(), np.array(generated_with_CD_not_nan).flatten())\n",
    "\n",
    "print(\"KT for Signal 1 without CD: : \", KT_without_CD_1)\n",
    "print(\"KT for Signal 1 with CD: : \", KT_with_CD_1)"
   ]
  },
  {
   "cell_type": "markdown",
   "metadata": {},
   "source": [
    "### Frobenius Norm"
   ]
  },
  {
   "cell_type": "code",
   "execution_count": 12,
   "metadata": {},
   "outputs": [
    {
     "name": "stdout",
     "output_type": "stream",
     "text": [
      "Frobenius Signal for Real 1 without CD:  11.294563762242682\n",
      "Frobenius Signal for Real 1 with CD:  5.6663676360746855\n"
     ]
    }
   ],
   "source": [
    "FBNorm_without_CD_1 = np.linalg.norm(np.array(real_not_nan) - np.array(generated_without_CD_not_nan))\n",
    "FBNorm_with_CD_1 = np.linalg.norm(np.array(real_not_nan )- np.array(generated_with_CD_not_nan))\n",
    "\n",
    "print(\"Frobenius Signal for Real 1 without CD: \", FBNorm_without_CD_1)\n",
    "print(\"Frobenius Signal for Real 1 with CD: \", FBNorm_with_CD_1)"
   ]
  },
  {
   "cell_type": "markdown",
   "metadata": {},
   "source": [
    "### MAE"
   ]
  },
  {
   "cell_type": "code",
   "execution_count": 13,
   "metadata": {},
   "outputs": [
    {
     "name": "stdout",
     "output_type": "stream",
     "text": [
      "MSE of Real Data 1 and Generated Data without CD 1:  0.6711513439057466\n",
      "MSE of Real Data 1 and Generated Data with CD 1:  0.29766086653872936\n"
     ]
    }
   ],
   "source": [
    "MSE_without_CD_1 = np.mean(np.abs(np.array(real_not_nan) - np.array(generated_without_CD_not_nan)))\n",
    "MSE_with_CD_1 = np.mean(np.abs(np.array(real_not_nan) - np.array(generated_with_CD_not_nan)))\n",
    "\n",
    "print(\"MSE of Real Data 1 and Generated Data without CD 1: \", MSE_without_CD_1)\n",
    "print(\"MSE of Real Data 1 and Generated Data with CD 1: \", MSE_with_CD_1)"
   ]
  }
 ],
 "metadata": {
  "interpreter": {
   "hash": "795fc83421f890307230ebafb8698fb30ecd32bfacddc0880c6541ea65902590"
  },
  "kernelspec": {
   "display_name": "Python 3.9.7 64-bit ('research': conda)",
   "language": "python",
   "name": "python3"
  },
  "language_info": {
   "codemirror_mode": {
    "name": "ipython",
    "version": 3
   },
   "file_extension": ".py",
   "mimetype": "text/x-python",
   "name": "python",
   "nbconvert_exporter": "python",
   "pygments_lexer": "ipython3",
   "version": "3.9.7"
  },
  "orig_nbformat": 4
 },
 "nbformat": 4,
 "nbformat_minor": 2
}
